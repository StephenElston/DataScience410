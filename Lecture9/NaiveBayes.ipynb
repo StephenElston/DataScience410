{
 "cells": [
  {
   "cell_type": "markdown",
   "metadata": {},
   "source": [
    "# Introduction to Naive Bayes Models\n",
    "\n",
    "### Data Science 410\n",
    "\n",
    "This notebook introduces you to naive Bayes models. Naive Bayes models are a surprisingly useful and effective simplification of the general Bayesian models. Naive Bayes models make the naive assumption of independence of the features.\n",
    "\n",
    "Some properties of naive Bayes models are:\n",
    "\n",
    "- Do not require a prior.\n",
    "- Computational complexity is linear in number of parameter/features.\n",
    "- Requires minimal data to produce models that generalizes well.\n",
    "- Have a simple and inherent regularization.\n",
    "\n",
    "Naive Bayes models are widely used including for:\n",
    "\n",
    "- Document classification,\n",
    "- SPAM detection,\n",
    "- Image classification,\n",
    "- As a basis for more sophisticated models."
   ]
  },
  {
   "cell_type": "markdown",
   "metadata": {},
   "source": [
    "## Overview of Naive Bayes Models\n",
    "\n",
    "Recall Bayes theorem:\n",
    "\n",
    "$$P(A|B) = P(B|A) \\frac{P(A)}{P(B)}$$\n",
    "\n",
    "Using the chain rule of conditional probabilities, we can create write the joint distribution for the probability of class $C_k$ as: \n",
    "\n",
    "$$\n",
    "p(C_k, x_1, x_2, x_3, \\ldots, x_n) = p(x_1, x_2, x_3, \\ldots, x_n, C_k) \\\\\n",
    "=  p(x_1 | x_2, x_3, \\ldots, x_n, C_k)  p(x_2, x_3, \\ldots, x_n, C_k) \\\\\n",
    "= p(x_1 | x_2, x_3, \\ldots, x_n, C_k)  p(x_2 | x_3, \\ldots, x_n, C_k) p(x_3, \\ldots, x_n, C_k) \\\\\n",
    "\\cdots \\cdots \\\\\\\n",
    "=  p(x_1 | x_2, x_3, \\ldots, x_n, C_k)  p(x_2 | x_3, \\ldots, x_n, C_k) \\dots p(C_k)\n",
    "$$\n",
    "\n",
    "Let the features, $\\{ x_1, x_2, x_3, \\ldots, x_n \\}$, be independent, the above can then be written as:\n",
    "\n",
    "$$p(x_i | x_{i + 1}, x_{i + 2}, \\ldots, x_n, C_k) = p(x_i | C_k)$$\n",
    "\n",
    "This simpification allows us to write the probability of the class $C_k$ as the conditional distribution:\n",
    "\n",
    "$$p(C_k | x_1, x_2, x_3, \\ldots, x_n) \\propto p(C_k) \\prod^N_{j = 1} p(x_j|C_k)$$\n",
    "\n",
    "Given a number of classes, we can find the mostly likely class $\\hat{y}$ as:\n",
    "\n",
    "$$\\hat{y} = argmax_k \\Big[ \\prod^N_{j = 1} p(x_j|C_k) \\Big]$$\n",
    "\n",
    "Notice that the above formulation uses only the emperical probabilities of the features conditioned on the class. Futher no prior distirbution is required. \n"
   ]
  },
  {
   "cell_type": "markdown",
   "metadata": {},
   "source": [
    "### Pitfalls in naive Bayes models\n",
    "\n",
    "There are some well know pitfalls with known solutions, including:\n",
    "\n",
    "- Multiplication of small probabilities leads to floating point underflow. This problem is corrected by computing with the **log probabilities, $ln(p)$**. The maximumization problem then becomes:   \n",
    "\n",
    "$$\\hat{y} = argmax_k \\Big[ \\sum^N_{j = 1} log \\big (p(x_j|C_k) \\big) \\Big]$$\n",
    "\n",
    "- If there are no samples/data then $p(x_j|C_k) = 0$, leading the product of probabilities to be 0. A **Laplace smoother** is used to ensure that all $p(x_.j|C_k) > 0$\n",
    "- Colinear features do not exhibit independence. Ideally, such features should be removed from the the data set to prevent problems with the  model.\n",
    "- Regularization is generally a minor issue with naive Bayes models, as uninformative features tend to a uniform distribution which does not affect the outcome."
   ]
  },
  {
   "cell_type": "markdown",
   "metadata": {},
   "source": [
    "### Types of naive Bayes models\n",
    "\n",
    "Now that we have examined the basics of naive Bayes models, lets look at some specific formulations. It is important to keep in mind that a specific naive Bayes model is required for each class of problem.  \n",
    "\n",
    "The **Multinomial naive Bayes classifier** is a widely used form of the model. The Multinomial classifier finds the mostly likely class from multiple possibilities. To prevent numerical underflow we write this classifier taking the logarithms of both sides of the equation as follows:\n",
    "\n",
    "$$log \\Big( p(C_k | x) \\Big) \\propto\\ log \\Big( p(C_k) \\prod^N_{j = 1} p_{kj}(x_i) \\Big)\\\\\n",
    "= log \\Big( p(C_k) \\Big) + log \\Big( \\sum^N_{j = 1} p_{kj}(x_i) \\Big)$$\n",
    "\n",
    "The most likely class $\\hat{y}$ is then:\n",
    "\n",
    "$$\\hat{y} = argmax_k \\Big[ log \\big( p(C_k) \\big) +  \\sum^N_{j = 1} log \\big( p_{kj}(x_i) \\big) \\Big]$$\n",
    "\n",
    "The multinomial classifier can be simplified for the **Binomial distribution** or binary case as:\n",
    "\n",
    "$$log \\Big( p(x | C_k) \\Big) =  \\sum^N_{j = 1} log \\big( p_{kj}^{x_i} \\big( 1 -  p_{kj}^{(1 - x_i)} \\big) \\big)$$\n"
   ]
  },
  {
   "cell_type": "markdown",
   "metadata": {},
   "source": [
    "### Document classification with naive Bayes\n",
    "\n",
    "Document classification has been one of the most successful applications of the naive Bayes model. There is a good chance that the SPAM filter your email service uses is a naive Bayes model, at least in part. \n",
    "\n",
    "\n",
    "We say that we classify documents by **topics**. The naive Bayes topic model computes the probability that a document, $D$, has topic, $C$, based on the occurrence of the words, $\\{ w_1, w_2, \\ldots, w_n \\}$, using the following relationship:\n",
    "\n",
    "$$p(C|D) \\propto p(C) \\prod_{j = 1}^N p(w_j|C)$$\n",
    "\n",
    "Notice that this topic model allows a document to have a number of topics. For example, we can say the topics of $D$ are the 5 topics with the highest probability.\n",
    "\n",
    "For a SPAM classifier, we only need a Bernoulli topic model:\n",
    "\n",
    "$$p(S+|D) \\propto p(S+) \\prod_{j=1}^N p(w_j|S+)$$\n",
    "\n",
    "An hypothesis test is applied to each message to determine if it is SPAM. We use the **log likelihood ratio** to determine if a given message is SPAM or not. If the ratio is $> 1$ we classify the message as SPAM:\n",
    "\n",
    "$$ln \\Bigg( \\frac{p(S+ | D)}{p(S- | D)} \\Bigg) = p(S+) \\sum_{j = 1}^N log \\big( p(w_j|S+) \\big)\\ -\\ p(S-) \\sum_{j = 1}^N log \\big(  p(w_j|S-) \\big) $$"
   ]
  },
  {
   "cell_type": "markdown",
   "metadata": {},
   "source": [
    "## Example of Naive Bayes Model\n",
    "\n",
    "Let's try a simple example of a naive Bayes model. The .csv file contains data on 16 important votes of the United States House of Representatives from 1984. The first column contains political party and the next columns the votes. There is one row for each of the 435 members of the US House of Representative. We will use this data set to build and test a classifier to predict the political party of these Congresspeople. \n",
    "\n",
    "To start, execute the code in the cell below to load the packages required for this notebook."
   ]
  },
  {
   "cell_type": "code",
   "execution_count": 40,
   "metadata": {},
   "outputs": [],
   "source": [
    "import pandas as pd\n",
    "import numpy as np\n",
    "import numpy.random as nr\n",
    "from patsy import dmatrix\n",
    "import sklearn.naive_bayes\n",
    "import sklearn.metrics\n",
    "import seaborn as sns\n",
    "import matplotlib.pyplot as plt\n",
    "\n",
    "%matplotlib inline"
   ]
  },
  {
   "cell_type": "markdown",
   "metadata": {},
   "source": [
    "Execute the code in the cell below to load the data, standardize the coding of the vote values, and examine the dimensions and head of the data. "
   ]
  },
  {
   "cell_type": "code",
   "execution_count": 2,
   "metadata": {},
   "outputs": [
    {
     "name": "stdout",
     "output_type": "stream",
     "text": [
      "(435, 17)\n"
     ]
    },
    {
     "data": {
      "text/html": [
       "<div>\n",
       "<style scoped>\n",
       "    .dataframe tbody tr th:only-of-type {\n",
       "        vertical-align: middle;\n",
       "    }\n",
       "\n",
       "    .dataframe tbody tr th {\n",
       "        vertical-align: top;\n",
       "    }\n",
       "\n",
       "    .dataframe thead th {\n",
       "        text-align: right;\n",
       "    }\n",
       "</style>\n",
       "<table border=\"1\" class=\"dataframe\">\n",
       "  <thead>\n",
       "    <tr style=\"text-align: right;\">\n",
       "      <th></th>\n",
       "      <th>class</th>\n",
       "      <th>V1</th>\n",
       "      <th>V2</th>\n",
       "      <th>V3</th>\n",
       "      <th>V4</th>\n",
       "      <th>V5</th>\n",
       "      <th>V6</th>\n",
       "      <th>V7</th>\n",
       "      <th>V8</th>\n",
       "      <th>V9</th>\n",
       "      <th>V10</th>\n",
       "      <th>V11</th>\n",
       "      <th>V12</th>\n",
       "      <th>V13</th>\n",
       "      <th>V14</th>\n",
       "      <th>V15</th>\n",
       "      <th>V16</th>\n",
       "    </tr>\n",
       "  </thead>\n",
       "  <tbody>\n",
       "    <tr>\n",
       "      <th>0</th>\n",
       "      <td>republican</td>\n",
       "      <td>n</td>\n",
       "      <td>y</td>\n",
       "      <td>n</td>\n",
       "      <td>y</td>\n",
       "      <td>y</td>\n",
       "      <td>y</td>\n",
       "      <td>n</td>\n",
       "      <td>n</td>\n",
       "      <td>n</td>\n",
       "      <td>y</td>\n",
       "      <td>?</td>\n",
       "      <td>y</td>\n",
       "      <td>y</td>\n",
       "      <td>y</td>\n",
       "      <td>n</td>\n",
       "      <td>y</td>\n",
       "    </tr>\n",
       "    <tr>\n",
       "      <th>1</th>\n",
       "      <td>republican</td>\n",
       "      <td>n</td>\n",
       "      <td>y</td>\n",
       "      <td>n</td>\n",
       "      <td>y</td>\n",
       "      <td>y</td>\n",
       "      <td>y</td>\n",
       "      <td>n</td>\n",
       "      <td>n</td>\n",
       "      <td>n</td>\n",
       "      <td>n</td>\n",
       "      <td>n</td>\n",
       "      <td>y</td>\n",
       "      <td>y</td>\n",
       "      <td>y</td>\n",
       "      <td>n</td>\n",
       "      <td>?</td>\n",
       "    </tr>\n",
       "    <tr>\n",
       "      <th>2</th>\n",
       "      <td>democrat</td>\n",
       "      <td>?</td>\n",
       "      <td>y</td>\n",
       "      <td>y</td>\n",
       "      <td>?</td>\n",
       "      <td>y</td>\n",
       "      <td>y</td>\n",
       "      <td>n</td>\n",
       "      <td>n</td>\n",
       "      <td>n</td>\n",
       "      <td>n</td>\n",
       "      <td>y</td>\n",
       "      <td>n</td>\n",
       "      <td>y</td>\n",
       "      <td>y</td>\n",
       "      <td>n</td>\n",
       "      <td>n</td>\n",
       "    </tr>\n",
       "    <tr>\n",
       "      <th>3</th>\n",
       "      <td>democrat</td>\n",
       "      <td>n</td>\n",
       "      <td>y</td>\n",
       "      <td>y</td>\n",
       "      <td>n</td>\n",
       "      <td>?</td>\n",
       "      <td>y</td>\n",
       "      <td>n</td>\n",
       "      <td>n</td>\n",
       "      <td>n</td>\n",
       "      <td>n</td>\n",
       "      <td>y</td>\n",
       "      <td>n</td>\n",
       "      <td>y</td>\n",
       "      <td>n</td>\n",
       "      <td>n</td>\n",
       "      <td>y</td>\n",
       "    </tr>\n",
       "    <tr>\n",
       "      <th>4</th>\n",
       "      <td>democrat</td>\n",
       "      <td>y</td>\n",
       "      <td>y</td>\n",
       "      <td>y</td>\n",
       "      <td>n</td>\n",
       "      <td>y</td>\n",
       "      <td>y</td>\n",
       "      <td>n</td>\n",
       "      <td>n</td>\n",
       "      <td>n</td>\n",
       "      <td>n</td>\n",
       "      <td>y</td>\n",
       "      <td>?</td>\n",
       "      <td>y</td>\n",
       "      <td>y</td>\n",
       "      <td>y</td>\n",
       "      <td>y</td>\n",
       "    </tr>\n",
       "  </tbody>\n",
       "</table>\n",
       "</div>"
      ],
      "text/plain": [
       "        class V1 V2 V3 V4 V5 V6 V7 V8 V9 V10 V11 V12 V13 V14 V15 V16\n",
       "0  republican  n  y  n  y  y  y  n  n  n   y   ?   y   y   y   n   y\n",
       "1  republican  n  y  n  y  y  y  n  n  n   n   n   y   y   y   n   ?\n",
       "2    democrat  ?  y  y  ?  y  y  n  n  n   n   y   n   y   y   n   n\n",
       "3    democrat  n  y  y  n  ?  y  n  n  n   n   y   n   y   n   n   y\n",
       "4    democrat  y  y  y  n  y  y  n  n  n   n   y   ?   y   y   y   y"
      ]
     },
     "execution_count": 2,
     "metadata": {},
     "output_type": "execute_result"
    }
   ],
   "source": [
    "## Load the data file\n",
    "votes = pd.read_csv('house-votes-84.csv', header=None, \n",
    "                        names=['class', 'V1', 'V2', 'V3', 'V4', 'V5', 'V6', 'V7', 'V8', 'V9', \n",
    "                                   'V10', 'V11', 'V12', 'V13', 'V14', 'V15', 'V16'])\n",
    "\n",
    "## Clean the coding of the votes so they are consistant\n",
    "votes.iloc[:,1:16] = votes.iloc[:,1:16].applymap(lambda x: 'y' if (x=='Y' or x=='and') else x)\n",
    "\n",
    "print(votes.shape)\n",
    "votes.head()"
   ]
  },
  {
   "cell_type": "markdown",
   "metadata": {},
   "source": [
    "Each of the vote columns in the above data frame corresponds to a vote on a specific bill. Execute the code in the cell below to add meaningful column names to the data frame."
   ]
  },
  {
   "cell_type": "code",
   "execution_count": 3,
   "metadata": {
    "scrolled": true
   },
   "outputs": [
    {
     "data": {
      "text/html": [
       "<div>\n",
       "<style scoped>\n",
       "    .dataframe tbody tr th:only-of-type {\n",
       "        vertical-align: middle;\n",
       "    }\n",
       "\n",
       "    .dataframe tbody tr th {\n",
       "        vertical-align: top;\n",
       "    }\n",
       "\n",
       "    .dataframe thead th {\n",
       "        text-align: right;\n",
       "    }\n",
       "</style>\n",
       "<table border=\"1\" class=\"dataframe\">\n",
       "  <thead>\n",
       "    <tr style=\"text-align: right;\">\n",
       "      <th></th>\n",
       "      <th>party</th>\n",
       "      <th>handicapped_infants</th>\n",
       "      <th>water_project_cost_sharing</th>\n",
       "      <th>adoption_of_the_budget_resolution</th>\n",
       "      <th>physician_fee_freeze</th>\n",
       "      <th>el_salvador_aid</th>\n",
       "      <th>religious_groups_in_schools</th>\n",
       "      <th>anti_satellite_test_ban</th>\n",
       "      <th>aid_to_nicaraguan_contras</th>\n",
       "      <th>mx_missile</th>\n",
       "      <th>immigration</th>\n",
       "      <th>synfuels_corporation_cutback</th>\n",
       "      <th>education_spending</th>\n",
       "      <th>superfund_right_to_sue</th>\n",
       "      <th>crime</th>\n",
       "      <th>duty_free_exports</th>\n",
       "      <th>export_administration_act_south_africa</th>\n",
       "    </tr>\n",
       "  </thead>\n",
       "  <tbody>\n",
       "    <tr>\n",
       "      <th>0</th>\n",
       "      <td>republican</td>\n",
       "      <td>n</td>\n",
       "      <td>y</td>\n",
       "      <td>n</td>\n",
       "      <td>y</td>\n",
       "      <td>y</td>\n",
       "      <td>y</td>\n",
       "      <td>n</td>\n",
       "      <td>n</td>\n",
       "      <td>n</td>\n",
       "      <td>y</td>\n",
       "      <td>?</td>\n",
       "      <td>y</td>\n",
       "      <td>y</td>\n",
       "      <td>y</td>\n",
       "      <td>n</td>\n",
       "      <td>y</td>\n",
       "    </tr>\n",
       "    <tr>\n",
       "      <th>1</th>\n",
       "      <td>republican</td>\n",
       "      <td>n</td>\n",
       "      <td>y</td>\n",
       "      <td>n</td>\n",
       "      <td>y</td>\n",
       "      <td>y</td>\n",
       "      <td>y</td>\n",
       "      <td>n</td>\n",
       "      <td>n</td>\n",
       "      <td>n</td>\n",
       "      <td>n</td>\n",
       "      <td>n</td>\n",
       "      <td>y</td>\n",
       "      <td>y</td>\n",
       "      <td>y</td>\n",
       "      <td>n</td>\n",
       "      <td>?</td>\n",
       "    </tr>\n",
       "    <tr>\n",
       "      <th>2</th>\n",
       "      <td>democrat</td>\n",
       "      <td>?</td>\n",
       "      <td>y</td>\n",
       "      <td>y</td>\n",
       "      <td>?</td>\n",
       "      <td>y</td>\n",
       "      <td>y</td>\n",
       "      <td>n</td>\n",
       "      <td>n</td>\n",
       "      <td>n</td>\n",
       "      <td>n</td>\n",
       "      <td>y</td>\n",
       "      <td>n</td>\n",
       "      <td>y</td>\n",
       "      <td>y</td>\n",
       "      <td>n</td>\n",
       "      <td>n</td>\n",
       "    </tr>\n",
       "    <tr>\n",
       "      <th>3</th>\n",
       "      <td>democrat</td>\n",
       "      <td>n</td>\n",
       "      <td>y</td>\n",
       "      <td>y</td>\n",
       "      <td>n</td>\n",
       "      <td>?</td>\n",
       "      <td>y</td>\n",
       "      <td>n</td>\n",
       "      <td>n</td>\n",
       "      <td>n</td>\n",
       "      <td>n</td>\n",
       "      <td>y</td>\n",
       "      <td>n</td>\n",
       "      <td>y</td>\n",
       "      <td>n</td>\n",
       "      <td>n</td>\n",
       "      <td>y</td>\n",
       "    </tr>\n",
       "    <tr>\n",
       "      <th>4</th>\n",
       "      <td>democrat</td>\n",
       "      <td>y</td>\n",
       "      <td>y</td>\n",
       "      <td>y</td>\n",
       "      <td>n</td>\n",
       "      <td>y</td>\n",
       "      <td>y</td>\n",
       "      <td>n</td>\n",
       "      <td>n</td>\n",
       "      <td>n</td>\n",
       "      <td>n</td>\n",
       "      <td>y</td>\n",
       "      <td>?</td>\n",
       "      <td>y</td>\n",
       "      <td>y</td>\n",
       "      <td>y</td>\n",
       "      <td>y</td>\n",
       "    </tr>\n",
       "  </tbody>\n",
       "</table>\n",
       "</div>"
      ],
      "text/plain": [
       "        party handicapped_infants water_project_cost_sharing  \\\n",
       "0  republican                   n                          y   \n",
       "1  republican                   n                          y   \n",
       "2    democrat                   ?                          y   \n",
       "3    democrat                   n                          y   \n",
       "4    democrat                   y                          y   \n",
       "\n",
       "  adoption_of_the_budget_resolution physician_fee_freeze el_salvador_aid  \\\n",
       "0                                 n                    y               y   \n",
       "1                                 n                    y               y   \n",
       "2                                 y                    ?               y   \n",
       "3                                 y                    n               ?   \n",
       "4                                 y                    n               y   \n",
       "\n",
       "  religious_groups_in_schools anti_satellite_test_ban  \\\n",
       "0                           y                       n   \n",
       "1                           y                       n   \n",
       "2                           y                       n   \n",
       "3                           y                       n   \n",
       "4                           y                       n   \n",
       "\n",
       "  aid_to_nicaraguan_contras mx_missile immigration  \\\n",
       "0                         n          n           y   \n",
       "1                         n          n           n   \n",
       "2                         n          n           n   \n",
       "3                         n          n           n   \n",
       "4                         n          n           n   \n",
       "\n",
       "  synfuels_corporation_cutback education_spending superfund_right_to_sue  \\\n",
       "0                            ?                  y                      y   \n",
       "1                            n                  y                      y   \n",
       "2                            y                  n                      y   \n",
       "3                            y                  n                      y   \n",
       "4                            y                  ?                      y   \n",
       "\n",
       "  crime duty_free_exports export_administration_act_south_africa  \n",
       "0     y                 n                                      y  \n",
       "1     y                 n                                      ?  \n",
       "2     y                 n                                      n  \n",
       "3     n                 n                                      y  \n",
       "4     y                 y                                      y  "
      ]
     },
     "execution_count": 3,
     "metadata": {},
     "output_type": "execute_result"
    }
   ],
   "source": [
    "vote_names = [\n",
    "    'handicapped_infants',\n",
    "    'water_project_cost_sharing',\n",
    "    'adoption_of_the_budget_resolution',\n",
    "    'physician_fee_freeze',\n",
    "    'el_salvador_aid',\n",
    "    'religious_groups_in_schools',\n",
    "    'anti_satellite_test_ban',\n",
    "    'aid_to_nicaraguan_contras',\n",
    "    'mx_missile',\n",
    "    'immigration',\n",
    "    'synfuels_corporation_cutback',\n",
    "    'education_spending',\n",
    "    'superfund_right_to_sue',\n",
    "    'crime',\n",
    "    'duty_free_exports',\n",
    "    'export_administration_act_south_africa']\n",
    "\n",
    "votes.columns = ['party'] + vote_names\n",
    "votes.head()"
   ]
  },
  {
   "cell_type": "markdown",
   "metadata": {},
   "source": [
    "### Visualize the Data\n",
    "\n",
    "To further understand this data, let's make some plots of the first 5 votes. To prepare the data from visualization execute the code in the cell below to convert the columns to categorical type."
   ]
  },
  {
   "cell_type": "code",
   "execution_count": 4,
   "metadata": {
    "scrolled": false
   },
   "outputs": [],
   "source": [
    "categories_label = pd.CategoricalDtype(['republican', 'democrat'])\n",
    "votes.loc[:,'party'] = pd.Series(votes.loc[:,'party'], dtype=categories_label)\n",
    "\n",
    "vote_categories =  pd.CategoricalDtype(['y', 'n', '?'])\n",
    "for col in votes.columns[1:]:\n",
    "    votes.loc[:,col] = pd.Series(votes.loc[:,col], dtype=vote_categories)"
   ]
  },
  {
   "cell_type": "markdown",
   "metadata": {},
   "source": [
    "Now, execute the code in the cell below to creates bar plots for these votes faceted by political parties and examine the results."
   ]
  },
  {
   "cell_type": "code",
   "execution_count": 5,
   "metadata": {},
   "outputs": [
    {
     "name": "stderr",
     "output_type": "stream",
     "text": [
      "C:\\Users\\StevePC2\\Anaconda3\\lib\\site-packages\\seaborn\\axisgrid.py:715: UserWarning: Using the countplot function without specifying `order` is likely to produce an incorrect plot.\n",
      "  warnings.warn(warning)\n"
     ]
    },
    {
     "data": {
      "image/png": "[encoded data removed]",
      "text/plain": [
       "<Figure size 432x216 with 2 Axes>"
      ]
     },
     "metadata": {},
     "output_type": "display_data"
    },
    {
     "data": {
      "image/png": "[encoded data removed]",
      "text/plain": [
       "<Figure size 432x216 with 2 Axes>"
      ]
     },
     "metadata": {},
     "output_type": "display_data"
    },
    {
     "data": {
      "image/png": "[encoded data removed]",
      "text/plain": [
       "<Figure size 432x216 with 2 Axes>"
      ]
     },
     "metadata": {},
     "output_type": "display_data"
    },
    {
     "data": {
      "image/png": "[encoded data removed]",
      "text/plain": [
       "<Figure size 432x216 with 2 Axes>"
      ]
     },
     "metadata": {},
     "output_type": "display_data"
    },
    {
     "data": {
      "image/png": "[encoded data removed]",
      "text/plain": [
       "<Figure size 432x216 with 2 Axes>"
      ]
     },
     "metadata": {},
     "output_type": "display_data"
    }
   ],
   "source": [
    "def plot_votes(vote):\n",
    "    sns.set(rc={'figure.figsize':(8,4)})\n",
    "    g = sns.FacetGrid(votes, col=\"party\", margin_titles=True)\n",
    "    g.map(sns.countplot, vote)\n",
    "\n",
    "for vote in votes.columns[1:6]:\n",
    "    plot_votes(vote)    "
   ]
  },
  {
   "cell_type": "markdown",
   "metadata": {},
   "source": [
    "When examining these charts, keep in mind that there are more Democrats than Republican in the 1984 Congress. What is important is the probability of Yes vote or No vote for the members of each party.  These probabilities of votes by party are used to train the naive Bayes model. Some votes are quite skewed by party affiliation, such as 'adoption of the budget resolution'. These features are expected to be predictive. Whereas, some votes have similar probabilities by party, such as 'water project cost sharing', and are not expected to be predictive."
   ]
  },
  {
   "cell_type": "markdown",
   "metadata": {},
   "source": [
    "### A First Naive Bayes Model\n",
    "\n",
    "Now that we understand a bit about the characteristics of the data, its time to train and test a naive Bayes model. The [scikit-learn sklearn.naive_bayes.MultinomialNB](https://scikit-learn.org/stable/modules/generated/sklearn.naive_bayes.MultinomialNB.html) is a naive Bayes model for **multinomial categorical features**. A multinomial feature has more than two possible categories. In this case there are three vote categories, counting the missed vote category, '?'.   \n",
    "\n",
    "In order to build a machine model, we need to construct a **model matrix** or **design matrix**. To construct our model matrix we will use the [patsy package](https://patsy.readthedocs.io/en/latest/). In this case, we want to include all of the features, or votes. Execute the code in the cell below to construct the model formula. "
   ]
  },
  {
   "cell_type": "code",
   "execution_count": 6,
   "metadata": {},
   "outputs": [
    {
     "data": {
      "text/plain": [
       "'handicapped_infants+water_project_cost_sharing+adoption_of_the_budget_resolution+physician_fee_freeze+el_salvador_aid+religious_groups_in_schools+anti_satellite_test_ban+aid_to_nicaraguan_contras+mx_missile+immigration+synfuels_corporation_cutback+education_spending+superfund_right_to_sue+crime+duty_free_exports+export_administration_act_south_africa'"
      ]
     },
     "execution_count": 6,
     "metadata": {},
     "output_type": "execute_result"
    }
   ],
   "source": [
    "vote_formula = ''\n",
    "for vote in votes.columns[1:-1]:\n",
    "    vote_formula = vote_formula + vote + '+' \n",
    "vote_formula = vote_formula  + votes.columns[len(votes.columns)-1:][0]\n",
    "vote_formula"
   ]
  },
  {
   "cell_type": "markdown",
   "metadata": {},
   "source": [
    "The code in the cell below constructs the model matrix using the formula just defined. The label is constructed by converting the label categories to $\\{0,1\\}$ binary values. Execute this code and examine the sample printed."
   ]
  },
  {
   "cell_type": "code",
   "execution_count": 7,
   "metadata": {},
   "outputs": [
    {
     "name": "stdout",
     "output_type": "stream",
     "text": [
      "[0, 0, 1, 1, 1]\n",
      "[[0. 1. 0. 0. 0. 1. 0. 0. 0. 0. 0. 0. 0. 1. 0. 1. 0. 1. 0. 0. 0. 0. 1. 0.\n",
      "  0. 0. 0. 0. 0. 1. 0. 0. 0.]\n",
      " [0. 1. 0. 0. 0. 1. 0. 0. 0. 0. 0. 0. 0. 1. 0. 1. 0. 1. 0. 1. 0. 1. 0. 0.\n",
      "  0. 0. 0. 0. 0. 1. 0. 0. 1.]\n",
      " [0. 0. 1. 0. 0. 0. 0. 0. 1. 0. 0. 0. 0. 1. 0. 1. 0. 1. 0. 1. 0. 0. 0. 1.\n",
      "  0. 0. 0. 0. 0. 1. 0. 1. 0.]\n",
      " [0. 1. 0. 0. 0. 0. 0. 1. 0. 0. 1. 0. 0. 1. 0. 1. 0. 1. 0. 1. 0. 0. 0. 1.\n",
      "  0. 0. 0. 1. 0. 1. 0. 0. 0.]\n",
      " [1. 0. 0. 0. 0. 0. 0. 1. 0. 0. 0. 0. 0. 1. 0. 1. 0. 1. 0. 1. 0. 0. 0. 0.\n",
      "  1. 0. 0. 0. 0. 0. 0. 0. 0.]]\n"
     ]
    }
   ],
   "source": [
    "X_votes = dmatrix(vote_formula + ' - 1', data=votes)\n",
    "y_votes = [0 if x=='republican' else 1 for x in votes.loc[:,'party']]\n",
    "print(y_votes[:5])\n",
    "print(X_votes[:5])"
   ]
  },
  {
   "cell_type": "markdown",
   "metadata": {},
   "source": [
    "With the label and model matrix constructed, it is time to train a naive Bayes model. The model is defined using [sklearn.naive_bayes.MultinomialNB](https://scikit-learn.org/stable/modules/generated/sklearn.naive_bayes.MultinomialNB.html), and then fit or trained. Notice that the **Laplace smoothing parameter** is set to a small value. Execute this code. "
   ]
  },
  {
   "cell_type": "code",
   "execution_count": 8,
   "metadata": {},
   "outputs": [
    {
     "data": {
      "text/plain": [
       "MultinomialNB(alpha=1e-06, class_prior=None, fit_prior=True)"
      ]
     },
     "execution_count": 8,
     "metadata": {},
     "output_type": "execute_result"
    }
   ],
   "source": [
    "# Define the model\n",
    "NB_model = sklearn.naive_bayes.MultinomialNB(alpha=1e-6)\n",
    "# Train the model with the features and labels.\n",
    "nr.seed(234)\n",
    "NB_model.fit(X_votes,y_votes)"
   ]
  },
  {
   "cell_type": "markdown",
   "metadata": {},
   "source": [
    "With the model trained, let's evaluate its performance. We can get a quick overview of the model's effectiveness by printing the first 10 rows of the result. Execute the code in the cell below to print the first 10 rows of the result and examine the result."
   ]
  },
  {
   "cell_type": "code",
   "execution_count": 9,
   "metadata": {
    "scrolled": true
   },
   "outputs": [
    {
     "data": {
      "text/html": [
       "<div>\n",
       "<style scoped>\n",
       "    .dataframe tbody tr th:only-of-type {\n",
       "        vertical-align: middle;\n",
       "    }\n",
       "\n",
       "    .dataframe tbody tr th {\n",
       "        vertical-align: top;\n",
       "    }\n",
       "\n",
       "    .dataframe thead th {\n",
       "        text-align: right;\n",
       "    }\n",
       "</style>\n",
       "<table border=\"1\" class=\"dataframe\">\n",
       "  <thead>\n",
       "    <tr style=\"text-align: right;\">\n",
       "      <th></th>\n",
       "      <th>party</th>\n",
       "      <th>predicted</th>\n",
       "      <th>proba(republican)</th>\n",
       "      <th>proba(democrat)</th>\n",
       "    </tr>\n",
       "  </thead>\n",
       "  <tbody>\n",
       "    <tr>\n",
       "      <th>0</th>\n",
       "      <td>republican</td>\n",
       "      <td>republican</td>\n",
       "      <td>9.996342e-01</td>\n",
       "      <td>0.000366</td>\n",
       "    </tr>\n",
       "    <tr>\n",
       "      <th>1</th>\n",
       "      <td>republican</td>\n",
       "      <td>republican</td>\n",
       "      <td>9.993736e-01</td>\n",
       "      <td>0.000626</td>\n",
       "    </tr>\n",
       "    <tr>\n",
       "      <th>2</th>\n",
       "      <td>democrat</td>\n",
       "      <td>republican</td>\n",
       "      <td>9.763456e-01</td>\n",
       "      <td>0.023654</td>\n",
       "    </tr>\n",
       "    <tr>\n",
       "      <th>3</th>\n",
       "      <td>democrat</td>\n",
       "      <td>democrat</td>\n",
       "      <td>6.388195e-03</td>\n",
       "      <td>0.993612</td>\n",
       "    </tr>\n",
       "    <tr>\n",
       "      <th>4</th>\n",
       "      <td>democrat</td>\n",
       "      <td>democrat</td>\n",
       "      <td>1.825626e-01</td>\n",
       "      <td>0.817437</td>\n",
       "    </tr>\n",
       "    <tr>\n",
       "      <th>5</th>\n",
       "      <td>democrat</td>\n",
       "      <td>democrat</td>\n",
       "      <td>2.615208e-01</td>\n",
       "      <td>0.738479</td>\n",
       "    </tr>\n",
       "    <tr>\n",
       "      <th>6</th>\n",
       "      <td>democrat</td>\n",
       "      <td>republican</td>\n",
       "      <td>9.958253e-01</td>\n",
       "      <td>0.004175</td>\n",
       "    </tr>\n",
       "    <tr>\n",
       "      <th>7</th>\n",
       "      <td>republican</td>\n",
       "      <td>republican</td>\n",
       "      <td>9.962874e-01</td>\n",
       "      <td>0.003713</td>\n",
       "    </tr>\n",
       "    <tr>\n",
       "      <th>8</th>\n",
       "      <td>republican</td>\n",
       "      <td>republican</td>\n",
       "      <td>9.997168e-01</td>\n",
       "      <td>0.000283</td>\n",
       "    </tr>\n",
       "    <tr>\n",
       "      <th>9</th>\n",
       "      <td>democrat</td>\n",
       "      <td>democrat</td>\n",
       "      <td>3.821128e-08</td>\n",
       "      <td>1.000000</td>\n",
       "    </tr>\n",
       "  </tbody>\n",
       "</table>\n",
       "</div>"
      ],
      "text/plain": [
       "        party   predicted  proba(republican)  proba(democrat)\n",
       "0  republican  republican       9.996342e-01         0.000366\n",
       "1  republican  republican       9.993736e-01         0.000626\n",
       "2    democrat  republican       9.763456e-01         0.023654\n",
       "3    democrat    democrat       6.388195e-03         0.993612\n",
       "4    democrat    democrat       1.825626e-01         0.817437\n",
       "5    democrat    democrat       2.615208e-01         0.738479\n",
       "6    democrat  republican       9.958253e-01         0.004175\n",
       "7  republican  republican       9.962874e-01         0.003713\n",
       "8  republican  republican       9.997168e-01         0.000283\n",
       "9    democrat    democrat       3.821128e-08         1.000000"
      ]
     },
     "execution_count": 9,
     "metadata": {},
     "output_type": "execute_result"
    }
   ],
   "source": [
    "def predict_results(model, X, df, label_column, class_labels):\n",
    "    ## Compute the predicted classes and probabilities\n",
    "    predicted = [class_labels[0] if x==1 else class_labels[1] for x in model.predict(X)]\n",
    "    probabilities = model.predict_proba(X)\n",
    "\n",
    "    ## Form a data frame from the results and return\n",
    "    return pd.DataFrame({\n",
    "            label_column: df.loc[:,label_column],\n",
    "            'predicted': predicted,\n",
    "            'proba(' + class_labels[1] + ')': probabilities[:,0],\n",
    "            'proba(' + class_labels[0] + ')': probabilities[:,1],\n",
    "            })\n",
    "\n",
    "results = predict_results(NB_model, X_votes[:10], votes[:10], 'party', ['democrat','republican'])\n",
    "results"
   ]
  },
  {
   "cell_type": "markdown",
   "metadata": {},
   "source": [
    "As you examine these results noticing:\n",
    "1. There is 2 classification errors, with 8 cases correctly classified.\n",
    "2. In most cases, the probability of the class predicted (score) is much larger than for the other class, including for the cases with classification errors.\n",
    "\n",
    "As a next step, we can compute the confusion matrix and performance metrics for this model. The functions in the cell below use [sklearn.metrics](https://scikit-learn.org/stable/modules/classes.html#module-sklearn.metrics) to compute and print the performance metrics and the confusion matrix. Execute this code and examine the results."
   ]
  },
  {
   "cell_type": "code",
   "execution_count": 10,
   "metadata": {},
   "outputs": [
    {
     "name": "stdout",
     "output_type": "stream",
     "text": [
      "Accuracy = 0.800, Precision = 1.000, Recall = 0.667\n"
     ]
    },
    {
     "data": {
      "text/html": [
       "<div>\n",
       "<style scoped>\n",
       "    .dataframe tbody tr th:only-of-type {\n",
       "        vertical-align: middle;\n",
       "    }\n",
       "\n",
       "    .dataframe tbody tr th {\n",
       "        vertical-align: top;\n",
       "    }\n",
       "\n",
       "    .dataframe thead th {\n",
       "        text-align: right;\n",
       "    }\n",
       "</style>\n",
       "<table border=\"1\" class=\"dataframe\">\n",
       "  <thead>\n",
       "    <tr style=\"text-align: right;\">\n",
       "      <th></th>\n",
       "      <th>republican</th>\n",
       "      <th>democrat</th>\n",
       "    </tr>\n",
       "  </thead>\n",
       "  <tbody>\n",
       "    <tr>\n",
       "      <th>republican</th>\n",
       "      <td>4</td>\n",
       "      <td>2</td>\n",
       "    </tr>\n",
       "    <tr>\n",
       "      <th>democrat</th>\n",
       "      <td>0</td>\n",
       "      <td>4</td>\n",
       "    </tr>\n",
       "  </tbody>\n",
       "</table>\n",
       "</div>"
      ],
      "text/plain": [
       "            republican  democrat\n",
       "republican           4         2\n",
       "democrat             0         4"
      ]
     },
     "execution_count": 10,
     "metadata": {},
     "output_type": "execute_result"
    }
   ],
   "source": [
    "def confusion_matrix(labels, predicted, label_classes):\n",
    "    '''Function retrns a data frame containing the confusion matrix'''\n",
    "    return pd.DataFrame(\n",
    "        sklearn.metrics.confusion_matrix(labels, predicted),\n",
    "        index=[label_classes], \n",
    "        columns=label_classes)    \n",
    "\n",
    "def performance(results, label_column, categories_label):\n",
    "    ## Convert column to categorical\n",
    "    results.loc[:,'predicted'] = pd.Series(results.loc[:,'predicted'], dtype=categories_label)\n",
    "    ## Compute metrics\n",
    "    accuracy = sklearn.metrics.accuracy_score(\n",
    "                  results[label_column].cat.codes, results['predicted'].cat.codes)\n",
    "    precision = sklearn.metrics.precision_score(\n",
    "                  results[label_column].cat.codes, results['predicted'].cat.codes)\n",
    "    recall = sklearn.metrics.recall_score(\n",
    "               results[label_column].cat.codes, results['predicted'].cat.codes)\n",
    "    ## Print metrics\n",
    "    print('Accuracy = %.3f, Precision = %.3f, Recall = %.3f' % (accuracy, precision, recall))\n",
    "    ## Return confusion matrix\n",
    "    return confusion_matrix(\n",
    "        results.loc[:,label_column], \n",
    "        results.loc[:,'predicted'], \n",
    "        results.loc[:,label_column].cat.categories)\n",
    "\n",
    "performance(results, 'party', categories_label)"
   ]
  },
  {
   "cell_type": "markdown",
   "metadata": {},
   "source": [
    "The results are reasonably good, given we are looking at only the first 10 of 435 Congresspeople. \n",
    "\n",
    "Execute the code in the cell below computes and prints an evaluation of the model using all the cases and compare the results to the first model."
   ]
  },
  {
   "cell_type": "code",
   "execution_count": 11,
   "metadata": {},
   "outputs": [
    {
     "name": "stdout",
     "output_type": "stream",
     "text": [
      "Accuracy = 0.906, Precision = 0.938, Recall = 0.906\n"
     ]
    },
    {
     "data": {
      "text/html": [
       "<div>\n",
       "<style scoped>\n",
       "    .dataframe tbody tr th:only-of-type {\n",
       "        vertical-align: middle;\n",
       "    }\n",
       "\n",
       "    .dataframe tbody tr th {\n",
       "        vertical-align: top;\n",
       "    }\n",
       "\n",
       "    .dataframe thead th {\n",
       "        text-align: right;\n",
       "    }\n",
       "</style>\n",
       "<table border=\"1\" class=\"dataframe\">\n",
       "  <thead>\n",
       "    <tr style=\"text-align: right;\">\n",
       "      <th></th>\n",
       "      <th>republican</th>\n",
       "      <th>democrat</th>\n",
       "    </tr>\n",
       "  </thead>\n",
       "  <tbody>\n",
       "    <tr>\n",
       "      <th>republican</th>\n",
       "      <td>242</td>\n",
       "      <td>25</td>\n",
       "    </tr>\n",
       "    <tr>\n",
       "      <th>democrat</th>\n",
       "      <td>16</td>\n",
       "      <td>152</td>\n",
       "    </tr>\n",
       "  </tbody>\n",
       "</table>\n",
       "</div>"
      ],
      "text/plain": [
       "            republican  democrat\n",
       "republican         242        25\n",
       "democrat            16       152"
      ]
     },
     "execution_count": 11,
     "metadata": {},
     "output_type": "execute_result"
    }
   ],
   "source": [
    "results_all = predict_results(NB_model, X_votes, votes,  'party', ['democrat','republican'])\n",
    "results_all[:5]\n",
    "performance(results_all, 'party', categories_label)"
   ]
  },
  {
   "cell_type": "markdown",
   "metadata": {},
   "source": [
    "These are fairly good metrics. The model seems to work reasonably well. \n",
    "\n",
    "The **Laplace smoothing method** is an effective way to deal with data sets which do not have sufficient samples to compute probabilities. This method avoids the case where $p(x_j|C_k) = 0$. \n",
    "\n",
    "The code in the cell below computes a naive Bayes model using the same congressional vote data, but with a Laplace smoother with a span of 10 data points. Execute this code and examine the results. "
   ]
  },
  {
   "cell_type": "code",
   "execution_count": 12,
   "metadata": {},
   "outputs": [
    {
     "name": "stdout",
     "output_type": "stream",
     "text": [
      "Accuracy = 0.906, Precision = 0.938, Recall = 0.906\n"
     ]
    },
    {
     "data": {
      "text/html": [
       "<div>\n",
       "<style scoped>\n",
       "    .dataframe tbody tr th:only-of-type {\n",
       "        vertical-align: middle;\n",
       "    }\n",
       "\n",
       "    .dataframe tbody tr th {\n",
       "        vertical-align: top;\n",
       "    }\n",
       "\n",
       "    .dataframe thead th {\n",
       "        text-align: right;\n",
       "    }\n",
       "</style>\n",
       "<table border=\"1\" class=\"dataframe\">\n",
       "  <thead>\n",
       "    <tr style=\"text-align: right;\">\n",
       "      <th></th>\n",
       "      <th>republican</th>\n",
       "      <th>democrat</th>\n",
       "    </tr>\n",
       "  </thead>\n",
       "  <tbody>\n",
       "    <tr>\n",
       "      <th>republican</th>\n",
       "      <td>242</td>\n",
       "      <td>25</td>\n",
       "    </tr>\n",
       "    <tr>\n",
       "      <th>democrat</th>\n",
       "      <td>16</td>\n",
       "      <td>152</td>\n",
       "    </tr>\n",
       "  </tbody>\n",
       "</table>\n",
       "</div>"
      ],
      "text/plain": [
       "            republican  democrat\n",
       "republican         242        25\n",
       "democrat            16       152"
      ]
     },
     "execution_count": 12,
     "metadata": {},
     "output_type": "execute_result"
    }
   ],
   "source": [
    "# The `alpha` parameter controls the Laplace smoothing\n",
    "model_alpha3 = sklearn.naive_bayes.MultinomialNB(alpha=10)\n",
    "nr.seed(2345)\n",
    "model_alpha3.fit(X_votes, y_votes)\n",
    "results_alpha3 = predict_results(NB_model, X_votes, votes, 'party', ['democrat','republican'])\n",
    "performance(results_alpha3, 'party', categories_label)"
   ]
  },
  {
   "cell_type": "markdown",
   "metadata": {},
   "source": [
    "These results are identical to those with lower Laplace smoothing parameters. "
   ]
  },
  {
   "cell_type": "markdown",
   "metadata": {},
   "source": [
    "## Another Naive Bayes Example\n",
    "\n",
    "Let's try another binary classification example. The code in the cell below loads some sample US Census data. We want to build and evaluate a naive Bayes model to classify people by high and low income using $50,000 as the cut-off. The columns are also given Python friendly names. Execute this code and examine the features in the data set. "
   ]
  },
  {
   "cell_type": "code",
   "execution_count": 13,
   "metadata": {},
   "outputs": [
    {
     "data": {
      "text/html": [
       "<div>\n",
       "<style scoped>\n",
       "    .dataframe tbody tr th:only-of-type {\n",
       "        vertical-align: middle;\n",
       "    }\n",
       "\n",
       "    .dataframe tbody tr th {\n",
       "        vertical-align: top;\n",
       "    }\n",
       "\n",
       "    .dataframe thead th {\n",
       "        text-align: right;\n",
       "    }\n",
       "</style>\n",
       "<table border=\"1\" class=\"dataframe\">\n",
       "  <thead>\n",
       "    <tr style=\"text-align: right;\">\n",
       "      <th></th>\n",
       "      <th>age</th>\n",
       "      <th>workclass</th>\n",
       "      <th>fnlwgt</th>\n",
       "      <th>education</th>\n",
       "      <th>education_num</th>\n",
       "      <th>marital_status</th>\n",
       "      <th>occupation</th>\n",
       "      <th>relationship</th>\n",
       "      <th>race</th>\n",
       "      <th>sex</th>\n",
       "      <th>capital_gain</th>\n",
       "      <th>capital_loss</th>\n",
       "      <th>hours_per_week</th>\n",
       "      <th>native_country</th>\n",
       "      <th>income</th>\n",
       "    </tr>\n",
       "  </thead>\n",
       "  <tbody>\n",
       "    <tr>\n",
       "      <th>0</th>\n",
       "      <td>39</td>\n",
       "      <td>State-gov</td>\n",
       "      <td>77516</td>\n",
       "      <td>Bachelors</td>\n",
       "      <td>13</td>\n",
       "      <td>Never-married</td>\n",
       "      <td>Adm-clerical</td>\n",
       "      <td>Not-in-family</td>\n",
       "      <td>White</td>\n",
       "      <td>Male</td>\n",
       "      <td>2174</td>\n",
       "      <td>0</td>\n",
       "      <td>40</td>\n",
       "      <td>United-States</td>\n",
       "      <td>&lt;=50K</td>\n",
       "    </tr>\n",
       "    <tr>\n",
       "      <th>1</th>\n",
       "      <td>50</td>\n",
       "      <td>Self-emp-not-inc</td>\n",
       "      <td>83311</td>\n",
       "      <td>Bachelors</td>\n",
       "      <td>13</td>\n",
       "      <td>Married-civ-spouse</td>\n",
       "      <td>Exec-managerial</td>\n",
       "      <td>Husband</td>\n",
       "      <td>White</td>\n",
       "      <td>Male</td>\n",
       "      <td>0</td>\n",
       "      <td>0</td>\n",
       "      <td>13</td>\n",
       "      <td>United-States</td>\n",
       "      <td>&lt;=50K</td>\n",
       "    </tr>\n",
       "    <tr>\n",
       "      <th>2</th>\n",
       "      <td>38</td>\n",
       "      <td>Private</td>\n",
       "      <td>215646</td>\n",
       "      <td>HS-grad</td>\n",
       "      <td>9</td>\n",
       "      <td>Divorced</td>\n",
       "      <td>Handlers-cleaners</td>\n",
       "      <td>Not-in-family</td>\n",
       "      <td>White</td>\n",
       "      <td>Male</td>\n",
       "      <td>0</td>\n",
       "      <td>0</td>\n",
       "      <td>40</td>\n",
       "      <td>United-States</td>\n",
       "      <td>&lt;=50K</td>\n",
       "    </tr>\n",
       "    <tr>\n",
       "      <th>3</th>\n",
       "      <td>53</td>\n",
       "      <td>Private</td>\n",
       "      <td>234721</td>\n",
       "      <td>11th</td>\n",
       "      <td>7</td>\n",
       "      <td>Married-civ-spouse</td>\n",
       "      <td>Handlers-cleaners</td>\n",
       "      <td>Husband</td>\n",
       "      <td>Black</td>\n",
       "      <td>Male</td>\n",
       "      <td>0</td>\n",
       "      <td>0</td>\n",
       "      <td>40</td>\n",
       "      <td>United-States</td>\n",
       "      <td>&lt;=50K</td>\n",
       "    </tr>\n",
       "    <tr>\n",
       "      <th>4</th>\n",
       "      <td>28</td>\n",
       "      <td>Private</td>\n",
       "      <td>338409</td>\n",
       "      <td>Bachelors</td>\n",
       "      <td>13</td>\n",
       "      <td>Married-civ-spouse</td>\n",
       "      <td>Prof-specialty</td>\n",
       "      <td>Wife</td>\n",
       "      <td>Black</td>\n",
       "      <td>Female</td>\n",
       "      <td>0</td>\n",
       "      <td>0</td>\n",
       "      <td>40</td>\n",
       "      <td>Cuba</td>\n",
       "      <td>&lt;=50K</td>\n",
       "    </tr>\n",
       "  </tbody>\n",
       "</table>\n",
       "</div>"
      ],
      "text/plain": [
       "   age         workclass  fnlwgt  education  education_num  \\\n",
       "0   39         State-gov   77516  Bachelors             13   \n",
       "1   50  Self-emp-not-inc   83311  Bachelors             13   \n",
       "2   38           Private  215646    HS-grad              9   \n",
       "3   53           Private  234721       11th              7   \n",
       "4   28           Private  338409  Bachelors             13   \n",
       "\n",
       "       marital_status         occupation   relationship   race     sex  \\\n",
       "0       Never-married       Adm-clerical  Not-in-family  White    Male   \n",
       "1  Married-civ-spouse    Exec-managerial        Husband  White    Male   \n",
       "2            Divorced  Handlers-cleaners  Not-in-family  White    Male   \n",
       "3  Married-civ-spouse  Handlers-cleaners        Husband  Black    Male   \n",
       "4  Married-civ-spouse     Prof-specialty           Wife  Black  Female   \n",
       "\n",
       "   capital_gain  capital_loss  hours_per_week native_country income  \n",
       "0          2174             0              40  United-States  <=50K  \n",
       "1             0             0              13  United-States  <=50K  \n",
       "2             0             0              40  United-States  <=50K  \n",
       "3             0             0              40  United-States  <=50K  \n",
       "4             0             0              40           Cuba  <=50K  "
      ]
     },
     "execution_count": 13,
     "metadata": {},
     "output_type": "execute_result"
    }
   ],
   "source": [
    "income = pd.read_csv('Adult Census Income Binary Classification dataset.csv', sep=', ', engine='python') #, sep=', ', engine='python')\n",
    "\n",
    "## Give the columns Python friently names\n",
    "income.columns = [s.replace('-','_') for s in income.columns]\n",
    "\n",
    "income.head()"
   ]
  },
  {
   "cell_type": "markdown",
   "metadata": {},
   "source": [
    "We can see some features which are likely to be colinear. There is also one feature, fnlwgt, which is not useful in classifying the people. Two other columns, capital_gain and capital_loss are quite sparse and reduce accuracy.  \n",
    "\n",
    "The code in the cell below removes these columns. Execute this code to create a data set with reduced features"
   ]
  },
  {
   "cell_type": "code",
   "execution_count": 14,
   "metadata": {},
   "outputs": [
    {
     "data": {
      "text/plain": [
       "Index(['age', 'education', 'marital_status', 'occupation', 'race', 'sex',\n",
       "       'hours_per_week', 'native_country', 'income'],\n",
       "      dtype='object')"
      ]
     },
     "execution_count": 14,
     "metadata": {},
     "output_type": "execute_result"
    }
   ],
   "source": [
    "income = income.drop(['workclass', 'fnlwgt', 'education_num', 'capital_gain', 'capital_loss', 'relationship'], axis=1)\n",
    "income.columns"
   ]
  },
  {
   "cell_type": "markdown",
   "metadata": {},
   "source": [
    "###  Build the Model Matrix  \n",
    "\n",
    "Now we are ready to use the dmatrix function from the patsy package to create the model matrix. The code in the cell below creates a model formula, then a model matrix and label column. Execute this code and examine the results. "
   ]
  },
  {
   "cell_type": "code",
   "execution_count": 15,
   "metadata": {},
   "outputs": [
    {
     "name": "stdout",
     "output_type": "stream",
     "text": [
      "age + education + marital_status + occupation + race + sex + hours_per_week + native_country\n",
      "[0, 0, 0, 0, 0]\n",
      "[[ 0.  0.  0.  0.  0.  0.  0.  0.  0.  1.  0.  0.  0.  0.  0.  0.  0.  0.\n",
      "   0.  1.  0.  0.  1.  0.  0.  0.  0.  0.  0.  0.  0.  0.  0.  0.  0.  0.\n",
      "   0.  0.  0.  1.  1.  0.  0.  0.  0.  0.  0.  0.  0.  0.  0.  0.  0.  0.\n",
      "   0.  0.  0.  0.  0.  0.  0.  0.  0.  0.  0.  0.  0.  0.  0.  0.  0.  0.\n",
      "   0.  0.  0.  0.  0.  0.  0.  1.  0.  0. 39. 40.]\n",
      " [ 0.  0.  0.  0.  0.  0.  0.  0.  0.  1.  0.  0.  0.  0.  0.  0.  0.  1.\n",
      "   0.  0.  0.  0.  0.  0.  0.  1.  0.  0.  0.  0.  0.  0.  0.  0.  0.  0.\n",
      "   0.  0.  0.  1.  1.  0.  0.  0.  0.  0.  0.  0.  0.  0.  0.  0.  0.  0.\n",
      "   0.  0.  0.  0.  0.  0.  0.  0.  0.  0.  0.  0.  0.  0.  0.  0.  0.  0.\n",
      "   0.  0.  0.  0.  0.  0.  0.  1.  0.  0. 50. 13.]]\n"
     ]
    }
   ],
   "source": [
    "income_formula = ''\n",
    "for col in income.columns[:-2]:\n",
    "    income_formula = income_formula + col + ' + ' \n",
    "income_formula = income_formula  + income.columns[-2]\n",
    "print(income_formula)\n",
    "\n",
    "X_income = dmatrix(income_formula + ' - 1', data=income)\n",
    "y_income = [0 if x=='<=50K' else 1 for x in income.loc[:,'income']]\n",
    "print(y_income[:5])\n",
    "print(X_income[:2])"
   ]
  },
  {
   "cell_type": "markdown",
   "metadata": {},
   "source": [
    "***\n",
    "**Your turn:** In the cell below create and execute code to do the following: \n",
    "\n",
    "1. Define and compute a naive Multinomial model to classify income using the features in the Income data set model matrix. Use alpha = 0.01 for smoothing.  \n",
    "2. Compute the results, using the income data frame, the 'income' column as the label and ['>50K','<=50K'] as the categories. Call your data frame results_income. \n",
    "3. Print the first 20 rows of results. Examine the predictions vs the actual categories and the conditional probabilities to get a feel how the classifier works. \n",
    "***"
   ]
  },
  {
   "cell_type": "code",
   "execution_count": 56,
   "metadata": {},
   "outputs": [
    {
     "data": {
      "text/html": [
       "<div>\n",
       "<style scoped>\n",
       "    .dataframe tbody tr th:only-of-type {\n",
       "        vertical-align: middle;\n",
       "    }\n",
       "\n",
       "    .dataframe tbody tr th {\n",
       "        vertical-align: top;\n",
       "    }\n",
       "\n",
       "    .dataframe thead th {\n",
       "        text-align: right;\n",
       "    }\n",
       "</style>\n",
       "<table border=\"1\" class=\"dataframe\">\n",
       "  <thead>\n",
       "    <tr style=\"text-align: right;\">\n",
       "      <th></th>\n",
       "      <th>income</th>\n",
       "      <th>predicted</th>\n",
       "      <th>proba(&lt;=50K)</th>\n",
       "      <th>proba(&gt;50K)</th>\n",
       "    </tr>\n",
       "  </thead>\n",
       "  <tbody>\n",
       "    <tr>\n",
       "      <th>0</th>\n",
       "      <td>&lt;=50K</td>\n",
       "      <td>&lt;=50K</td>\n",
       "      <td>0.951753</td>\n",
       "      <td>0.048247</td>\n",
       "    </tr>\n",
       "    <tr>\n",
       "      <th>1</th>\n",
       "      <td>&lt;=50K</td>\n",
       "      <td>&gt;50K</td>\n",
       "      <td>0.114611</td>\n",
       "      <td>0.885389</td>\n",
       "    </tr>\n",
       "    <tr>\n",
       "      <th>2</th>\n",
       "      <td>&lt;=50K</td>\n",
       "      <td>&lt;=50K</td>\n",
       "      <td>0.957381</td>\n",
       "      <td>0.042619</td>\n",
       "    </tr>\n",
       "    <tr>\n",
       "      <th>3</th>\n",
       "      <td>&lt;=50K</td>\n",
       "      <td>&lt;=50K</td>\n",
       "      <td>0.985038</td>\n",
       "      <td>0.014962</td>\n",
       "    </tr>\n",
       "    <tr>\n",
       "      <th>4</th>\n",
       "      <td>&lt;=50K</td>\n",
       "      <td>&gt;50K</td>\n",
       "      <td>0.422659</td>\n",
       "      <td>0.577341</td>\n",
       "    </tr>\n",
       "    <tr>\n",
       "      <th>5</th>\n",
       "      <td>&lt;=50K</td>\n",
       "      <td>&gt;50K</td>\n",
       "      <td>0.118877</td>\n",
       "      <td>0.881123</td>\n",
       "    </tr>\n",
       "    <tr>\n",
       "      <th>6</th>\n",
       "      <td>&lt;=50K</td>\n",
       "      <td>&lt;=50K</td>\n",
       "      <td>0.999556</td>\n",
       "      <td>0.000444</td>\n",
       "    </tr>\n",
       "    <tr>\n",
       "      <th>7</th>\n",
       "      <td>&gt;50K</td>\n",
       "      <td>&gt;50K</td>\n",
       "      <td>0.366752</td>\n",
       "      <td>0.633248</td>\n",
       "    </tr>\n",
       "    <tr>\n",
       "      <th>8</th>\n",
       "      <td>&gt;50K</td>\n",
       "      <td>&lt;=50K</td>\n",
       "      <td>0.759041</td>\n",
       "      <td>0.240959</td>\n",
       "    </tr>\n",
       "    <tr>\n",
       "      <th>9</th>\n",
       "      <td>&gt;50K</td>\n",
       "      <td>&gt;50K</td>\n",
       "      <td>0.154978</td>\n",
       "      <td>0.845022</td>\n",
       "    </tr>\n",
       "    <tr>\n",
       "      <th>10</th>\n",
       "      <td>&gt;50K</td>\n",
       "      <td>&lt;=50K</td>\n",
       "      <td>0.662452</td>\n",
       "      <td>0.337548</td>\n",
       "    </tr>\n",
       "    <tr>\n",
       "      <th>11</th>\n",
       "      <td>&gt;50K</td>\n",
       "      <td>&gt;50K</td>\n",
       "      <td>0.111138</td>\n",
       "      <td>0.888862</td>\n",
       "    </tr>\n",
       "    <tr>\n",
       "      <th>12</th>\n",
       "      <td>&lt;=50K</td>\n",
       "      <td>&lt;=50K</td>\n",
       "      <td>0.967701</td>\n",
       "      <td>0.032299</td>\n",
       "    </tr>\n",
       "    <tr>\n",
       "      <th>13</th>\n",
       "      <td>&lt;=50K</td>\n",
       "      <td>&lt;=50K</td>\n",
       "      <td>0.981665</td>\n",
       "      <td>0.018335</td>\n",
       "    </tr>\n",
       "    <tr>\n",
       "      <th>14</th>\n",
       "      <td>&gt;50K</td>\n",
       "      <td>&lt;=50K</td>\n",
       "      <td>0.503753</td>\n",
       "      <td>0.496247</td>\n",
       "    </tr>\n",
       "    <tr>\n",
       "      <th>15</th>\n",
       "      <td>&lt;=50K</td>\n",
       "      <td>&lt;=50K</td>\n",
       "      <td>0.980265</td>\n",
       "      <td>0.019735</td>\n",
       "    </tr>\n",
       "    <tr>\n",
       "      <th>16</th>\n",
       "      <td>&lt;=50K</td>\n",
       "      <td>&lt;=50K</td>\n",
       "      <td>0.991163</td>\n",
       "      <td>0.008837</td>\n",
       "    </tr>\n",
       "    <tr>\n",
       "      <th>17</th>\n",
       "      <td>&lt;=50K</td>\n",
       "      <td>&lt;=50K</td>\n",
       "      <td>0.989294</td>\n",
       "      <td>0.010706</td>\n",
       "    </tr>\n",
       "    <tr>\n",
       "      <th>18</th>\n",
       "      <td>&lt;=50K</td>\n",
       "      <td>&lt;=50K</td>\n",
       "      <td>0.877161</td>\n",
       "      <td>0.122839</td>\n",
       "    </tr>\n",
       "    <tr>\n",
       "      <th>19</th>\n",
       "      <td>&gt;50K</td>\n",
       "      <td>&gt;50K</td>\n",
       "      <td>0.210884</td>\n",
       "      <td>0.789116</td>\n",
       "    </tr>\n",
       "  </tbody>\n",
       "</table>\n",
       "</div>"
      ],
      "text/plain": [
       "   income predicted  proba(<=50K)  proba(>50K)\n",
       "0   <=50K     <=50K      0.951753     0.048247\n",
       "1   <=50K      >50K      0.114611     0.885389\n",
       "2   <=50K     <=50K      0.957381     0.042619\n",
       "3   <=50K     <=50K      0.985038     0.014962\n",
       "4   <=50K      >50K      0.422659     0.577341\n",
       "5   <=50K      >50K      0.118877     0.881123\n",
       "6   <=50K     <=50K      0.999556     0.000444\n",
       "7    >50K      >50K      0.366752     0.633248\n",
       "8    >50K     <=50K      0.759041     0.240959\n",
       "9    >50K      >50K      0.154978     0.845022\n",
       "10   >50K     <=50K      0.662452     0.337548\n",
       "11   >50K      >50K      0.111138     0.888862\n",
       "12  <=50K     <=50K      0.967701     0.032299\n",
       "13  <=50K     <=50K      0.981665     0.018335\n",
       "14   >50K     <=50K      0.503753     0.496247\n",
       "15  <=50K     <=50K      0.980265     0.019735\n",
       "16  <=50K     <=50K      0.991163     0.008837\n",
       "17  <=50K     <=50K      0.989294     0.010706\n",
       "18  <=50K     <=50K      0.877161     0.122839\n",
       "19   >50K      >50K      0.210884     0.789116"
      ]
     },
     "execution_count": 56,
     "metadata": {},
     "output_type": "execute_result"
    }
   ],
   "source": [
    "nr.seed(44234)\n",
    "model_income = sklearn.naive_bayes.MultinomialNB(alpha=0.01) \n",
    "model_income.fit(X_income, y_income)\n",
    "results_income = predict_results(model_income, X_income, income, 'income', ['>50K','<=50K'])\n",
    "results_income[:20]"
   ]
  },
  {
   "cell_type": "markdown",
   "metadata": {},
   "source": [
    "Paying particular attention to the incorrectly classified cases, notice the probabilities for the two categories. Do incorrectly classified cases tend to have probabilities closer to $\\{0.5,0.5\\}$ than correctly classified cases?  \n",
    "\n",
    "Finally, execute the code in the cell below to measure the performance of the model you have constructed. "
   ]
  },
  {
   "cell_type": "code",
   "execution_count": 50,
   "metadata": {},
   "outputs": [
    {
     "name": "stdout",
     "output_type": "stream",
     "text": [
      "Accuracy = 0.815, Precision = 0.631, Recall = 0.557\n"
     ]
    },
    {
     "data": {
      "text/html": [
       "<div>\n",
       "<style scoped>\n",
       "    .dataframe tbody tr th:only-of-type {\n",
       "        vertical-align: middle;\n",
       "    }\n",
       "\n",
       "    .dataframe tbody tr th {\n",
       "        vertical-align: top;\n",
       "    }\n",
       "\n",
       "    .dataframe thead th {\n",
       "        text-align: right;\n",
       "    }\n",
       "</style>\n",
       "<table border=\"1\" class=\"dataframe\">\n",
       "  <thead>\n",
       "    <tr style=\"text-align: right;\">\n",
       "      <th></th>\n",
       "      <th>&lt;=50K</th>\n",
       "      <th>&gt;50K</th>\n",
       "    </tr>\n",
       "  </thead>\n",
       "  <tbody>\n",
       "    <tr>\n",
       "      <th>&lt;=50K</th>\n",
       "      <td>22164</td>\n",
       "      <td>2556</td>\n",
       "    </tr>\n",
       "    <tr>\n",
       "      <th>&gt;50K</th>\n",
       "      <td>3475</td>\n",
       "      <td>4366</td>\n",
       "    </tr>\n",
       "  </tbody>\n",
       "</table>\n",
       "</div>"
      ],
      "text/plain": [
       "       <=50K  >50K\n",
       "<=50K  22164  2556\n",
       ">50K    3475  4366"
      ]
     },
     "execution_count": 50,
     "metadata": {},
     "output_type": "execute_result"
    }
   ],
   "source": [
    "income_categories = pd.CategoricalDtype(['<=50K','>50K'])\n",
    "results_income.loc[:,'income'] = pd.Series(results_income.loc[:,'income'], dtype=income_categories)\n",
    "performance(results_income, 'income', income_categories)"
   ]
  },
  {
   "cell_type": "markdown",
   "metadata": {},
   "source": [
    "The overall accuracy of the model seems good. But, notice that the classification of cases for the $\\gt 50K$ class is quite poor. Barely one half of the $\\gt 50K$ cases are correctly classified. This leads to low precision and recall values.   \n",
    "\n",
    "This performance is likely a result of the **class imbalance** in the training data. There are approximate 25,000 cases of $\\le 50K$ but only about 8,000 cases of $\\gt 50K$. A useless classifier that said all cases were $\\le 50K$ would be about 75% accurate! Always be aware of the effect of class imbalance when evaluating any machine learning model!    "
   ]
  },
  {
   "cell_type": "markdown",
   "metadata": {},
   "source": [
    "***\n",
    "**Your turn.** One way to improve a naive Bayes model is to assign prior probabilities to the classes. Recall that a Multinomial classifier \n",
    "\n",
    "$$\\hat{y} = argmax_k \\Big[ log \\big( p(C_k) \\big) +  \\sum^N_{j = 1} log \\big( p_{kj}(x_i) \\big) \\Big]$$   \n",
    "\n",
    "Assigning prior probabilities to the class chances the value of $p(C_k)$ used to determine the most probable category. In other words, the prior probabilities introduce a bias into the model in order to obtain a better result.  \n",
    "\n",
    "In the cell below create and execute code to construct and evaluate a naive Bayes model with the class_prior argument to MultinomialNB set to [0.6,0.4]. These values overweight the underrepresented $\\gt 50K$ category.  \n",
    "***"
   ]
  },
  {
   "cell_type": "code",
   "execution_count": 59,
   "metadata": {},
   "outputs": [
    {
     "name": "stdout",
     "output_type": "stream",
     "text": [
      "Accuracy = 0.788, Precision = 0.545, Recall = 0.730\n"
     ]
    },
    {
     "data": {
      "text/html": [
       "<div>\n",
       "<style scoped>\n",
       "    .dataframe tbody tr th:only-of-type {\n",
       "        vertical-align: middle;\n",
       "    }\n",
       "\n",
       "    .dataframe tbody tr th {\n",
       "        vertical-align: top;\n",
       "    }\n",
       "\n",
       "    .dataframe thead th {\n",
       "        text-align: right;\n",
       "    }\n",
       "</style>\n",
       "<table border=\"1\" class=\"dataframe\">\n",
       "  <thead>\n",
       "    <tr style=\"text-align: right;\">\n",
       "      <th></th>\n",
       "      <th>&lt;=50K</th>\n",
       "      <th>&gt;50K</th>\n",
       "    </tr>\n",
       "  </thead>\n",
       "  <tbody>\n",
       "    <tr>\n",
       "      <th>&lt;=50K</th>\n",
       "      <td>19941</td>\n",
       "      <td>4779</td>\n",
       "    </tr>\n",
       "    <tr>\n",
       "      <th>&gt;50K</th>\n",
       "      <td>2119</td>\n",
       "      <td>5722</td>\n",
       "    </tr>\n",
       "  </tbody>\n",
       "</table>\n",
       "</div>"
      ],
      "text/plain": [
       "       <=50K  >50K\n",
       "<=50K  19941  4779\n",
       ">50K    2119  5722"
      ]
     },
     "execution_count": 59,
     "metadata": {},
     "output_type": "execute_result"
    }
   ],
   "source": [
    "model_income = sklearn.naive_bayes.MultinomialNB(alpha=0.1, class_prior=[0.6,0.4])\n",
    "nr.seed(23411)\n",
    "model_income.fit(X_income, y_income)\n",
    "results_income = predict_results(model_income, X_income, income, 'income', ['>50K','<=50K'])\n",
    "results_income.loc[:,'income'] = pd.Series(results_income.loc[:,'income'], dtype=income_categories)\n",
    "performance(results_income, 'income', income_categories)"
   ]
  },
  {
   "cell_type": "markdown",
   "metadata": {},
   "source": [
    "Compare these results to those previously obtained, noticing the following: \n",
    "1. The accuracy and precision are reduced, but recall is increased significantly. \n",
    "2. Nearly 3 out of 4 $\\gt 50K$ cases are now correctly classified. \n",
    "3. However, the number of correctly classified $\\le 50K$ cases is reduced. \n",
    "\n",
    "Is this a better model? If you value correct classification of $\\gt 50K$ cases over $\\le 50K$ cases, then yes. Otherwise, no. "
   ]
  },
  {
   "cell_type": "markdown",
   "metadata": {},
   "source": [
    "## Naive Bayes Models with Limited Data\n",
    "\n",
    "As was already mentioned, naive Bayes models can often produce surprisingly good performance when limited data is available. Here we will investigate two aspects of this property:    \n",
    "1. Situations where there are only a limited number of features for which data is available. This can occur which collecting data on other variables in not possible or too expensive.   \n",
    "2. Situations with limited observations or cases. This can occur when data collection is limited, often by time required or cost. "
   ]
  },
  {
   "cell_type": "markdown",
   "metadata": {},
   "source": [
    "### Changing Number of Features\n",
    "\n",
    "Let's investigate the effect of adding more features to the naive Bayes model. In the case of the Congressional vote data, each vote is a feature. We can add features one at a time and examine the change in model performance.    \n",
    "\n",
    "The code in the cell below computes and evaluates naive Bayes models using 2 to 8 votes, out of 16 total. Execute this code and compare the results to those obtained using the full data set."
   ]
  },
  {
   "cell_type": "code",
   "execution_count": 22,
   "metadata": {},
   "outputs": [
    {
     "name": "stdout",
     "output_type": "stream",
     "text": [
      "\n",
      "Performance of model with 2 features.\n",
      "Accuracy = 0.687, Precision = 0.829, Recall = 0.618\n",
      "            republican  democrat\n",
      "republican         165       102\n",
      "democrat            34       134\n",
      "\n",
      "Performance of model with 3 features.\n",
      "Accuracy = 0.687, Precision = 0.829, Recall = 0.618\n",
      "            republican  democrat\n",
      "republican         165       102\n",
      "democrat            34       134\n",
      "\n",
      "Performance of model with 4 features.\n",
      "Accuracy = 0.687, Precision = 0.829, Recall = 0.618\n",
      "            republican  democrat\n",
      "republican         165       102\n",
      "democrat            34       134\n",
      "\n",
      "Performance of model with 5 features.\n",
      "Accuracy = 0.687, Precision = 0.829, Recall = 0.618\n",
      "            republican  democrat\n",
      "republican         165       102\n",
      "democrat            34       134\n",
      "\n",
      "Performance of model with 6 features.\n",
      "Accuracy = 0.853, Precision = 0.839, Recall = 0.940\n",
      "            republican  democrat\n",
      "republican         251        16\n",
      "democrat            48       120\n",
      "\n",
      "Performance of model with 7 features.\n",
      "Accuracy = 0.853, Precision = 0.839, Recall = 0.940\n",
      "            republican  democrat\n",
      "republican         251        16\n",
      "democrat            48       120\n",
      "\n",
      "Performance of model with 8 features.\n",
      "Accuracy = 0.936, Precision = 0.948, Recall = 0.948\n",
      "            republican  democrat\n",
      "republican         253        14\n",
      "democrat            14       154\n"
     ]
    }
   ],
   "source": [
    "nr.seed(23467)\n",
    "for num_features in range(2,9):\n",
    "    print('\\nPerformance of model with {} features.'.format(num_features))\n",
    "    model_features = sklearn.naive_bayes.MultinomialNB(alpha=0.001)\n",
    "    model_features.fit(X_votes[:,:num_features], y_votes)\n",
    "    results_features = predict_results(model_features, X_votes[:,:num_features], votes, 'party', ['democrat','republican'])\n",
    "    print(performance(results_features, 'party', categories_label))\n",
    "    "
   ]
  },
  {
   "cell_type": "markdown",
   "metadata": {},
   "source": [
    "You can see from these results, that the model gains accuracy rapidly as the number of features increases. In fact, by the time 8 features are used, the results are close to those obtained with all 16 features. \n",
    "\n"
   ]
  },
  {
   "cell_type": "markdown",
   "metadata": {},
   "source": [
    "### Increasing Number of Training Cases \n",
    "\n",
    "***\n",
    "**Your turn.** In the cell below create and execute code to compute and  print the performance statistics for 25, 50, 100, 500, 1000, 2000, 8000, and 32561 cases (rows) of the Income data set. Use the same class priors as before. \n",
    "***"
   ]
  },
  {
   "cell_type": "code",
   "execution_count": 61,
   "metadata": {},
   "outputs": [
    {
     "name": "stdout",
     "output_type": "stream",
     "text": [
      "\n",
      "Performance of model with 25 training cases.\n",
      "Accuracy = 0.840, Precision = 0.700, Recall = 0.875\n",
      "       <=50K  >50K\n",
      "<=50K     14     3\n",
      ">50K       1     7\n",
      "\n",
      "Performance of model with 50 training cases.\n",
      "Accuracy = 0.760, Precision = 0.500, Recall = 0.917\n",
      "       <=50K  >50K\n",
      "<=50K     27    11\n",
      ">50K       1    11\n",
      "\n",
      "Performance of model with 500 training cases.\n",
      "Accuracy = 0.788, Precision = 0.523, Recall = 0.717\n",
      "       <=50K  >50K\n",
      "<=50K    313    74\n",
      ">50K      32    81\n",
      "\n",
      "Performance of model with 2000 training cases.\n",
      "Accuracy = 0.782, Precision = 0.548, Recall = 0.727\n",
      "       <=50K  >50K\n",
      "<=50K   1201   300\n",
      ">50K     136   363\n",
      "\n",
      "Performance of model with 8000 training cases.\n",
      "Accuracy = 0.785, Precision = 0.537, Recall = 0.733\n",
      "       <=50K  >50K\n",
      "<=50K   4882  1206\n",
      ">50K     511  1401\n",
      "\n",
      "Performance of model with 32561 training cases.\n",
      "Accuracy = 0.788, Precision = 0.545, Recall = 0.730\n",
      "       <=50K  >50K\n",
      "<=50K  19941  4779\n",
      ">50K    2119  5722\n"
     ]
    }
   ],
   "source": [
    "nr.seed(55234)\n",
    "for num_cases in [25,50,500,2000,8000,32561]:\n",
    "    print('\\nPerformance of model with {} training cases.'.format(num_cases))\n",
    "    model_cases = sklearn.naive_bayes.MultinomialNB(alpha=0.1, class_prior=[0.6,0.4])\n",
    "    model_cases.fit(X_income[:num_cases,:], y_income[:num_cases])\n",
    "    results_income = predict_results(model_income, X_income[:num_cases,:], income.iloc[:num_cases], 'income', ['>50K','<=50K'])\n",
    "    results_income.loc[:,'income'] = pd.Series(results_income.loc[:,'income'], dtype=income_categories)\n",
    "    print(performance(results_income, 'income', income_categories))"
   ]
  },
  {
   "cell_type": "markdown",
   "metadata": {},
   "source": [
    "How many training cases are required until the performance is close to the model using all training cases? "
   ]
  },
  {
   "cell_type": "markdown",
   "metadata": {},
   "source": [
    "## Summary\n",
    "\n",
    "In this notebook we have explored the following:\n",
    "\n",
    "1. Theory of naive Bayes models.\n",
    "2. Pitfalls of naive Bayes. \n",
    "3. Good regularization properties. \n",
    "4. Computationally efficient. \n",
    "5. Examples of computing and evaluating naive Bayes models.\n",
    "6. Examine the effects of data set size on the results of naive Bayes models. "
   ]
  },
  {
   "cell_type": "markdown",
   "metadata": {
    "collapsed": true
   },
   "source": [
    "#### Copyright 2017, 2018, 2019, 2020, Stephen F Elston. All rights reserved. "
   ]
  },
  {
   "cell_type": "code",
   "execution_count": null,
   "metadata": {},
   "outputs": [],
   "source": []
  }
 ],
 "metadata": {
  "anaconda-cloud": {},
  "kernelspec": {
   "display_name": "Python 3",
   "language": "python",
   "name": "python3"
  },
  "language_info": {
   "codemirror_mode": {
    "name": "ipython",
    "version": 3
   },
   "file_extension": ".py",
   "mimetype": "text/x-python",
   "name": "python",
   "nbconvert_exporter": "python",
   "pygments_lexer": "ipython3",
   "version": "3.7.3"
  }
 },
 "nbformat": 4,
 "nbformat_minor": 1
}
