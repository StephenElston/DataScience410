{
 "cells": [
  {
   "cell_type": "markdown",
   "metadata": {},
   "source": [
    "# Exploration of Data\n",
    "## Data Science 410\n",
    "\n",
    "This notebook contains an introduction to the methods data scientists used to prepare and explore a data set. Data scientists spend a lot of time manipulating data to clean and prepare it (**data munging**) and to understand the relationships within the variables in the data (**data exploration**). Visualization is a key skill for any data scientist performing these tasks. \n",
    "\n",
    "Before performing any type of inference or machine learning on a data set, you should develop an understanding of the relationships in the data set. Skipping this step can lead wasted time from unexpected problems when building models, or in constructing models with poor performance. When starting any data science project, it is a good idea to plan on spending considerable time exploring the data. These exploration steps are often performed in conjunction with data cleaning and preparing, as visualization often highlights problems with data. \n",
    "\n",
    "These lessons are divided into several parts. In each part you will learn how to use the visualization tools available in Python.\n",
    "\n",
    "- **Summarizing and manipulating data**:\n",
    "  * How large is it?\n",
    "  * What columns are of interest?\n",
    "  * Missing data?\n",
    "  * What are the characteristics of the data derived from summary statistics and counts?\n",
    "- **Overview of Matplotlib, Pandas plotting and Seaborn** which are commonly used Python plotting packages. \n",
    "- **Overview of univariate plot types** is a review of creating these basic plots using three Python packages. These plot types allow you to study the distributional properties of the variables in your data set. \n",
    "- **Using Matplotlib methods** to add attributes to plots, such as titles and axis labels. "
   ]
  },
  {
   "cell_type": "markdown",
   "metadata": {},
   "source": [
    "***\n",
    "**Important!**  \n",
    "\n",
    "This notebook was constructed using the Anaconda 3.5 Python distribution. If you are not running version Anaconda 3.5 or higher, we suggest you update your Anaconda distribution now.  You can download the Python 3 Anaconda distribution for your operating system from the [Continuum Analytics web site](https://www.continuum.io/downloads)\n",
    "\n",
    "To run this notebook you need the Seaborn graphics packages. If you have not done so, you will need to install Seaborn as it is not in the Anaconda distribution as of now. From a command prompt on your computer type the following command. If no errors occur, you will have installed Seaborn.\n",
    "\n",
    "``pip install seaborn``\n",
    "\n",
    "or\n",
    "\n",
    "``conda install seaborn``\n",
    "\n",
    "You can find more about installing ```seaborn``` can be seen on the [Installing and getting started](http://seaborn.pydata.org/installing.html) page.\n",
    "\n",
    "***"
   ]
  },
  {
   "cell_type": "markdown",
   "metadata": {},
   "source": [
    "## About the data set\n",
    "\n",
    "This data set is from the [University of California Irving Machine Learning Repository](https://archive.ics.uci.edu/ml/datasets/Automobile)  The data was compiled by Jeffrey C. Schlimmer from the following sources:\n",
    "\n",
    "- 1985 Model Import Car and Truck Specifications, 1985 Ward's Automotive Yearbook. \n",
    "- Personal Auto Manuals, Insurance Services Office, 160 Water Street, New York, NY 10038 \n",
    "- Insurance Collision Report, Insurance Institute for Highway Safety, Watergate 600, Washington, DC 20037\n"
   ]
  },
  {
   "cell_type": "markdown",
   "metadata": {},
   "source": [
    "## Load and examine the data set\n",
    "\n",
    "Let's get started. The function shown in the cell below loads the data from the .csv file. Some minimal clean up is performed on the data. Rows with missing values are dropped and some columns are converted from strings containing numbers to numeric data. The result is a Pandas data frame.\n",
    "\n",
    "Execute the code in this cell to load the data into your notebook. **Make sure you have the .csv file in your working directory!**"
   ]
  },
  {
   "cell_type": "code",
   "execution_count": 11,
   "metadata": {
    "scrolled": false
   },
   "outputs": [],
   "source": [
    "import pandas as pd\n",
    "import numpy as np\n",
    "import io\n",
    "import requests\n",
    "\n",
    "## Read the data file with the pandas read_csv method\n",
    "url = \"https://archive.ics.uci.edu/ml/machine-learning-databases/autos/imports-85.data\"\n",
    "string_path=requests.get(url).content\n",
    "auto_price = pd.read_csv(io.StringIO(string_path.decode('utf-8')))\n",
    "\n",
    "## Add column names \n",
    "auto_price.columns = ['symboling', 'normalized_losses', 'make', 'fuel_type', 'aspiration',\n",
    "                      'num_of_doors', 'body_style', 'drive_wheels', 'engine_location',\n",
    "                      'wheel_base', 'length', 'width', 'height', 'curb_weight', 'engine_type',\n",
    "                      'num_of_cylinders', 'engine_size', 'fuel_system', 'bore', 'stroke',\n",
    "                      'compression_ratio', 'horsepower', 'peak_rpm', 'city_mpg',\n",
    "                      'highway_mpg', 'price']\n",
    "    \n",
    "## Remove rows with missing values in numeric columns, accounting for mising values coded as '?'\n",
    "cols = ['price', 'bore', 'stroke', 'horsepower', 'peak_rpm'] #, 'city_mpg', 'highway_mpg']\n",
    "for column in cols:\n",
    "    auto_price.loc[auto_price[column] == '?', column] = np.nan\n",
    "auto_price.dropna(axis = 0, inplace = True)\n",
    "\n",
    "## Convert some columns to numeric values\n",
    "for column in cols:\n",
    "    auto_price[column] = pd.to_numeric(auto_price[column])"
   ]
  },
  {
   "cell_type": "markdown",
   "metadata": {},
   "source": [
    "Notice that there are some missing values in the numeric columns by the following steps:\n",
    "1. A list of the columns with the missing values is created.\n",
    "2. These data are coded by the `\"?\"` string. Each case where this string  occurs is replaced by a numpy `nan`, a missing value. \n",
    "3. Then rows containing `nan` removed from the data frame. \n",
    "4. The type of these columns is then coerced to numeric. \n",
    "\n",
    "Next, have a first look at the dimensions and data types of the column of the data frame."
   ]
  },
  {
   "cell_type": "code",
   "execution_count": 12,
   "metadata": {},
   "outputs": [
    {
     "data": {
      "text/plain": [
       "Index(['symboling', 'normalized_losses', 'make', 'fuel_type', 'aspiration',\n",
       "       'num_of_doors', 'body_style', 'drive_wheels', 'engine_location',\n",
       "       'wheel_base', 'length', 'width', 'height', 'curb_weight', 'engine_type',\n",
       "       'num_of_cylinders', 'engine_size', 'fuel_system', 'bore', 'stroke',\n",
       "       'compression_ratio', 'horsepower', 'peak_rpm', 'city_mpg',\n",
       "       'highway_mpg', 'price'],\n",
       "      dtype='object')"
      ]
     },
     "execution_count": 12,
     "metadata": {},
     "output_type": "execute_result"
    }
   ],
   "source": [
    "auto_price.columns"
   ]
  },
  {
   "cell_type": "code",
   "execution_count": 13,
   "metadata": {},
   "outputs": [
    {
     "name": "stdout",
     "output_type": "stream",
     "text": [
      "(194, 26)\n",
      "symboling              int64\n",
      "normalized_losses     object\n",
      "make                  object\n",
      "fuel_type             object\n",
      "aspiration            object\n",
      "num_of_doors          object\n",
      "body_style            object\n",
      "drive_wheels          object\n",
      "engine_location       object\n",
      "wheel_base           float64\n",
      "length               float64\n",
      "width                float64\n",
      "height               float64\n",
      "curb_weight            int64\n",
      "engine_type           object\n",
      "num_of_cylinders      object\n",
      "engine_size            int64\n",
      "fuel_system           object\n",
      "bore                 float64\n",
      "stroke               float64\n",
      "compression_ratio    float64\n",
      "horsepower             int64\n",
      "peak_rpm               int64\n",
      "city_mpg               int64\n",
      "highway_mpg            int64\n",
      "price                  int64\n",
      "dtype: object\n"
     ]
    }
   ],
   "source": [
    "print(auto_price.shape)\n",
    "print(auto_price.dtypes)"
   ]
  },
  {
   "cell_type": "markdown",
   "metadata": {},
   "source": [
    "Some key things to notice here are:\n",
    "\n",
    "- There are 195 rows or cases in the data set.\n",
    "- The data set has 26 variables or columns.\n",
    "- Columns have a type of either `object` (character), `float64` (floating point number), or `int64` (integer). \n"
   ]
  },
  {
   "cell_type": "markdown",
   "metadata": {},
   "source": [
    "### Summary statistics\n",
    "\n",
    "You can also learn a lot about a data set by looking at statistical summaries. The Pandas `describe` method does just this. Execute the code in the cell below and note the result."
   ]
  },
  {
   "cell_type": "code",
   "execution_count": 14,
   "metadata": {},
   "outputs": [
    {
     "data": {
      "text/html": [
       "<div>\n",
       "<style scoped>\n",
       "    .dataframe tbody tr th:only-of-type {\n",
       "        vertical-align: middle;\n",
       "    }\n",
       "\n",
       "    .dataframe tbody tr th {\n",
       "        vertical-align: top;\n",
       "    }\n",
       "\n",
       "    .dataframe thead th {\n",
       "        text-align: right;\n",
       "    }\n",
       "</style>\n",
       "<table border=\"1\" class=\"dataframe\">\n",
       "  <thead>\n",
       "    <tr style=\"text-align: right;\">\n",
       "      <th></th>\n",
       "      <th>symboling</th>\n",
       "      <th>wheel_base</th>\n",
       "      <th>length</th>\n",
       "      <th>width</th>\n",
       "      <th>height</th>\n",
       "      <th>curb_weight</th>\n",
       "      <th>engine_size</th>\n",
       "      <th>bore</th>\n",
       "      <th>stroke</th>\n",
       "      <th>compression_ratio</th>\n",
       "      <th>horsepower</th>\n",
       "      <th>peak_rpm</th>\n",
       "      <th>city_mpg</th>\n",
       "      <th>highway_mpg</th>\n",
       "      <th>price</th>\n",
       "    </tr>\n",
       "  </thead>\n",
       "  <tbody>\n",
       "    <tr>\n",
       "      <th>count</th>\n",
       "      <td>194.000000</td>\n",
       "      <td>194.000000</td>\n",
       "      <td>194.000000</td>\n",
       "      <td>194.000000</td>\n",
       "      <td>194.000000</td>\n",
       "      <td>194.000000</td>\n",
       "      <td>194.000000</td>\n",
       "      <td>194.00000</td>\n",
       "      <td>194.000000</td>\n",
       "      <td>194.000000</td>\n",
       "      <td>194.000000</td>\n",
       "      <td>194.00000</td>\n",
       "      <td>194.000000</td>\n",
       "      <td>194.000000</td>\n",
       "      <td>194.000000</td>\n",
       "    </tr>\n",
       "    <tr>\n",
       "      <th>mean</th>\n",
       "      <td>0.783505</td>\n",
       "      <td>98.949485</td>\n",
       "      <td>174.285052</td>\n",
       "      <td>65.895361</td>\n",
       "      <td>53.887629</td>\n",
       "      <td>2559.056701</td>\n",
       "      <td>127.927835</td>\n",
       "      <td>3.32866</td>\n",
       "      <td>3.253247</td>\n",
       "      <td>10.201134</td>\n",
       "      <td>103.231959</td>\n",
       "      <td>5100.00000</td>\n",
       "      <td>25.396907</td>\n",
       "      <td>30.860825</td>\n",
       "      <td>13246.742268</td>\n",
       "    </tr>\n",
       "    <tr>\n",
       "      <th>std</th>\n",
       "      <td>1.223490</td>\n",
       "      <td>6.102834</td>\n",
       "      <td>12.502523</td>\n",
       "      <td>2.134112</td>\n",
       "      <td>2.375054</td>\n",
       "      <td>526.072811</td>\n",
       "      <td>41.540853</td>\n",
       "      <td>0.27238</td>\n",
       "      <td>0.312226</td>\n",
       "      <td>4.071706</td>\n",
       "      <td>37.963615</td>\n",
       "      <td>469.42805</td>\n",
       "      <td>6.410176</td>\n",
       "      <td>6.841372</td>\n",
       "      <td>8077.154783</td>\n",
       "    </tr>\n",
       "    <tr>\n",
       "      <th>min</th>\n",
       "      <td>-2.000000</td>\n",
       "      <td>86.600000</td>\n",
       "      <td>141.100000</td>\n",
       "      <td>60.300000</td>\n",
       "      <td>47.800000</td>\n",
       "      <td>1488.000000</td>\n",
       "      <td>61.000000</td>\n",
       "      <td>2.54000</td>\n",
       "      <td>2.070000</td>\n",
       "      <td>7.000000</td>\n",
       "      <td>48.000000</td>\n",
       "      <td>4150.00000</td>\n",
       "      <td>13.000000</td>\n",
       "      <td>16.000000</td>\n",
       "      <td>5118.000000</td>\n",
       "    </tr>\n",
       "    <tr>\n",
       "      <th>25%</th>\n",
       "      <td>0.000000</td>\n",
       "      <td>94.500000</td>\n",
       "      <td>166.300000</td>\n",
       "      <td>64.025000</td>\n",
       "      <td>52.000000</td>\n",
       "      <td>2145.000000</td>\n",
       "      <td>98.000000</td>\n",
       "      <td>3.15000</td>\n",
       "      <td>3.110000</td>\n",
       "      <td>8.500000</td>\n",
       "      <td>70.000000</td>\n",
       "      <td>4800.00000</td>\n",
       "      <td>19.250000</td>\n",
       "      <td>25.000000</td>\n",
       "      <td>7747.250000</td>\n",
       "    </tr>\n",
       "    <tr>\n",
       "      <th>50%</th>\n",
       "      <td>1.000000</td>\n",
       "      <td>97.100000</td>\n",
       "      <td>173.200000</td>\n",
       "      <td>65.450000</td>\n",
       "      <td>54.100000</td>\n",
       "      <td>2414.000000</td>\n",
       "      <td>120.000000</td>\n",
       "      <td>3.31000</td>\n",
       "      <td>3.290000</td>\n",
       "      <td>9.000000</td>\n",
       "      <td>95.000000</td>\n",
       "      <td>5100.00000</td>\n",
       "      <td>25.000000</td>\n",
       "      <td>30.000000</td>\n",
       "      <td>10221.500000</td>\n",
       "    </tr>\n",
       "    <tr>\n",
       "      <th>75%</th>\n",
       "      <td>2.000000</td>\n",
       "      <td>102.400000</td>\n",
       "      <td>184.325000</td>\n",
       "      <td>66.900000</td>\n",
       "      <td>55.675000</td>\n",
       "      <td>2947.750000</td>\n",
       "      <td>145.750000</td>\n",
       "      <td>3.59000</td>\n",
       "      <td>3.410000</td>\n",
       "      <td>9.400000</td>\n",
       "      <td>116.000000</td>\n",
       "      <td>5500.00000</td>\n",
       "      <td>30.000000</td>\n",
       "      <td>35.500000</td>\n",
       "      <td>16512.000000</td>\n",
       "    </tr>\n",
       "    <tr>\n",
       "      <th>max</th>\n",
       "      <td>3.000000</td>\n",
       "      <td>120.900000</td>\n",
       "      <td>208.100000</td>\n",
       "      <td>72.000000</td>\n",
       "      <td>59.800000</td>\n",
       "      <td>4066.000000</td>\n",
       "      <td>326.000000</td>\n",
       "      <td>3.94000</td>\n",
       "      <td>4.170000</td>\n",
       "      <td>23.000000</td>\n",
       "      <td>262.000000</td>\n",
       "      <td>6600.00000</td>\n",
       "      <td>49.000000</td>\n",
       "      <td>54.000000</td>\n",
       "      <td>45400.000000</td>\n",
       "    </tr>\n",
       "  </tbody>\n",
       "</table>\n",
       "</div>"
      ],
      "text/plain": [
       "        symboling  wheel_base      length       width      height  \\\n",
       "count  194.000000  194.000000  194.000000  194.000000  194.000000   \n",
       "mean     0.783505   98.949485  174.285052   65.895361   53.887629   \n",
       "std      1.223490    6.102834   12.502523    2.134112    2.375054   \n",
       "min     -2.000000   86.600000  141.100000   60.300000   47.800000   \n",
       "25%      0.000000   94.500000  166.300000   64.025000   52.000000   \n",
       "50%      1.000000   97.100000  173.200000   65.450000   54.100000   \n",
       "75%      2.000000  102.400000  184.325000   66.900000   55.675000   \n",
       "max      3.000000  120.900000  208.100000   72.000000   59.800000   \n",
       "\n",
       "       curb_weight  engine_size       bore      stroke  compression_ratio  \\\n",
       "count   194.000000   194.000000  194.00000  194.000000         194.000000   \n",
       "mean   2559.056701   127.927835    3.32866    3.253247          10.201134   \n",
       "std     526.072811    41.540853    0.27238    0.312226           4.071706   \n",
       "min    1488.000000    61.000000    2.54000    2.070000           7.000000   \n",
       "25%    2145.000000    98.000000    3.15000    3.110000           8.500000   \n",
       "50%    2414.000000   120.000000    3.31000    3.290000           9.000000   \n",
       "75%    2947.750000   145.750000    3.59000    3.410000           9.400000   \n",
       "max    4066.000000   326.000000    3.94000    4.170000          23.000000   \n",
       "\n",
       "       horsepower    peak_rpm    city_mpg  highway_mpg         price  \n",
       "count  194.000000   194.00000  194.000000   194.000000    194.000000  \n",
       "mean   103.231959  5100.00000   25.396907    30.860825  13246.742268  \n",
       "std     37.963615   469.42805    6.410176     6.841372   8077.154783  \n",
       "min     48.000000  4150.00000   13.000000    16.000000   5118.000000  \n",
       "25%     70.000000  4800.00000   19.250000    25.000000   7747.250000  \n",
       "50%     95.000000  5100.00000   25.000000    30.000000  10221.500000  \n",
       "75%    116.000000  5500.00000   30.000000    35.500000  16512.000000  \n",
       "max    262.000000  6600.00000   49.000000    54.000000  45400.000000  "
      ]
     },
     "execution_count": 14,
     "metadata": {},
     "output_type": "execute_result"
    }
   ],
   "source": [
    "auto_price.describe()"
   ]
  },
  {
   "cell_type": "markdown",
   "metadata": {},
   "source": [
    "Notice, that summary statistics are only provided for numeric columns. For these column this summary provides some useful information:\n",
    "\n",
    "- The minimum and maximum values of each variable are displayed.\n",
    "- The quantiles are shown; 25%, 50% (median), 75%. Note that, for several of theses variables, the upper interquartile ranges (IQR) are different from the lower IQR, indicating the distributions are skewed. \n",
    "- The mean is displayed. Compare the mean and the median, noting that the are often quite different. Again this is a sign of a skewed distribution. \n",
    "- The standard deviation gives a measure of the dispersion of the values. "
   ]
  },
  {
   "cell_type": "markdown",
   "metadata": {},
   "source": [
    "### Examine the data frames\n",
    "\n",
    "Next, let's look at the first and last few lines of the data frame using the `head` and `tail` methods. Execute the code in the cells below to examine the first 10 rows and last 5 rows (the default) of the data frame, using the `head` and `tail` methods."
   ]
  },
  {
   "cell_type": "code",
   "execution_count": 15,
   "metadata": {},
   "outputs": [
    {
     "data": {
      "text/html": [
       "<div>\n",
       "<style scoped>\n",
       "    .dataframe tbody tr th:only-of-type {\n",
       "        vertical-align: middle;\n",
       "    }\n",
       "\n",
       "    .dataframe tbody tr th {\n",
       "        vertical-align: top;\n",
       "    }\n",
       "\n",
       "    .dataframe thead th {\n",
       "        text-align: right;\n",
       "    }\n",
       "</style>\n",
       "<table border=\"1\" class=\"dataframe\">\n",
       "  <thead>\n",
       "    <tr style=\"text-align: right;\">\n",
       "      <th></th>\n",
       "      <th>symboling</th>\n",
       "      <th>normalized_losses</th>\n",
       "      <th>make</th>\n",
       "      <th>fuel_type</th>\n",
       "      <th>aspiration</th>\n",
       "      <th>num_of_doors</th>\n",
       "      <th>body_style</th>\n",
       "      <th>drive_wheels</th>\n",
       "      <th>engine_location</th>\n",
       "      <th>wheel_base</th>\n",
       "      <th>...</th>\n",
       "      <th>engine_size</th>\n",
       "      <th>fuel_system</th>\n",
       "      <th>bore</th>\n",
       "      <th>stroke</th>\n",
       "      <th>compression_ratio</th>\n",
       "      <th>horsepower</th>\n",
       "      <th>peak_rpm</th>\n",
       "      <th>city_mpg</th>\n",
       "      <th>highway_mpg</th>\n",
       "      <th>price</th>\n",
       "    </tr>\n",
       "  </thead>\n",
       "  <tbody>\n",
       "    <tr>\n",
       "      <th>0</th>\n",
       "      <td>3</td>\n",
       "      <td>?</td>\n",
       "      <td>alfa-romero</td>\n",
       "      <td>gas</td>\n",
       "      <td>std</td>\n",
       "      <td>two</td>\n",
       "      <td>convertible</td>\n",
       "      <td>rwd</td>\n",
       "      <td>front</td>\n",
       "      <td>88.6</td>\n",
       "      <td>...</td>\n",
       "      <td>130</td>\n",
       "      <td>mpfi</td>\n",
       "      <td>3.47</td>\n",
       "      <td>2.68</td>\n",
       "      <td>9.0</td>\n",
       "      <td>111</td>\n",
       "      <td>5000</td>\n",
       "      <td>21</td>\n",
       "      <td>27</td>\n",
       "      <td>16500</td>\n",
       "    </tr>\n",
       "    <tr>\n",
       "      <th>1</th>\n",
       "      <td>1</td>\n",
       "      <td>?</td>\n",
       "      <td>alfa-romero</td>\n",
       "      <td>gas</td>\n",
       "      <td>std</td>\n",
       "      <td>two</td>\n",
       "      <td>hatchback</td>\n",
       "      <td>rwd</td>\n",
       "      <td>front</td>\n",
       "      <td>94.5</td>\n",
       "      <td>...</td>\n",
       "      <td>152</td>\n",
       "      <td>mpfi</td>\n",
       "      <td>2.68</td>\n",
       "      <td>3.47</td>\n",
       "      <td>9.0</td>\n",
       "      <td>154</td>\n",
       "      <td>5000</td>\n",
       "      <td>19</td>\n",
       "      <td>26</td>\n",
       "      <td>16500</td>\n",
       "    </tr>\n",
       "    <tr>\n",
       "      <th>2</th>\n",
       "      <td>2</td>\n",
       "      <td>164</td>\n",
       "      <td>audi</td>\n",
       "      <td>gas</td>\n",
       "      <td>std</td>\n",
       "      <td>four</td>\n",
       "      <td>sedan</td>\n",
       "      <td>fwd</td>\n",
       "      <td>front</td>\n",
       "      <td>99.8</td>\n",
       "      <td>...</td>\n",
       "      <td>109</td>\n",
       "      <td>mpfi</td>\n",
       "      <td>3.19</td>\n",
       "      <td>3.40</td>\n",
       "      <td>10.0</td>\n",
       "      <td>102</td>\n",
       "      <td>5500</td>\n",
       "      <td>24</td>\n",
       "      <td>30</td>\n",
       "      <td>13950</td>\n",
       "    </tr>\n",
       "    <tr>\n",
       "      <th>3</th>\n",
       "      <td>2</td>\n",
       "      <td>164</td>\n",
       "      <td>audi</td>\n",
       "      <td>gas</td>\n",
       "      <td>std</td>\n",
       "      <td>four</td>\n",
       "      <td>sedan</td>\n",
       "      <td>4wd</td>\n",
       "      <td>front</td>\n",
       "      <td>99.4</td>\n",
       "      <td>...</td>\n",
       "      <td>136</td>\n",
       "      <td>mpfi</td>\n",
       "      <td>3.19</td>\n",
       "      <td>3.40</td>\n",
       "      <td>8.0</td>\n",
       "      <td>115</td>\n",
       "      <td>5500</td>\n",
       "      <td>18</td>\n",
       "      <td>22</td>\n",
       "      <td>17450</td>\n",
       "    </tr>\n",
       "    <tr>\n",
       "      <th>4</th>\n",
       "      <td>2</td>\n",
       "      <td>?</td>\n",
       "      <td>audi</td>\n",
       "      <td>gas</td>\n",
       "      <td>std</td>\n",
       "      <td>two</td>\n",
       "      <td>sedan</td>\n",
       "      <td>fwd</td>\n",
       "      <td>front</td>\n",
       "      <td>99.8</td>\n",
       "      <td>...</td>\n",
       "      <td>136</td>\n",
       "      <td>mpfi</td>\n",
       "      <td>3.19</td>\n",
       "      <td>3.40</td>\n",
       "      <td>8.5</td>\n",
       "      <td>110</td>\n",
       "      <td>5500</td>\n",
       "      <td>19</td>\n",
       "      <td>25</td>\n",
       "      <td>15250</td>\n",
       "    </tr>\n",
       "    <tr>\n",
       "      <th>5</th>\n",
       "      <td>1</td>\n",
       "      <td>158</td>\n",
       "      <td>audi</td>\n",
       "      <td>gas</td>\n",
       "      <td>std</td>\n",
       "      <td>four</td>\n",
       "      <td>sedan</td>\n",
       "      <td>fwd</td>\n",
       "      <td>front</td>\n",
       "      <td>105.8</td>\n",
       "      <td>...</td>\n",
       "      <td>136</td>\n",
       "      <td>mpfi</td>\n",
       "      <td>3.19</td>\n",
       "      <td>3.40</td>\n",
       "      <td>8.5</td>\n",
       "      <td>110</td>\n",
       "      <td>5500</td>\n",
       "      <td>19</td>\n",
       "      <td>25</td>\n",
       "      <td>17710</td>\n",
       "    </tr>\n",
       "    <tr>\n",
       "      <th>6</th>\n",
       "      <td>1</td>\n",
       "      <td>?</td>\n",
       "      <td>audi</td>\n",
       "      <td>gas</td>\n",
       "      <td>std</td>\n",
       "      <td>four</td>\n",
       "      <td>wagon</td>\n",
       "      <td>fwd</td>\n",
       "      <td>front</td>\n",
       "      <td>105.8</td>\n",
       "      <td>...</td>\n",
       "      <td>136</td>\n",
       "      <td>mpfi</td>\n",
       "      <td>3.19</td>\n",
       "      <td>3.40</td>\n",
       "      <td>8.5</td>\n",
       "      <td>110</td>\n",
       "      <td>5500</td>\n",
       "      <td>19</td>\n",
       "      <td>25</td>\n",
       "      <td>18920</td>\n",
       "    </tr>\n",
       "    <tr>\n",
       "      <th>7</th>\n",
       "      <td>1</td>\n",
       "      <td>158</td>\n",
       "      <td>audi</td>\n",
       "      <td>gas</td>\n",
       "      <td>turbo</td>\n",
       "      <td>four</td>\n",
       "      <td>sedan</td>\n",
       "      <td>fwd</td>\n",
       "      <td>front</td>\n",
       "      <td>105.8</td>\n",
       "      <td>...</td>\n",
       "      <td>131</td>\n",
       "      <td>mpfi</td>\n",
       "      <td>3.13</td>\n",
       "      <td>3.40</td>\n",
       "      <td>8.3</td>\n",
       "      <td>140</td>\n",
       "      <td>5500</td>\n",
       "      <td>17</td>\n",
       "      <td>20</td>\n",
       "      <td>23875</td>\n",
       "    </tr>\n",
       "    <tr>\n",
       "      <th>9</th>\n",
       "      <td>2</td>\n",
       "      <td>192</td>\n",
       "      <td>bmw</td>\n",
       "      <td>gas</td>\n",
       "      <td>std</td>\n",
       "      <td>two</td>\n",
       "      <td>sedan</td>\n",
       "      <td>rwd</td>\n",
       "      <td>front</td>\n",
       "      <td>101.2</td>\n",
       "      <td>...</td>\n",
       "      <td>108</td>\n",
       "      <td>mpfi</td>\n",
       "      <td>3.50</td>\n",
       "      <td>2.80</td>\n",
       "      <td>8.8</td>\n",
       "      <td>101</td>\n",
       "      <td>5800</td>\n",
       "      <td>23</td>\n",
       "      <td>29</td>\n",
       "      <td>16430</td>\n",
       "    </tr>\n",
       "    <tr>\n",
       "      <th>10</th>\n",
       "      <td>0</td>\n",
       "      <td>192</td>\n",
       "      <td>bmw</td>\n",
       "      <td>gas</td>\n",
       "      <td>std</td>\n",
       "      <td>four</td>\n",
       "      <td>sedan</td>\n",
       "      <td>rwd</td>\n",
       "      <td>front</td>\n",
       "      <td>101.2</td>\n",
       "      <td>...</td>\n",
       "      <td>108</td>\n",
       "      <td>mpfi</td>\n",
       "      <td>3.50</td>\n",
       "      <td>2.80</td>\n",
       "      <td>8.8</td>\n",
       "      <td>101</td>\n",
       "      <td>5800</td>\n",
       "      <td>23</td>\n",
       "      <td>29</td>\n",
       "      <td>16925</td>\n",
       "    </tr>\n",
       "  </tbody>\n",
       "</table>\n",
       "<p>10 rows × 26 columns</p>\n",
       "</div>"
      ],
      "text/plain": [
       "    symboling normalized_losses         make fuel_type aspiration  \\\n",
       "0           3                 ?  alfa-romero       gas        std   \n",
       "1           1                 ?  alfa-romero       gas        std   \n",
       "2           2               164         audi       gas        std   \n",
       "3           2               164         audi       gas        std   \n",
       "4           2                 ?         audi       gas        std   \n",
       "5           1               158         audi       gas        std   \n",
       "6           1                 ?         audi       gas        std   \n",
       "7           1               158         audi       gas      turbo   \n",
       "9           2               192          bmw       gas        std   \n",
       "10          0               192          bmw       gas        std   \n",
       "\n",
       "   num_of_doors   body_style drive_wheels engine_location  wheel_base  ...  \\\n",
       "0           two  convertible          rwd           front        88.6  ...   \n",
       "1           two    hatchback          rwd           front        94.5  ...   \n",
       "2          four        sedan          fwd           front        99.8  ...   \n",
       "3          four        sedan          4wd           front        99.4  ...   \n",
       "4           two        sedan          fwd           front        99.8  ...   \n",
       "5          four        sedan          fwd           front       105.8  ...   \n",
       "6          four        wagon          fwd           front       105.8  ...   \n",
       "7          four        sedan          fwd           front       105.8  ...   \n",
       "9           two        sedan          rwd           front       101.2  ...   \n",
       "10         four        sedan          rwd           front       101.2  ...   \n",
       "\n",
       "    engine_size  fuel_system  bore  stroke compression_ratio horsepower  \\\n",
       "0           130         mpfi  3.47    2.68               9.0        111   \n",
       "1           152         mpfi  2.68    3.47               9.0        154   \n",
       "2           109         mpfi  3.19    3.40              10.0        102   \n",
       "3           136         mpfi  3.19    3.40               8.0        115   \n",
       "4           136         mpfi  3.19    3.40               8.5        110   \n",
       "5           136         mpfi  3.19    3.40               8.5        110   \n",
       "6           136         mpfi  3.19    3.40               8.5        110   \n",
       "7           131         mpfi  3.13    3.40               8.3        140   \n",
       "9           108         mpfi  3.50    2.80               8.8        101   \n",
       "10          108         mpfi  3.50    2.80               8.8        101   \n",
       "\n",
       "    peak_rpm city_mpg  highway_mpg  price  \n",
       "0       5000       21           27  16500  \n",
       "1       5000       19           26  16500  \n",
       "2       5500       24           30  13950  \n",
       "3       5500       18           22  17450  \n",
       "4       5500       19           25  15250  \n",
       "5       5500       19           25  17710  \n",
       "6       5500       19           25  18920  \n",
       "7       5500       17           20  23875  \n",
       "9       5800       23           29  16430  \n",
       "10      5800       23           29  16925  \n",
       "\n",
       "[10 rows x 26 columns]"
      ]
     },
     "execution_count": 15,
     "metadata": {},
     "output_type": "execute_result"
    }
   ],
   "source": [
    "auto_price.head(10)"
   ]
  },
  {
   "cell_type": "code",
   "execution_count": 16,
   "metadata": {},
   "outputs": [
    {
     "data": {
      "text/html": [
       "<div>\n",
       "<style scoped>\n",
       "    .dataframe tbody tr th:only-of-type {\n",
       "        vertical-align: middle;\n",
       "    }\n",
       "\n",
       "    .dataframe tbody tr th {\n",
       "        vertical-align: top;\n",
       "    }\n",
       "\n",
       "    .dataframe thead th {\n",
       "        text-align: right;\n",
       "    }\n",
       "</style>\n",
       "<table border=\"1\" class=\"dataframe\">\n",
       "  <thead>\n",
       "    <tr style=\"text-align: right;\">\n",
       "      <th></th>\n",
       "      <th>symboling</th>\n",
       "      <th>normalized_losses</th>\n",
       "      <th>make</th>\n",
       "      <th>fuel_type</th>\n",
       "      <th>aspiration</th>\n",
       "      <th>num_of_doors</th>\n",
       "      <th>body_style</th>\n",
       "      <th>drive_wheels</th>\n",
       "      <th>engine_location</th>\n",
       "      <th>wheel_base</th>\n",
       "      <th>...</th>\n",
       "      <th>engine_size</th>\n",
       "      <th>fuel_system</th>\n",
       "      <th>bore</th>\n",
       "      <th>stroke</th>\n",
       "      <th>compression_ratio</th>\n",
       "      <th>horsepower</th>\n",
       "      <th>peak_rpm</th>\n",
       "      <th>city_mpg</th>\n",
       "      <th>highway_mpg</th>\n",
       "      <th>price</th>\n",
       "    </tr>\n",
       "  </thead>\n",
       "  <tbody>\n",
       "    <tr>\n",
       "      <th>199</th>\n",
       "      <td>-1</td>\n",
       "      <td>95</td>\n",
       "      <td>volvo</td>\n",
       "      <td>gas</td>\n",
       "      <td>std</td>\n",
       "      <td>four</td>\n",
       "      <td>sedan</td>\n",
       "      <td>rwd</td>\n",
       "      <td>front</td>\n",
       "      <td>109.1</td>\n",
       "      <td>...</td>\n",
       "      <td>141</td>\n",
       "      <td>mpfi</td>\n",
       "      <td>3.78</td>\n",
       "      <td>3.15</td>\n",
       "      <td>9.5</td>\n",
       "      <td>114</td>\n",
       "      <td>5400</td>\n",
       "      <td>23</td>\n",
       "      <td>28</td>\n",
       "      <td>16845</td>\n",
       "    </tr>\n",
       "    <tr>\n",
       "      <th>200</th>\n",
       "      <td>-1</td>\n",
       "      <td>95</td>\n",
       "      <td>volvo</td>\n",
       "      <td>gas</td>\n",
       "      <td>turbo</td>\n",
       "      <td>four</td>\n",
       "      <td>sedan</td>\n",
       "      <td>rwd</td>\n",
       "      <td>front</td>\n",
       "      <td>109.1</td>\n",
       "      <td>...</td>\n",
       "      <td>141</td>\n",
       "      <td>mpfi</td>\n",
       "      <td>3.78</td>\n",
       "      <td>3.15</td>\n",
       "      <td>8.7</td>\n",
       "      <td>160</td>\n",
       "      <td>5300</td>\n",
       "      <td>19</td>\n",
       "      <td>25</td>\n",
       "      <td>19045</td>\n",
       "    </tr>\n",
       "    <tr>\n",
       "      <th>201</th>\n",
       "      <td>-1</td>\n",
       "      <td>95</td>\n",
       "      <td>volvo</td>\n",
       "      <td>gas</td>\n",
       "      <td>std</td>\n",
       "      <td>four</td>\n",
       "      <td>sedan</td>\n",
       "      <td>rwd</td>\n",
       "      <td>front</td>\n",
       "      <td>109.1</td>\n",
       "      <td>...</td>\n",
       "      <td>173</td>\n",
       "      <td>mpfi</td>\n",
       "      <td>3.58</td>\n",
       "      <td>2.87</td>\n",
       "      <td>8.8</td>\n",
       "      <td>134</td>\n",
       "      <td>5500</td>\n",
       "      <td>18</td>\n",
       "      <td>23</td>\n",
       "      <td>21485</td>\n",
       "    </tr>\n",
       "    <tr>\n",
       "      <th>202</th>\n",
       "      <td>-1</td>\n",
       "      <td>95</td>\n",
       "      <td>volvo</td>\n",
       "      <td>diesel</td>\n",
       "      <td>turbo</td>\n",
       "      <td>four</td>\n",
       "      <td>sedan</td>\n",
       "      <td>rwd</td>\n",
       "      <td>front</td>\n",
       "      <td>109.1</td>\n",
       "      <td>...</td>\n",
       "      <td>145</td>\n",
       "      <td>idi</td>\n",
       "      <td>3.01</td>\n",
       "      <td>3.40</td>\n",
       "      <td>23.0</td>\n",
       "      <td>106</td>\n",
       "      <td>4800</td>\n",
       "      <td>26</td>\n",
       "      <td>27</td>\n",
       "      <td>22470</td>\n",
       "    </tr>\n",
       "    <tr>\n",
       "      <th>203</th>\n",
       "      <td>-1</td>\n",
       "      <td>95</td>\n",
       "      <td>volvo</td>\n",
       "      <td>gas</td>\n",
       "      <td>turbo</td>\n",
       "      <td>four</td>\n",
       "      <td>sedan</td>\n",
       "      <td>rwd</td>\n",
       "      <td>front</td>\n",
       "      <td>109.1</td>\n",
       "      <td>...</td>\n",
       "      <td>141</td>\n",
       "      <td>mpfi</td>\n",
       "      <td>3.78</td>\n",
       "      <td>3.15</td>\n",
       "      <td>9.5</td>\n",
       "      <td>114</td>\n",
       "      <td>5400</td>\n",
       "      <td>19</td>\n",
       "      <td>25</td>\n",
       "      <td>22625</td>\n",
       "    </tr>\n",
       "  </tbody>\n",
       "</table>\n",
       "<p>5 rows × 26 columns</p>\n",
       "</div>"
      ],
      "text/plain": [
       "     symboling normalized_losses   make fuel_type aspiration num_of_doors  \\\n",
       "199         -1                95  volvo       gas        std         four   \n",
       "200         -1                95  volvo       gas      turbo         four   \n",
       "201         -1                95  volvo       gas        std         four   \n",
       "202         -1                95  volvo    diesel      turbo         four   \n",
       "203         -1                95  volvo       gas      turbo         four   \n",
       "\n",
       "    body_style drive_wheels engine_location  wheel_base  ...  engine_size  \\\n",
       "199      sedan          rwd           front       109.1  ...          141   \n",
       "200      sedan          rwd           front       109.1  ...          141   \n",
       "201      sedan          rwd           front       109.1  ...          173   \n",
       "202      sedan          rwd           front       109.1  ...          145   \n",
       "203      sedan          rwd           front       109.1  ...          141   \n",
       "\n",
       "     fuel_system  bore  stroke compression_ratio horsepower  peak_rpm  \\\n",
       "199         mpfi  3.78    3.15               9.5        114      5400   \n",
       "200         mpfi  3.78    3.15               8.7        160      5300   \n",
       "201         mpfi  3.58    2.87               8.8        134      5500   \n",
       "202          idi  3.01    3.40              23.0        106      4800   \n",
       "203         mpfi  3.78    3.15               9.5        114      5400   \n",
       "\n",
       "    city_mpg  highway_mpg  price  \n",
       "199       23           28  16845  \n",
       "200       19           25  19045  \n",
       "201       18           23  21485  \n",
       "202       26           27  22470  \n",
       "203       19           25  22625  \n",
       "\n",
       "[5 rows x 26 columns]"
      ]
     },
     "execution_count": 16,
     "metadata": {},
     "output_type": "execute_result"
    }
   ],
   "source": [
    "auto_price.tail()"
   ]
  },
  {
   "cell_type": "markdown",
   "metadata": {},
   "source": [
    "Examine these result to get feel for the data contained in the columns of this data frame."
   ]
  },
  {
   "cell_type": "markdown",
   "metadata": {},
   "source": [
    "### Unique values\n",
    "\n"
   ]
  },
  {
   "cell_type": "code",
   "execution_count": 17,
   "metadata": {},
   "outputs": [
    {
     "name": "stdout",
     "output_type": "stream",
     "text": [
      "\n",
      "Levels of make\n",
      "['alfa-romero' 'audi' 'bmw' 'chevrolet' 'dodge' 'honda' 'isuzu' 'jaguar'\n",
      " 'mazda' 'mercedes-benz' 'mercury' 'mitsubishi' 'nissan' 'peugot'\n",
      " 'plymouth' 'porsche' 'saab' 'subaru' 'toyota' 'volkswagen' 'volvo']\n",
      "\n",
      "Levels of fuel_type\n",
      "['gas' 'diesel']\n",
      "\n",
      "Levels of aspiration\n",
      "['std' 'turbo']\n",
      "\n",
      "Levels of num_of_doors\n",
      "['two' 'four' '?']\n",
      "\n",
      "Levels of body_style\n",
      "['convertible' 'hatchback' 'sedan' 'wagon' 'hardtop']\n",
      "\n",
      "Levels of drive_wheels\n",
      "['rwd' 'fwd' '4wd']\n",
      "\n",
      "Levels of engine_location\n",
      "['front' 'rear']\n",
      "\n",
      "Levels of num_of_cylinders\n",
      "['four' 'six' 'five' 'three' 'twelve' 'eight']\n",
      "\n",
      "Levels of fuel_system\n",
      "['mpfi' '2bbl' 'mfi' '1bbl' 'spfi' 'idi' 'spdi']\n"
     ]
    }
   ],
   "source": [
    "categorical_vars = ['make', 'fuel_type', 'aspiration',\n",
    "       'num_of_doors', 'body_style', 'drive_wheels', 'engine_location',\n",
    "       'num_of_cylinders', 'fuel_system']\n",
    "\n",
    "for var in categorical_vars:\n",
    "    print('\\nLevels of {}'.format(var))\n",
    "    print(auto_price[var].unique())"
   ]
  },
  {
   "cell_type": "markdown",
   "metadata": {},
   "source": [
    "### Frequency tables\n",
    "\n",
    "The summary techniques we have used so far are suitable only for numeric variables. Categorical variables have values which are typically unordered. Therefore, we need a method to summarize categorical based on counts.  \n",
    "\n",
    "The Pandas `group_by` method lets you subset a data frame by a list of columns. The data are grouped into a hierarchy by the order of the columns specified. Notice that the `groupby` operation only makes sense for categorical variables. \n",
    "\n",
    "The Pandas `agg` or aggregation method can be used to compute summary statistics. In this case, we will use the `count` operator. The frequency table shows the count of each category of the variable. \n",
    "\n",
    "To ensure the results display in an easy to understand manner, we will create a new column in the dataframe called `counts`. This column contains integer `1` values. The number of elements in each group can be counted, or simply summed.  \n",
    "\n",
    "Execute the following code to show the number of cars in the data set by unique manufacturer.\n",
    "\n",
    "***\n",
    "**Code note:** \n",
    "\n",
    "Operations on Pandas data frames can be applied using methods. The methods can be chained using the `.` operator.  \n",
    "\n",
    "The second line of code below performs several operations:\n",
    "1. The required columns are sub-setted using the `[]` operator on the list of column names.\n",
    "2. The `groupby` method is applied to the sub-setted data frame. The argument to `groupby` is the list of column names.\n",
    "3. The `agg` method is applied to the grouped data. The operations to apply to the groups are the arguments to this method. \n",
    "***"
   ]
  },
  {
   "cell_type": "code",
   "execution_count": 18,
   "metadata": {
    "scrolled": false
   },
   "outputs": [
    {
     "data": {
      "text/html": [
       "<div>\n",
       "<style scoped>\n",
       "    .dataframe tbody tr th:only-of-type {\n",
       "        vertical-align: middle;\n",
       "    }\n",
       "\n",
       "    .dataframe tbody tr th {\n",
       "        vertical-align: top;\n",
       "    }\n",
       "\n",
       "    .dataframe thead th {\n",
       "        text-align: right;\n",
       "    }\n",
       "</style>\n",
       "<table border=\"1\" class=\"dataframe\">\n",
       "  <thead>\n",
       "    <tr style=\"text-align: right;\">\n",
       "      <th></th>\n",
       "      <th>counts</th>\n",
       "    </tr>\n",
       "    <tr>\n",
       "      <th>make</th>\n",
       "      <th></th>\n",
       "    </tr>\n",
       "  </thead>\n",
       "  <tbody>\n",
       "    <tr>\n",
       "      <th>alfa-romero</th>\n",
       "      <td>2</td>\n",
       "    </tr>\n",
       "    <tr>\n",
       "      <th>audi</th>\n",
       "      <td>6</td>\n",
       "    </tr>\n",
       "    <tr>\n",
       "      <th>bmw</th>\n",
       "      <td>8</td>\n",
       "    </tr>\n",
       "    <tr>\n",
       "      <th>chevrolet</th>\n",
       "      <td>3</td>\n",
       "    </tr>\n",
       "    <tr>\n",
       "      <th>dodge</th>\n",
       "      <td>9</td>\n",
       "    </tr>\n",
       "    <tr>\n",
       "      <th>honda</th>\n",
       "      <td>13</td>\n",
       "    </tr>\n",
       "    <tr>\n",
       "      <th>isuzu</th>\n",
       "      <td>2</td>\n",
       "    </tr>\n",
       "    <tr>\n",
       "      <th>jaguar</th>\n",
       "      <td>3</td>\n",
       "    </tr>\n",
       "    <tr>\n",
       "      <th>mazda</th>\n",
       "      <td>13</td>\n",
       "    </tr>\n",
       "    <tr>\n",
       "      <th>mercedes-benz</th>\n",
       "      <td>8</td>\n",
       "    </tr>\n",
       "    <tr>\n",
       "      <th>mercury</th>\n",
       "      <td>1</td>\n",
       "    </tr>\n",
       "    <tr>\n",
       "      <th>mitsubishi</th>\n",
       "      <td>13</td>\n",
       "    </tr>\n",
       "    <tr>\n",
       "      <th>nissan</th>\n",
       "      <td>18</td>\n",
       "    </tr>\n",
       "    <tr>\n",
       "      <th>peugot</th>\n",
       "      <td>11</td>\n",
       "    </tr>\n",
       "    <tr>\n",
       "      <th>plymouth</th>\n",
       "      <td>7</td>\n",
       "    </tr>\n",
       "    <tr>\n",
       "      <th>porsche</th>\n",
       "      <td>4</td>\n",
       "    </tr>\n",
       "    <tr>\n",
       "      <th>saab</th>\n",
       "      <td>6</td>\n",
       "    </tr>\n",
       "    <tr>\n",
       "      <th>subaru</th>\n",
       "      <td>12</td>\n",
       "    </tr>\n",
       "    <tr>\n",
       "      <th>toyota</th>\n",
       "      <td>32</td>\n",
       "    </tr>\n",
       "    <tr>\n",
       "      <th>volkswagen</th>\n",
       "      <td>12</td>\n",
       "    </tr>\n",
       "    <tr>\n",
       "      <th>volvo</th>\n",
       "      <td>11</td>\n",
       "    </tr>\n",
       "  </tbody>\n",
       "</table>\n",
       "</div>"
      ],
      "text/plain": [
       "               counts\n",
       "make                 \n",
       "alfa-romero         2\n",
       "audi                6\n",
       "bmw                 8\n",
       "chevrolet           3\n",
       "dodge               9\n",
       "honda              13\n",
       "isuzu               2\n",
       "jaguar              3\n",
       "mazda              13\n",
       "mercedes-benz       8\n",
       "mercury             1\n",
       "mitsubishi         13\n",
       "nissan             18\n",
       "peugot             11\n",
       "plymouth            7\n",
       "porsche             4\n",
       "saab                6\n",
       "subaru             12\n",
       "toyota             32\n",
       "volkswagen         12\n",
       "volvo              11"
      ]
     },
     "execution_count": 18,
     "metadata": {},
     "output_type": "execute_result"
    }
   ],
   "source": [
    "auto_price['counts'] = 1\n",
    "auto_price[['counts', 'make']].groupby(['make']).agg('count')"
   ]
  },
  {
   "cell_type": "markdown",
   "metadata": {},
   "source": [
    "Examine this result. The name of the `make` is in one column and the count is in the other. Notice that some manufactures like alfa-romero and chevrolet have only three cars types in the sample. Toyota has the most cars in this sample. \n",
    "\n",
    "Or, you can look at the frequency of a combination of two categorical variables. The groups are organized by the order of the columns specified. Execute the code in the cell below and examine the results:"
   ]
  },
  {
   "cell_type": "code",
   "execution_count": 19,
   "metadata": {},
   "outputs": [
    {
     "data": {
      "text/html": [
       "<div>\n",
       "<style scoped>\n",
       "    .dataframe tbody tr th:only-of-type {\n",
       "        vertical-align: middle;\n",
       "    }\n",
       "\n",
       "    .dataframe tbody tr th {\n",
       "        vertical-align: top;\n",
       "    }\n",
       "\n",
       "    .dataframe thead th {\n",
       "        text-align: right;\n",
       "    }\n",
       "</style>\n",
       "<table border=\"1\" class=\"dataframe\">\n",
       "  <thead>\n",
       "    <tr style=\"text-align: right;\">\n",
       "      <th></th>\n",
       "      <th></th>\n",
       "      <th>counts</th>\n",
       "    </tr>\n",
       "    <tr>\n",
       "      <th>make</th>\n",
       "      <th>fuel_type</th>\n",
       "      <th></th>\n",
       "    </tr>\n",
       "  </thead>\n",
       "  <tbody>\n",
       "    <tr>\n",
       "      <th>alfa-romero</th>\n",
       "      <th>gas</th>\n",
       "      <td>2</td>\n",
       "    </tr>\n",
       "    <tr>\n",
       "      <th>audi</th>\n",
       "      <th>gas</th>\n",
       "      <td>6</td>\n",
       "    </tr>\n",
       "    <tr>\n",
       "      <th>bmw</th>\n",
       "      <th>gas</th>\n",
       "      <td>8</td>\n",
       "    </tr>\n",
       "    <tr>\n",
       "      <th>chevrolet</th>\n",
       "      <th>gas</th>\n",
       "      <td>3</td>\n",
       "    </tr>\n",
       "    <tr>\n",
       "      <th>dodge</th>\n",
       "      <th>gas</th>\n",
       "      <td>9</td>\n",
       "    </tr>\n",
       "    <tr>\n",
       "      <th>honda</th>\n",
       "      <th>gas</th>\n",
       "      <td>13</td>\n",
       "    </tr>\n",
       "    <tr>\n",
       "      <th>isuzu</th>\n",
       "      <th>gas</th>\n",
       "      <td>2</td>\n",
       "    </tr>\n",
       "    <tr>\n",
       "      <th>jaguar</th>\n",
       "      <th>gas</th>\n",
       "      <td>3</td>\n",
       "    </tr>\n",
       "    <tr>\n",
       "      <th rowspan=\"2\" valign=\"top\">mazda</th>\n",
       "      <th>diesel</th>\n",
       "      <td>2</td>\n",
       "    </tr>\n",
       "    <tr>\n",
       "      <th>gas</th>\n",
       "      <td>11</td>\n",
       "    </tr>\n",
       "    <tr>\n",
       "      <th rowspan=\"2\" valign=\"top\">mercedes-benz</th>\n",
       "      <th>diesel</th>\n",
       "      <td>4</td>\n",
       "    </tr>\n",
       "    <tr>\n",
       "      <th>gas</th>\n",
       "      <td>4</td>\n",
       "    </tr>\n",
       "    <tr>\n",
       "      <th>mercury</th>\n",
       "      <th>gas</th>\n",
       "      <td>1</td>\n",
       "    </tr>\n",
       "    <tr>\n",
       "      <th>mitsubishi</th>\n",
       "      <th>gas</th>\n",
       "      <td>13</td>\n",
       "    </tr>\n",
       "    <tr>\n",
       "      <th rowspan=\"2\" valign=\"top\">nissan</th>\n",
       "      <th>diesel</th>\n",
       "      <td>1</td>\n",
       "    </tr>\n",
       "    <tr>\n",
       "      <th>gas</th>\n",
       "      <td>17</td>\n",
       "    </tr>\n",
       "    <tr>\n",
       "      <th rowspan=\"2\" valign=\"top\">peugot</th>\n",
       "      <th>diesel</th>\n",
       "      <td>5</td>\n",
       "    </tr>\n",
       "    <tr>\n",
       "      <th>gas</th>\n",
       "      <td>6</td>\n",
       "    </tr>\n",
       "    <tr>\n",
       "      <th>plymouth</th>\n",
       "      <th>gas</th>\n",
       "      <td>7</td>\n",
       "    </tr>\n",
       "    <tr>\n",
       "      <th>porsche</th>\n",
       "      <th>gas</th>\n",
       "      <td>4</td>\n",
       "    </tr>\n",
       "    <tr>\n",
       "      <th>saab</th>\n",
       "      <th>gas</th>\n",
       "      <td>6</td>\n",
       "    </tr>\n",
       "    <tr>\n",
       "      <th>subaru</th>\n",
       "      <th>gas</th>\n",
       "      <td>12</td>\n",
       "    </tr>\n",
       "    <tr>\n",
       "      <th rowspan=\"2\" valign=\"top\">toyota</th>\n",
       "      <th>diesel</th>\n",
       "      <td>3</td>\n",
       "    </tr>\n",
       "    <tr>\n",
       "      <th>gas</th>\n",
       "      <td>29</td>\n",
       "    </tr>\n",
       "    <tr>\n",
       "      <th rowspan=\"2\" valign=\"top\">volkswagen</th>\n",
       "      <th>diesel</th>\n",
       "      <td>4</td>\n",
       "    </tr>\n",
       "    <tr>\n",
       "      <th>gas</th>\n",
       "      <td>8</td>\n",
       "    </tr>\n",
       "    <tr>\n",
       "      <th rowspan=\"2\" valign=\"top\">volvo</th>\n",
       "      <th>diesel</th>\n",
       "      <td>1</td>\n",
       "    </tr>\n",
       "    <tr>\n",
       "      <th>gas</th>\n",
       "      <td>10</td>\n",
       "    </tr>\n",
       "  </tbody>\n",
       "</table>\n",
       "</div>"
      ],
      "text/plain": [
       "                         counts\n",
       "make          fuel_type        \n",
       "alfa-romero   gas             2\n",
       "audi          gas             6\n",
       "bmw           gas             8\n",
       "chevrolet     gas             3\n",
       "dodge         gas             9\n",
       "honda         gas            13\n",
       "isuzu         gas             2\n",
       "jaguar        gas             3\n",
       "mazda         diesel          2\n",
       "              gas            11\n",
       "mercedes-benz diesel          4\n",
       "              gas             4\n",
       "mercury       gas             1\n",
       "mitsubishi    gas            13\n",
       "nissan        diesel          1\n",
       "              gas            17\n",
       "peugot        diesel          5\n",
       "              gas             6\n",
       "plymouth      gas             7\n",
       "porsche       gas             4\n",
       "saab          gas             6\n",
       "subaru        gas            12\n",
       "toyota        diesel          3\n",
       "              gas            29\n",
       "volkswagen    diesel          4\n",
       "              gas             8\n",
       "volvo         diesel          1\n",
       "              gas            10"
      ]
     },
     "execution_count": 19,
     "metadata": {},
     "output_type": "execute_result"
    }
   ],
   "source": [
    "auto_price[['counts', 'fuel_type', 'make']].groupby(['make', 'fuel_type']).agg('count')"
   ]
  },
  {
   "cell_type": "markdown",
   "metadata": {},
   "source": [
    "Examine this result. The data are grouped first by `make` and then by engine `fuel-type`. This table gives us a feel for which manufactures only make gas cars and which ones make both gas and diesel cars, and how many of each. Notice that groups with counts of zeros do not display in the table. \n",
    "\n",
    "Frequency tables with multiple levels of grouping can be easily displayed. Execute the code in the cell below and examine the result. "
   ]
  },
  {
   "cell_type": "code",
   "execution_count": 20,
   "metadata": {},
   "outputs": [
    {
     "data": {
      "text/html": [
       "<div>\n",
       "<style scoped>\n",
       "    .dataframe tbody tr th:only-of-type {\n",
       "        vertical-align: middle;\n",
       "    }\n",
       "\n",
       "    .dataframe tbody tr th {\n",
       "        vertical-align: top;\n",
       "    }\n",
       "\n",
       "    .dataframe thead th {\n",
       "        text-align: right;\n",
       "    }\n",
       "</style>\n",
       "<table border=\"1\" class=\"dataframe\">\n",
       "  <thead>\n",
       "    <tr style=\"text-align: right;\">\n",
       "      <th></th>\n",
       "      <th></th>\n",
       "      <th></th>\n",
       "      <th>counts</th>\n",
       "    </tr>\n",
       "    <tr>\n",
       "      <th>make</th>\n",
       "      <th>fuel_type</th>\n",
       "      <th>aspiration</th>\n",
       "      <th></th>\n",
       "    </tr>\n",
       "  </thead>\n",
       "  <tbody>\n",
       "    <tr>\n",
       "      <th>alfa-romero</th>\n",
       "      <th>gas</th>\n",
       "      <th>std</th>\n",
       "      <td>2</td>\n",
       "    </tr>\n",
       "    <tr>\n",
       "      <th rowspan=\"2\" valign=\"top\">audi</th>\n",
       "      <th rowspan=\"2\" valign=\"top\">gas</th>\n",
       "      <th>std</th>\n",
       "      <td>5</td>\n",
       "    </tr>\n",
       "    <tr>\n",
       "      <th>turbo</th>\n",
       "      <td>1</td>\n",
       "    </tr>\n",
       "    <tr>\n",
       "      <th>bmw</th>\n",
       "      <th>gas</th>\n",
       "      <th>std</th>\n",
       "      <td>8</td>\n",
       "    </tr>\n",
       "    <tr>\n",
       "      <th>chevrolet</th>\n",
       "      <th>gas</th>\n",
       "      <th>std</th>\n",
       "      <td>3</td>\n",
       "    </tr>\n",
       "    <tr>\n",
       "      <th rowspan=\"2\" valign=\"top\">dodge</th>\n",
       "      <th rowspan=\"2\" valign=\"top\">gas</th>\n",
       "      <th>std</th>\n",
       "      <td>6</td>\n",
       "    </tr>\n",
       "    <tr>\n",
       "      <th>turbo</th>\n",
       "      <td>3</td>\n",
       "    </tr>\n",
       "    <tr>\n",
       "      <th>honda</th>\n",
       "      <th>gas</th>\n",
       "      <th>std</th>\n",
       "      <td>13</td>\n",
       "    </tr>\n",
       "    <tr>\n",
       "      <th>isuzu</th>\n",
       "      <th>gas</th>\n",
       "      <th>std</th>\n",
       "      <td>2</td>\n",
       "    </tr>\n",
       "    <tr>\n",
       "      <th>jaguar</th>\n",
       "      <th>gas</th>\n",
       "      <th>std</th>\n",
       "      <td>3</td>\n",
       "    </tr>\n",
       "    <tr>\n",
       "      <th rowspan=\"2\" valign=\"top\">mazda</th>\n",
       "      <th>diesel</th>\n",
       "      <th>std</th>\n",
       "      <td>2</td>\n",
       "    </tr>\n",
       "    <tr>\n",
       "      <th>gas</th>\n",
       "      <th>std</th>\n",
       "      <td>11</td>\n",
       "    </tr>\n",
       "    <tr>\n",
       "      <th rowspan=\"2\" valign=\"top\">mercedes-benz</th>\n",
       "      <th>diesel</th>\n",
       "      <th>turbo</th>\n",
       "      <td>4</td>\n",
       "    </tr>\n",
       "    <tr>\n",
       "      <th>gas</th>\n",
       "      <th>std</th>\n",
       "      <td>4</td>\n",
       "    </tr>\n",
       "    <tr>\n",
       "      <th>mercury</th>\n",
       "      <th>gas</th>\n",
       "      <th>turbo</th>\n",
       "      <td>1</td>\n",
       "    </tr>\n",
       "    <tr>\n",
       "      <th rowspan=\"2\" valign=\"top\">mitsubishi</th>\n",
       "      <th rowspan=\"2\" valign=\"top\">gas</th>\n",
       "      <th>std</th>\n",
       "      <td>7</td>\n",
       "    </tr>\n",
       "    <tr>\n",
       "      <th>turbo</th>\n",
       "      <td>6</td>\n",
       "    </tr>\n",
       "    <tr>\n",
       "      <th rowspan=\"3\" valign=\"top\">nissan</th>\n",
       "      <th>diesel</th>\n",
       "      <th>std</th>\n",
       "      <td>1</td>\n",
       "    </tr>\n",
       "    <tr>\n",
       "      <th rowspan=\"2\" valign=\"top\">gas</th>\n",
       "      <th>std</th>\n",
       "      <td>16</td>\n",
       "    </tr>\n",
       "    <tr>\n",
       "      <th>turbo</th>\n",
       "      <td>1</td>\n",
       "    </tr>\n",
       "    <tr>\n",
       "      <th rowspan=\"3\" valign=\"top\">peugot</th>\n",
       "      <th>diesel</th>\n",
       "      <th>turbo</th>\n",
       "      <td>5</td>\n",
       "    </tr>\n",
       "    <tr>\n",
       "      <th rowspan=\"2\" valign=\"top\">gas</th>\n",
       "      <th>std</th>\n",
       "      <td>5</td>\n",
       "    </tr>\n",
       "    <tr>\n",
       "      <th>turbo</th>\n",
       "      <td>1</td>\n",
       "    </tr>\n",
       "    <tr>\n",
       "      <th rowspan=\"2\" valign=\"top\">plymouth</th>\n",
       "      <th rowspan=\"2\" valign=\"top\">gas</th>\n",
       "      <th>std</th>\n",
       "      <td>5</td>\n",
       "    </tr>\n",
       "    <tr>\n",
       "      <th>turbo</th>\n",
       "      <td>2</td>\n",
       "    </tr>\n",
       "    <tr>\n",
       "      <th>porsche</th>\n",
       "      <th>gas</th>\n",
       "      <th>std</th>\n",
       "      <td>4</td>\n",
       "    </tr>\n",
       "    <tr>\n",
       "      <th rowspan=\"2\" valign=\"top\">saab</th>\n",
       "      <th rowspan=\"2\" valign=\"top\">gas</th>\n",
       "      <th>std</th>\n",
       "      <td>4</td>\n",
       "    </tr>\n",
       "    <tr>\n",
       "      <th>turbo</th>\n",
       "      <td>2</td>\n",
       "    </tr>\n",
       "    <tr>\n",
       "      <th rowspan=\"2\" valign=\"top\">subaru</th>\n",
       "      <th rowspan=\"2\" valign=\"top\">gas</th>\n",
       "      <th>std</th>\n",
       "      <td>10</td>\n",
       "    </tr>\n",
       "    <tr>\n",
       "      <th>turbo</th>\n",
       "      <td>2</td>\n",
       "    </tr>\n",
       "    <tr>\n",
       "      <th rowspan=\"3\" valign=\"top\">toyota</th>\n",
       "      <th rowspan=\"2\" valign=\"top\">diesel</th>\n",
       "      <th>std</th>\n",
       "      <td>2</td>\n",
       "    </tr>\n",
       "    <tr>\n",
       "      <th>turbo</th>\n",
       "      <td>1</td>\n",
       "    </tr>\n",
       "    <tr>\n",
       "      <th>gas</th>\n",
       "      <th>std</th>\n",
       "      <td>29</td>\n",
       "    </tr>\n",
       "    <tr>\n",
       "      <th rowspan=\"3\" valign=\"top\">volkswagen</th>\n",
       "      <th rowspan=\"2\" valign=\"top\">diesel</th>\n",
       "      <th>std</th>\n",
       "      <td>2</td>\n",
       "    </tr>\n",
       "    <tr>\n",
       "      <th>turbo</th>\n",
       "      <td>2</td>\n",
       "    </tr>\n",
       "    <tr>\n",
       "      <th>gas</th>\n",
       "      <th>std</th>\n",
       "      <td>8</td>\n",
       "    </tr>\n",
       "    <tr>\n",
       "      <th rowspan=\"3\" valign=\"top\">volvo</th>\n",
       "      <th>diesel</th>\n",
       "      <th>turbo</th>\n",
       "      <td>1</td>\n",
       "    </tr>\n",
       "    <tr>\n",
       "      <th rowspan=\"2\" valign=\"top\">gas</th>\n",
       "      <th>std</th>\n",
       "      <td>6</td>\n",
       "    </tr>\n",
       "    <tr>\n",
       "      <th>turbo</th>\n",
       "      <td>4</td>\n",
       "    </tr>\n",
       "  </tbody>\n",
       "</table>\n",
       "</div>"
      ],
      "text/plain": [
       "                                    counts\n",
       "make          fuel_type aspiration        \n",
       "alfa-romero   gas       std              2\n",
       "audi          gas       std              5\n",
       "                        turbo            1\n",
       "bmw           gas       std              8\n",
       "chevrolet     gas       std              3\n",
       "dodge         gas       std              6\n",
       "                        turbo            3\n",
       "honda         gas       std             13\n",
       "isuzu         gas       std              2\n",
       "jaguar        gas       std              3\n",
       "mazda         diesel    std              2\n",
       "              gas       std             11\n",
       "mercedes-benz diesel    turbo            4\n",
       "              gas       std              4\n",
       "mercury       gas       turbo            1\n",
       "mitsubishi    gas       std              7\n",
       "                        turbo            6\n",
       "nissan        diesel    std              1\n",
       "              gas       std             16\n",
       "                        turbo            1\n",
       "peugot        diesel    turbo            5\n",
       "              gas       std              5\n",
       "                        turbo            1\n",
       "plymouth      gas       std              5\n",
       "                        turbo            2\n",
       "porsche       gas       std              4\n",
       "saab          gas       std              4\n",
       "                        turbo            2\n",
       "subaru        gas       std             10\n",
       "                        turbo            2\n",
       "toyota        diesel    std              2\n",
       "                        turbo            1\n",
       "              gas       std             29\n",
       "volkswagen    diesel    std              2\n",
       "                        turbo            2\n",
       "              gas       std              8\n",
       "volvo         diesel    turbo            1\n",
       "              gas       std              6\n",
       "                        turbo            4"
      ]
     },
     "execution_count": 20,
     "metadata": {},
     "output_type": "execute_result"
    }
   ],
   "source": [
    "auto_price[['counts', 'fuel_type', 'aspiration', 'make']].groupby(['make', 'fuel_type', 'aspiration']).agg('count')"
   ]
  },
  {
   "cell_type": "markdown",
   "metadata": {},
   "source": [
    "Notice that with three levels the table takes a bit more effort to examine. As the number of grouping levels increases, frequency tables become progressively more difficult to understand. "
   ]
  },
  {
   "cell_type": "markdown",
   "metadata": {},
   "source": [
    "**Your turn:** In the cell below, create and execute the code to create a frequency table of autos by body style and number of doors."
   ]
  },
  {
   "cell_type": "code",
   "execution_count": 21,
   "metadata": {},
   "outputs": [
    {
     "data": {
      "text/html": [
       "<div>\n",
       "<style scoped>\n",
       "    .dataframe tbody tr th:only-of-type {\n",
       "        vertical-align: middle;\n",
       "    }\n",
       "\n",
       "    .dataframe tbody tr th {\n",
       "        vertical-align: top;\n",
       "    }\n",
       "\n",
       "    .dataframe thead th {\n",
       "        text-align: right;\n",
       "    }\n",
       "</style>\n",
       "<table border=\"1\" class=\"dataframe\">\n",
       "  <thead>\n",
       "    <tr style=\"text-align: right;\">\n",
       "      <th></th>\n",
       "      <th></th>\n",
       "      <th>counts</th>\n",
       "    </tr>\n",
       "    <tr>\n",
       "      <th>body_style</th>\n",
       "      <th>num_of_doors</th>\n",
       "      <th></th>\n",
       "    </tr>\n",
       "  </thead>\n",
       "  <tbody>\n",
       "    <tr>\n",
       "      <th>convertible</th>\n",
       "      <th>two</th>\n",
       "      <td>5</td>\n",
       "    </tr>\n",
       "    <tr>\n",
       "      <th>hardtop</th>\n",
       "      <th>two</th>\n",
       "      <td>8</td>\n",
       "    </tr>\n",
       "    <tr>\n",
       "      <th rowspan=\"2\" valign=\"top\">hatchback</th>\n",
       "      <th>four</th>\n",
       "      <td>10</td>\n",
       "    </tr>\n",
       "    <tr>\n",
       "      <th>two</th>\n",
       "      <td>53</td>\n",
       "    </tr>\n",
       "    <tr>\n",
       "      <th rowspan=\"3\" valign=\"top\">sedan</th>\n",
       "      <th>?</th>\n",
       "      <td>2</td>\n",
       "    </tr>\n",
       "    <tr>\n",
       "      <th>four</th>\n",
       "      <td>78</td>\n",
       "    </tr>\n",
       "    <tr>\n",
       "      <th>two</th>\n",
       "      <td>14</td>\n",
       "    </tr>\n",
       "    <tr>\n",
       "      <th>wagon</th>\n",
       "      <th>four</th>\n",
       "      <td>24</td>\n",
       "    </tr>\n",
       "  </tbody>\n",
       "</table>\n",
       "</div>"
      ],
      "text/plain": [
       "                          counts\n",
       "body_style  num_of_doors        \n",
       "convertible two                5\n",
       "hardtop     two                8\n",
       "hatchback   four              10\n",
       "            two               53\n",
       "sedan       ?                  2\n",
       "            four              78\n",
       "            two               14\n",
       "wagon       four              24"
      ]
     },
     "execution_count": 21,
     "metadata": {},
     "output_type": "execute_result"
    }
   ],
   "source": [
    "auto_price[['counts', 'body_style', 'num_of_doors']].groupby(['body_style', 'num_of_doors']).agg('count')"
   ]
  },
  {
   "cell_type": "markdown",
   "metadata": {},
   "source": [
    "Examine your results and answer these questions. \n",
    "1. Which body style and door configuration is the most frequent? \n",
    "2. Ignoring missing values, which body style and door configuration is the least frequent? "
   ]
  },
  {
   "cell_type": "markdown",
   "metadata": {},
   "source": [
    "## Exploration and Visualization of Data\n",
    "\n",
    "### Why visualization?\n",
    "\n",
    "Visualization is an essential method in any data scientist’s toolbox. Visualization is a key first step in the exploration of most data sets. As a general rule, you should never start creating models until you have examined the data and understand the relationships. Otherwise, you risk wasting your time creating models blindly. Visualization is also a powerful tool for presentation of results and for determining sources of problems with analytics. \n",
    "\n",
    "The concepts of exploring a data set visually were pioneered by John Tukey in the 1960s and 1970s. Tukey consolidated his many ideas on data exploration into a book in the late 1970s, ***John Tukey, Exploratory Data Analysis, 1977, Addison-Westley***.\n",
    "\n",
    "![](img/Tukey.jpg)\n",
    "\n",
    "Bill Cleveland documented his seminal work in visualization of complex data sets in his book, ***William S. Cleveland, Visualizing Data, 1993, Hobart Press***.\n",
    "\n",
    "![](img/Cleveland.jpg)\n",
    "\n",
    "The key concept of exploratory data analysis (EDA) or visual exploration of data is to understand the relationships in the data set. Specifically using visualization when you approach a new data set you can:\n",
    "\n",
    "- Explore complex data sets, using visualization to develop understanding of the inherent relationships.\n",
    "- Use different chart types to create multiple views of data to highlight different aspects of the inherent relationships.\n",
    "- Use plot aesthetics to project multiple dimensions. \n",
    "- Apply conditioning or faceting methods to project multiple dimensions\n",
    "\n",
    "\n"
   ]
  },
  {
   "cell_type": "markdown",
   "metadata": {},
   "source": [
    "### The confusing world of Python graphics libraries. \n",
    "\n",
    "There are a number of powerful charting packages available for the Python language. This situation can lead to confusion as to which package to use for which situation. Below is an outline to help you understand the organization of Python grapics choices:\n",
    "https://bokeh.pydata.org/en/latest/\n",
    "- **Matplotlib:** [Matplotlib](https://matplotlib.org/users/index.html) is a low-level scientific and technical charting package. A number of other Python charting libraries are built on top of Matplotlib. As a result, a bit of knowledge of Matplotlib will help you set the attributes of plots created with several other packages. An extensive [tutorial](https://matplotlib.org/tutorials/index.html) is available for Matplotlib.\n",
    "- **Pandas plotting:** The [visualization methods for Pandas](https://pandas.pydata.org/pandas-docs/stable/visualization.html) provides a simple interface for common plot types for data in data frames. As with many other Python plotting libraries Pandas visualization is built on top of Matplotlib. You can use common Matplotlib methods with Pandas visualization. \n",
    "- **Seaborn:** The [Seaborn](https://seaborn.pydata.org/) package privides high-level api for statistical graphics. As with many other Python plotting libraries Seaborn is built on top of Matplotlib. You can use common Matplotlib methods with Seaborn.  A [tutorial](https://seaborn.pydata.org/tutorial.html) with useful examples is available for Seaborn.   \n",
    "- **Other packages:** There are a number of other sophisticated and useful Python graphics packages. Unfortunately, we do not have time in this course to cover these packages. The Python [ggplot](http://ggplot.yhathq.com/) package provideds a high-level graphics interface based on the grammar of graphics used in the R ggplot2 package.  There are two powerful Python interactive graphics packages which are widely used, [plotly](https://plot.ly/python/) and [Bokeh](https://bokeh.pydata.org/en/latest/)."
   ]
  },
  {
   "cell_type": "markdown",
   "metadata": {},
   "source": [
    "### Basic chart types\n",
    "\n",
    "Now that you have loaded and had a first look at the data, its time to get to work making some charts.   \n",
    "\n",
    "There are enumerable chart types that are used for data exploration. When exploring a data set you need to examine multiple views. This process will require using multiple chart types. \n",
    "\n",
    "All computer data graphics are projected onto a 2-dimensional surface.  This is a fundamental restriction on data visualization we must learn to work with. Very broadly, plots are one-dimensional (univariate) or 2-dimensional (bi-variate). We will study plots of both types in this lesson.   \n",
    "\n",
    "In this lesson you will work with a number of common chart types. The list below indicates the plots we will explore and an indication about the dimensionality of the plot:\n",
    "\n",
    "- **Bar plots** - 1d\n",
    "- **Histograms** - 1d\n",
    "- **Box plots** - 1d +\n",
    "- **Kernel Density Estimation Plots** - 1d +\n",
    "- **Violin plots** -1d +\n",
    "- **Scatter plot** - 2d\n",
    "- **2d Kernel Density Plots** -2d\n",
    "- **Hexbin plots** - 2d\n",
    "- **Line plots** - 2d\n",
    "\n",
    "The following exercises give you some practice using these chart types. "
   ]
  },
  {
   "cell_type": "markdown",
   "metadata": {},
   "source": [
    "### Bar plots\n",
    "\n",
    "To start our exploration of of these data we will work with bar plots. Bar plots are used to display the counts or frequency of unique values of a categorical variable. The height of the bar represents the count for each unique category of the variable. \n",
    "\n",
    "The code below uses chain of Pandas methods to display a barplot of the counts by body style. This chain performs the following operations:\n",
    "1. The required columns are selected using the `loc` method. The `loc` method selects rows, or columns by name, not index number (use `iloc`). In this case we are selecting columns by a list of two names.\n",
    "2. The `groupby` method groups the data in the order of the columns in the list.\n",
    "3. The `agg` method performs aggregation on the groups. In this case we are only applying a count operation.\n",
    "4. The Pandas `plot.bar` method creates the bar plot. Notice how the `bar` method of `plot` specifies the plot type. This syntax can be used for all Pandas plot types.\n",
    "\n",
    "The Jupyter 'magic' command `matplotlib inline` tells the interpreter to display matplotlib graphics inline in the notebook.\n",
    "\n",
    "Execute this code to create the bar plot."
   ]
  },
  {
   "cell_type": "code",
   "execution_count": 22,
   "metadata": {},
   "outputs": [
    {
     "data": {
      "text/plain": [
       "<matplotlib.axes._subplots.AxesSubplot at 0x1c7773f75c0>"
      ]
     },
     "execution_count": 22,
     "metadata": {},
     "output_type": "execute_result"
    },
    {
     "data": {
      "image/png": "[encoded data removed]",
      "text/plain": [
       "<Figure size 432x288 with 1 Axes>"
      ]
     },
     "metadata": {
      "needs_background": "light"
     },
     "output_type": "display_data"
    }
   ],
   "source": [
    "%matplotlib inline\n",
    "auto_price.loc[:, ['body_style', 'counts']].groupby(['body_style']).agg('count').plot.bar()"
   ]
  },
  {
   "cell_type": "markdown",
   "metadata": {
    "collapsed": true
   },
   "source": [
    "From this display you can see that sedan is the most frequent body type is sedan and the least frequent is convertible. \n",
    "\n",
    "It would be easier to understand this plot if the frequencies of the categories were ordered. This would be particularly true if there were a large number of categories or categories with similar counts. \n",
    "\n",
    "The code in the cell below adds a `sort_values` operation to the chain of methods. The counts will be ordered from lowest to highest. \n",
    "\n",
    "Execute the code in the cell below to create an ordered bar plot."
   ]
  },
  {
   "cell_type": "code",
   "execution_count": 23,
   "metadata": {
    "scrolled": false
   },
   "outputs": [
    {
     "data": {
      "text/plain": [
       "<matplotlib.axes._subplots.AxesSubplot at 0x1c77945fd30>"
      ]
     },
     "execution_count": 23,
     "metadata": {},
     "output_type": "execute_result"
    },
    {
     "data": {
      "image/png": "[encoded data removed]",
      "text/plain": [
       "<Figure size 432x288 with 1 Axes>"
      ]
     },
     "metadata": {
      "needs_background": "light"
     },
     "output_type": "display_data"
    }
   ],
   "source": [
    "auto_price.loc[:, ['body_style', 'counts']].groupby(['body_style']).agg('count').sort_values('counts').plot.bar()"
   ]
  },
  {
   "cell_type": "markdown",
   "metadata": {},
   "source": [
    "**Your turn!** In the cell below, create and execute the code to create a sorted bar chart of the number of doors. "
   ]
  },
  {
   "cell_type": "code",
   "execution_count": 24,
   "metadata": {
    "scrolled": true
   },
   "outputs": [
    {
     "data": {
      "text/plain": [
       "<matplotlib.axes._subplots.AxesSubplot at 0x1c7795532b0>"
      ]
     },
     "execution_count": 24,
     "metadata": {},
     "output_type": "execute_result"
    },
    {
     "data": {
      "image/png": "[encoded data removed]",
      "text/plain": [
       "<Figure size 432x288 with 1 Axes>"
      ]
     },
     "metadata": {
      "needs_background": "light"
     },
     "output_type": "display_data"
    }
   ],
   "source": [
    "auto_price.loc[:, ['num_of_doors', 'counts']].groupby(['num_of_doors']).agg('count').sort_values('counts').plot.bar()"
   ]
  },
  {
   "cell_type": "markdown",
   "metadata": {},
   "source": [
    "Examine your plot and answer the following questions:\n",
    "1. Is there evidence of missing values? \n",
    "2. Which number of doors is the most common? "
   ]
  },
  {
   "cell_type": "markdown",
   "metadata": {},
   "source": [
    "### Histograms\n",
    "\n",
    "Histograms are related to bar plots. Histograms are used for numeric variables. Whereas, a bar plot shows the counts of unique categories, a histogram shows the number of data with values in each bin. The bins divide the values of the variable into equal segments. The vertical axis of the histogram shows the count of data values within each bin.  \n",
    "\n",
    "The code in the cell below uses the Pandas `plot` method once again, but with the `hist` method this time. The optional `bins = 30` argument customizes the appearance of the histogram. Notice that the use of the Pandas plotting method is a variation on the bar plots you just created. \n",
    "\n",
    "Execute this code and examine the result. "
   ]
  },
  {
   "cell_type": "code",
   "execution_count": 25,
   "metadata": {},
   "outputs": [
    {
     "data": {
      "text/plain": [
       "<matplotlib.axes._subplots.AxesSubplot at 0x1c7795b9c88>"
      ]
     },
     "execution_count": 25,
     "metadata": {},
     "output_type": "execute_result"
    },
    {
     "data": {
      "image/png": "[encoded data removed]",
      "text/plain": [
       "<Figure size 432x288 with 1 Axes>"
      ]
     },
     "metadata": {
      "needs_background": "light"
     },
     "output_type": "display_data"
    }
   ],
   "source": [
    "auto_price.loc[:,'price'].plot.hist(bins = 30)"
   ]
  },
  {
   "cell_type": "markdown",
   "metadata": {},
   "source": [
    "The histogram shows that the price of automobiles are skewed toward the lower end, with only a few high priced autos."
   ]
  },
  {
   "cell_type": "markdown",
   "metadata": {},
   "source": [
    "### Box plots\n",
    "\n",
    "Box plots, also known as box and whisker plots, were introduced by John Tukey in 1970. Box plots are another way to visualize the distribution of data values. In this respect, box plots are comparable to histograms, but are quite different in presentation. \n",
    "\n",
    "A diagram showing the interpretation of a box plot is shown in the figure below.\n",
    "\n",
    "![Interpretation of a box plot](img/BoxPlot.png)\n",
    "\n",
    "At first glance the interpretation of a box plot is a bit intimidating. The box plot is read in the following manner:\n",
    "\n",
    "1. The bold line in the box shows the median of the distribution. \n",
    "2. The upper and lower middle quartiles of the distribution define the upper and lower limits of the box.\n",
    "3. The length of the the whiskers is the lesser of +/-2.5 times the inter-quartile range (about 2.7 times the standard deviation) or the most extreme values of the data. \n",
    "4. Outliers are shown by symbols, such as `+` or `*`, beyond the whiskers.\n",
    "\n",
    "Box plots are best used to compare distributions of a variable grouped by another variable. In this case, several box plots can be stacked along an axis. The data are divided using a 'group by' operation, and the box plots for each group are stacked next to each other. In this way, the box plot allows you to display two dimensions of your data set. \n",
    "\n",
    "The code in the cell below uses the matplotlib box-plot method. The only argument is the single data vector. Execute the code in the cell below to create a basic box plot of the price of the automobiles."
   ]
  },
  {
   "cell_type": "code",
   "execution_count": 26,
   "metadata": {},
   "outputs": [
    {
     "data": {
      "text/plain": [
       "{'whiskers': [<matplotlib.lines.Line2D at 0x1c77a68a320>,\n",
       "  <matplotlib.lines.Line2D at 0x1c77a68a6d8>],\n",
       " 'caps': [<matplotlib.lines.Line2D at 0x1c77a68aa20>,\n",
       "  <matplotlib.lines.Line2D at 0x1c77a68ad68>],\n",
       " 'boxes': [<matplotlib.lines.Line2D at 0x1c77a67def0>],\n",
       " 'medians': [<matplotlib.lines.Line2D at 0x1c77a68ae48>],\n",
       " 'fliers': [<matplotlib.lines.Line2D at 0x1c77a696438>],\n",
       " 'means': []}"
      ]
     },
     "execution_count": 26,
     "metadata": {},
     "output_type": "execute_result"
    },
    {
     "data": {
      "image/png": "[encoded data removed]",
      "text/plain": [
       "<Figure size 432x288 with 1 Axes>"
      ]
     },
     "metadata": {
      "needs_background": "light"
     },
     "output_type": "display_data"
    }
   ],
   "source": [
    "import matplotlib.pyplot as plt\n",
    "plt.boxplot(auto_price.loc[:,'price'])"
   ]
  },
  {
   "cell_type": "markdown",
   "metadata": {},
   "source": [
    "Compare the above plot to the histogram of price. You can see from both plots that the distribution of price is quite asymmetric. Further, there are a significant number of high-priced cars that appear as outliers. "
   ]
  },
  {
   "cell_type": "markdown",
   "metadata": {},
   "source": [
    "The above plot, is quite basic. Most importantly, this plot lacks the annotation required for someone to quickly understand it. At the minimum a title and an axis label are required. Fortunately, adding these attributes to the plot is relatively easy, since matplotlib provides methods to do so. \n",
    "\n",
    "There is another issue with this plot. Notice that the limits of the y axis is $\\{ 5000, 50000 \\}$. The fact that this limit does not include `0` can distort the observer's view of the data. This is particularly the case when making comparisons between variables, of subsets of variables. In general, the vertical axis limit of  plots should include `0`.\n",
    "\n",
    "It will also be useful to have control of other plot attributes like overall size. \n",
    "\n",
    "The basic recipe is as follows:\n",
    "\n",
    "1. A matplotlib figure object is created. The `figsize` arguments sets the size of the plot area.\n",
    "2. A axis object is created for the figure.\n",
    "3. The box plot is added to the axis object.\n",
    "4. Title text is added to the axis object.\n",
    "5. A y axis label is added to the axis object. \n",
    "6. The limits for the y axis are set to include 0. \n",
    "\n",
    "***\n",
    "**Note:** There are many other attributes which can be set by with matplotlib. \n",
    "***\n",
    "\n",
    "Execute the code to create the plot and examine the results."
   ]
  },
  {
   "cell_type": "code",
   "execution_count": 38,
   "metadata": {},
   "outputs": [
    {
     "data": {
      "text/plain": [
       "(0.0, 50000.0)"
      ]
     },
     "execution_count": 38,
     "metadata": {},
     "output_type": "execute_result"
    },
    {
     "data": {
      "image/png": "[encoded data removed]",
      "text/plain": [
       "<Figure size 432x432 with 1 Axes>"
      ]
     },
     "metadata": {},
     "output_type": "display_data"
    }
   ],
   "source": [
    "fig = plt.figure(figsize=(6, 6)) # define plot area\n",
    "ax = sns.boxplot(y=auto_price.loc[:,'price'], color='white')\n",
    "ax.tick_params(labelsize=10)\n",
    "ax.set_title('Box plot of auto price', fontsize=20) # Give the plot a main title\n",
    "ax.set_ylabel('Auto Price', fontsize=15)# Set  text for y axis\n",
    "ax.set_ylim(0.0, 50000.0) # Set the limits of the y axis"
   ]
  },
  {
   "cell_type": "code",
   "execution_count": 27,
   "metadata": {
    "scrolled": false
   },
   "outputs": [
    {
     "data": {
      "text/plain": [
       "(0.0, 50000.0)"
      ]
     },
     "execution_count": 27,
     "metadata": {},
     "output_type": "execute_result"
    },
    {
     "data": {
      "image/png": "[encoded data removed]",
      "text/plain": [
       "<Figure size 432x432 with 1 Axes>"
      ]
     },
     "metadata": {
      "needs_background": "light"
     },
     "output_type": "display_data"
    }
   ],
   "source": [
    "fig = plt.figure(figsize=(6, 6)) # define plot area\n",
    "ax = fig.gca() # define axis \n",
    "plt.boxplot(auto_price.loc[:,'price'])\n",
    "ax.set_title('Box plot of price') # Give the plot a main title\n",
    "ax.set_ylabel('Auto Price')# Set  text for y axis\n",
    "ax.set_ylim(0.0, 50000.0) # Set the limits of the y axis"
   ]
  },
  {
   "cell_type": "markdown",
   "metadata": {},
   "source": [
    "Box plots are most useful when the data are subdivided or grouped using another variable. The `by` argument allows you to group the data in a set of box plots by one or more categorical variables. \n",
    "\n",
    "For the code in the cell below we will use the Pandas `boxplot` method directly. Notice the `ax = ax` argument which places on the plot on the axis which has been defined. The matplotlib methods can then be used on this axis to add attributes to the plot. \n",
    "\n",
    "Execute the code below to display the box plots of price grouped by the `fuel.type` variable."
   ]
  },
  {
   "cell_type": "code",
   "execution_count": 28,
   "metadata": {
    "scrolled": false
   },
   "outputs": [
    {
     "data": {
      "text/plain": [
       "(0.0, 50000.0)"
      ]
     },
     "execution_count": 28,
     "metadata": {},
     "output_type": "execute_result"
    },
    {
     "data": {
      "image/png": "[encoded data removed]",
      "text/plain": [
       "<Figure size 432x432 with 1 Axes>"
      ]
     },
     "metadata": {
      "needs_background": "light"
     },
     "output_type": "display_data"
    }
   ],
   "source": [
    "fig = plt.figure(figsize=(6, 6)) # define plot area\n",
    "ax = fig.gca() # define axis \n",
    "auto_price.loc[:,['price', 'fuel_type']].boxplot(by = 'fuel_type', ax = ax)\n",
    "ax.set_title('Box plot of price') # Give the plot a main title\n",
    "ax.set_ylabel('Auto Price')# Set text for y axis\n",
    "ax.set_ylim(0.0, 50000.0) # Set the limits of the y axis"
   ]
  },
  {
   "cell_type": "markdown",
   "metadata": {
    "collapsed": true
   },
   "source": [
    "Examine these box plots and note the following:\n",
    "\n",
    "- The median price of gas autos is less than the the median price for diesel autos.\n",
    "- There is considerable overlap between the interquartile ranges of the price distributions of gas and diesel autos. "
   ]
  },
  {
   "cell_type": "markdown",
   "metadata": {},
   "source": [
    "**Your turn!** In the cell below create and execute the code to display a box plot of auto price grouped by both `fuel-type` and `aspiration`. You will need to include the following in your code:\n",
    "\n",
    "1. Define figure and axis object.\n",
    "2. Add a box plot to the axis using the Pandas boxplot method. The `by` argument will be a list of column names.\n",
    "3. Set some attributes of your plot, including a title, an x-axis label and a y-axis label."
   ]
  },
  {
   "cell_type": "code",
   "execution_count": 29,
   "metadata": {},
   "outputs": [
    {
     "data": {
      "text/plain": [
       "(0.0, 50000.0)"
      ]
     },
     "execution_count": 29,
     "metadata": {},
     "output_type": "execute_result"
    },
    {
     "data": {
      "image/png": "[encoded data removed]",
      "text/plain": [
       "<Figure size 432x432 with 1 Axes>"
      ]
     },
     "metadata": {
      "needs_background": "light"
     },
     "output_type": "display_data"
    }
   ],
   "source": [
    "fig = plt.figure(figsize=(6, 6)) # define plot area\n",
    "ax = fig.gca() # define axis \n",
    "auto_price.loc[:,['price', 'fuel_type', 'aspiration']].boxplot(by = ['fuel_type','aspiration'], ax = ax)\n",
    "ax.set_title('Box plot of price') # Give the plot a main title\n",
    "ax.set_ylabel('Auto Price')# Set text for y axis\n",
    "ax.set_ylim(0.0, 50000.0) # Set the limits of the y axis"
   ]
  },
  {
   "cell_type": "markdown",
   "metadata": {},
   "source": [
    "Examine this plot and answer the following questions. \n",
    "1. Are turbo diesel cars generally more expensive that standard gas and diesel cars, and why? \n",
    "2. Which type of car shows the greatest price range and the most outliers? "
   ]
  },
  {
   "cell_type": "markdown",
   "metadata": {},
   "source": [
    "### Kernel density estimation plots\n",
    "\n",
    "You have used two methods for visualizing distributions. Now, you will look at another method, kernel density estimation. Kernel density estimation uses a moving window density estimation kernel to average the density of the distribution. The result is a smoothed estimate of the probability density of the variable.\n",
    "\n",
    "In the cell below we will use the Python `seaborn` package to plot the kernel density estimation plot. The code uses the following recipe to create and display the plot:\n",
    "1. Define a figure and an axis on that figure.\n",
    "2. A seaborn grid is defined, with the style as the argument.\n",
    "3. The seaborn `kdeplot` method is used on the vector of values to be plotted.\n",
    "4. Add plot attributes using matplotlib methods.\n",
    "\n",
    "Notice that, once again, we add attributes to the plot using matplotlib methods. \n",
    "\n",
    "***\n",
    "**Note:** Depending on which version of the numpy and statsmodels packages you are running, you may get a depreciation warning.\n",
    "***\n",
    "\n",
    "Execute the code in the cell below to compute and plot a kernel density estimate of auto price. "
   ]
  },
  {
   "cell_type": "code",
   "execution_count": 30,
   "metadata": {
    "scrolled": false
   },
   "outputs": [
    {
     "data": {
      "text/plain": [
       "Text(0, 0.5, 'Density')"
      ]
     },
     "execution_count": 30,
     "metadata": {},
     "output_type": "execute_result"
    },
    {
     "data": {
      "image/png": "[encoded data removed]",
      "text/plain": [
       "<Figure size 432x432 with 1 Axes>"
      ]
     },
     "metadata": {
      "needs_background": "light"
     },
     "output_type": "display_data"
    }
   ],
   "source": [
    "import seaborn as sns\n",
    "fig = plt.figure(figsize=(6,6)) # define plot area\n",
    "ax = fig.gca() # define axis \n",
    "sns.set_style(\"whitegrid\")\n",
    "sns.kdeplot(auto_price.loc[:, 'price'], ax = ax, bw = 2000)\n",
    "ax.set_title('KDE plot of auto price') # Give the plot a main title\n",
    "ax.set_xlabel('Auto price') # Set text for the x axis\n",
    "ax.set_ylabel('Density')# Set text for y axis"
   ]
  },
  {
   "cell_type": "markdown",
   "metadata": {},
   "source": [
    "Examine this plot. Notice that the distribution is heavily skewed to the left or low side. This finding is consistent with the other displays you have created with histograms and box plots."
   ]
  },
  {
   "cell_type": "markdown",
   "metadata": {},
   "source": [
    "### Violin plots\n",
    "\n",
    "Violin plots are a useful, and relatively new, plot type. The violin plot combines some attributes of a kernel density plot and the box plot. The violin plot shows a pair of synthetic kernel density plot. The violin plot has the advantage, and perhaps disadvantage, of showing more . Like a box plot, the violin plot can be conditioned on a categorical (factor) variable, so distributions of a grouped variable can be compared. \n",
    "\n",
    "The code in the cell below creates a violin plot of auto price, grouped by fuel type. Notice that `price` is the y (or vertical) axis argument and the grouping variable, `fuel-type`, is the x (or horizontal) axis argument. \n",
    "\n",
    "As before, we use the matplotlib methods to add attributes to this plot.\n",
    "\n",
    "Execute this code to create the plot. "
   ]
  },
  {
   "cell_type": "code",
   "execution_count": 31,
   "metadata": {},
   "outputs": [
    {
     "data": {
      "text/plain": [
       "Text(0, 0.5, 'Fuel type')"
      ]
     },
     "execution_count": 31,
     "metadata": {},
     "output_type": "execute_result"
    },
    {
     "data": {
      "image/png": "[encoded data removed]",
      "text/plain": [
       "<Figure size 432x432 with 1 Axes>"
      ]
     },
     "metadata": {},
     "output_type": "display_data"
    }
   ],
   "source": [
    "fig = plt.figure(figsize=(6,6)) # define plot area\n",
    "ax = fig.gca() # define axis \n",
    "sns.set_style(\"whitegrid\")\n",
    "sns.violinplot(x = 'fuel_type', y = 'price', data = auto_price, ax = ax)\n",
    "ax.set_title('KDE plot of auto price by fuel type') # Give the plot a main title\n",
    "ax.set_xlabel('Auto price') # Set text for the x axis\n",
    "ax.set_ylabel('Fuel type')# Set text for y axis"
   ]
  },
  {
   "cell_type": "markdown",
   "metadata": {},
   "source": [
    "Examine this plot and  notice the following:\n",
    "1. The price of gas and diesel cars overlap quite a lot. \n",
    "2. The outliers of price for gas cars are clearly visible.\n",
    "3. The median (white dot), inner quartiles (black box), and whiskers at +/-2.5 of the IQR are all visible inside the violin. "
   ]
  },
  {
   "cell_type": "markdown",
   "metadata": {},
   "source": [
    "**Your turn!** In the cell below create and execute the code to display a violin of auto price grouped by `fuel-type` and `aspiration`. Seaborn allows you to group by the `x` variable and by `hue` (color). In this case, use the arguments `x = 'fuel-type'` and `hue = 'aspiration'`. You should also try the alternative display option, `split = True`, which shows split violin plots.  "
   ]
  },
  {
   "cell_type": "code",
   "execution_count": 32,
   "metadata": {},
   "outputs": [
    {
     "data": {
      "text/plain": [
       "Text(0, 0.5, 'Fuel type')"
      ]
     },
     "execution_count": 32,
     "metadata": {},
     "output_type": "execute_result"
    },
    {
     "data": {
      "image/png": "[encoded data removed]",
      "text/plain": [
       "<Figure size 432x432 with 1 Axes>"
      ]
     },
     "metadata": {},
     "output_type": "display_data"
    }
   ],
   "source": [
    "fig = plt.figure(figsize=(6,6)) # define plot area\n",
    "ax = fig.gca() # define axis \n",
    "sns.set_style(\"whitegrid\")\n",
    "sns.violinplot(x = 'fuel_type', y = 'price', hue = 'aspiration',  data = auto_price, ax = ax)\n",
    "ax.set_title('KDE plot of auto price by fuel type') # Give the plot a main title\n",
    "ax.set_xlabel('Auto price') # Set text for the x axis\n",
    "ax.set_ylabel('Fuel type')# Set text for y axis"
   ]
  },
  {
   "cell_type": "markdown",
   "metadata": {},
   "source": [
    "Examine your plot and answer the following questions. \n",
    "1. Which category of autos has the smallest range of prices? \n",
    "2. Are turbo diesel cars generally more expensive and why? "
   ]
  },
  {
   "cell_type": "markdown",
   "metadata": {},
   "source": [
    "## Summary\n",
    "\n",
    "You have covered a lot of ground in this tutorial. You have explored many of the relationships in the auto price data set by creating multiple views to visualize these data. \n",
    "\n",
    "Specifically, in this tutorial you have:\n",
    "\n",
    "- Applied multiple summary statistical and multiple plot views to develop an in-depth understanding of a data set.  \n",
    "- Used Pandas methods to prepare and explore data. The Pandas package provides powerful methods for exploring a new data set.\n",
    "- Examined the uses of and methods for creation of several univariate plot types using three different Python packages, matplotlib, Pandas, and seaborn. Univariate plots allow you to examine the distributional properties of the variables in your data set. The variable values can be grouped by one or more categorical variables for comparison.\n",
    "- Used matplotlib methods to add attributes to matplotlib, Pandas and seaborn plots. "
   ]
  },
  {
   "cell_type": "markdown",
   "metadata": {
    "collapsed": true
   },
   "source": [
    "#### The end!"
   ]
  },
  {
   "cell_type": "code",
   "execution_count": null,
   "metadata": {},
   "outputs": [],
   "source": []
  }
 ],
 "metadata": {
  "anaconda-cloud": {},
  "kernelspec": {
   "display_name": "Python 3",
   "language": "python",
   "name": "python3"
  },
  "language_info": {
   "codemirror_mode": {
    "name": "ipython",
    "version": 3
   },
   "file_extension": ".py",
   "mimetype": "text/x-python",
   "name": "python",
   "nbconvert_exporter": "python",
   "pygments_lexer": "ipython3",
   "version": "3.7.3"
  }
 },
 "nbformat": 4,
 "nbformat_minor": 1
}
