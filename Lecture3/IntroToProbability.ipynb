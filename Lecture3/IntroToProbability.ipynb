{
 "cells": [
  {
   "cell_type": "markdown",
   "metadata": {
    "colab_type": "text",
    "id": "y9WQnD-f02Im"
   },
   "source": [
    "# Introduction to Probability\n",
    "## Data Science 410\n",
    "\n",
    "Now that you have learned a bit about counting and combinatorics, let's put this knowledge to use by computing some probabilities. "
   ]
  },
  {
   "cell_type": "markdown",
   "metadata": {
    "colab_type": "text",
    "id": "fHgEByJr02In"
   },
   "source": [
    "## Probability for dice\n",
    "\n",
    "Let's start with some simple examples of computing probabilities for rolls of a pair of dice. We can use combinatorics to enumerate all possible states for a series of events. From the enumeration we can also compute probabilities of these events. \n",
    "\n",
    "Let's start by enumerating all of the possible end states from throwing two dice. We will assume that these dice are 'fair'.  In other words, the chance there is an equal probability of any face of the dice will land pointing up. In terms of probability, we say that the distribution of scores for each die follows a **Uniform distribution**. further, we assume that the dice are identical and that the score for each dice is not dependent on the other dice. In the terminology of probability, we can now say that the score of each dice is **Independent Identically Distributed**, or **iid**.  \n",
    "\n",
    "The code in the cell below computes as table with all possible outcomes. Run this code and examine the  results. "
   ]
  },
  {
   "cell_type": "code",
   "execution_count": 1,
   "metadata": {
    "colab": {
     "autoexec": {
      "startup": false,
      "wait_interval": 0
     }
    },
    "colab_type": "code",
    "id": "UdWYEmHft1xj"
   },
   "outputs": [],
   "source": [
    "from __future__ import division \n",
    "\n",
    "import numpy\n",
    "import pandas\n",
    "from matplotlib import pyplot\n",
    "import seaborn\n",
    "\n",
    "# Configure default plot style.\n",
    "seaborn.set_palette('muted')\n",
    "seaborn.set_style('ticks')\n",
    "%matplotlib inline"
   ]
  },
  {
   "cell_type": "code",
   "execution_count": 2,
   "metadata": {
    "colab": {
     "autoexec": {
      "startup": false,
      "wait_interval": 0
     }
    },
    "colab_type": "code",
    "id": "4yZa9WroMjok"
   },
   "outputs": [],
   "source": [
    "import itertools\n",
    "import pandas\n",
    "\n",
    "%matplotlib inline"
   ]
  },
  {
   "cell_type": "code",
   "execution_count": 3,
   "metadata": {
    "colab": {
     "autoexec": {
      "startup": false,
      "wait_interval": 0
     },
     "base_uri": "https://localhost:8080/",
     "height": 665,
     "output_extras": [
      {
       "item_id": 1
      }
     ]
    },
    "colab_type": "code",
    "executionInfo": {
     "elapsed": 486,
     "status": "ok",
     "timestamp": 1512612543157,
     "user": {
      "displayName": "Drew Bryant",
      "photoUrl": "//lh4.googleusercontent.com/-bbwiO20N-0M/AAAAAAAAAAI/AAAAAAAAAJg/qqZ1Ilm078o/s50-c-k-no/photo.jpg",
      "userId": "111241008704641611320"
     },
     "user_tz": 480
    },
    "id": "0UGYCtZ0Mk-B",
    "outputId": "e097add8-afa9-472c-f70c-94dbd90e8209"
   },
   "outputs": [
    {
     "data": {
      "text/plain": [
       "[(1, 1),\n",
       " (1, 2),\n",
       " (1, 3),\n",
       " (1, 4),\n",
       " (1, 5),\n",
       " (1, 6),\n",
       " (2, 1),\n",
       " (2, 2),\n",
       " (2, 3),\n",
       " (2, 4),\n",
       " (2, 5),\n",
       " (2, 6),\n",
       " (3, 1),\n",
       " (3, 2),\n",
       " (3, 3),\n",
       " (3, 4),\n",
       " (3, 5),\n",
       " (3, 6),\n",
       " (4, 1),\n",
       " (4, 2),\n",
       " (4, 3),\n",
       " (4, 4),\n",
       " (4, 5),\n",
       " (4, 6),\n",
       " (5, 1),\n",
       " (5, 2),\n",
       " (5, 3),\n",
       " (5, 4),\n",
       " (5, 5),\n",
       " (5, 6),\n",
       " (6, 1),\n",
       " (6, 2),\n",
       " (6, 3),\n",
       " (6, 4),\n",
       " (6, 5),\n",
       " (6, 6)]"
      ]
     },
     "execution_count": 3,
     "metadata": {},
     "output_type": "execute_result"
    }
   ],
   "source": [
    "##-----Two Dice Example ------\n",
    "two_dice = list(itertools.product(range(1, 7), range(1, 7)))\n",
    "two_dice"
   ]
  },
  {
   "cell_type": "markdown",
   "metadata": {
    "colab_type": "text",
    "id": "MpxPKCpP02Iu"
   },
   "source": [
    "As a first step in computing the probabilities, we need to find how many ways we can get into each state. In the case of the dice, how many ways can we roll each score (sum of the numbers shown on the upper side of the dice). The figure below shows an example of the number of ways we can roll a 7 or a 10.\n",
    "\n",
    "![](img/dice.jpg)\n",
    "\n",
    "The code in the table below computes the score for each state in our table, as well as determining if the score is a result of a double. Execute this code and examine the results."
   ]
  },
  {
   "cell_type": "code",
   "execution_count": 4,
   "metadata": {
    "colab": {
     "autoexec": {
      "startup": false,
      "wait_interval": 0
     },
     "base_uri": "https://localhost:8080/",
     "height": 1165,
     "output_extras": [
      {
       "item_id": 1
      }
     ]
    },
    "colab_type": "code",
    "executionInfo": {
     "elapsed": 316,
     "status": "ok",
     "timestamp": 1512612544242,
     "user": {
      "displayName": "Drew Bryant",
      "photoUrl": "//lh4.googleusercontent.com/-bbwiO20N-0M/AAAAAAAAAAI/AAAAAAAAAJg/qqZ1Ilm078o/s50-c-k-no/photo.jpg",
      "userId": "111241008704641611320"
     },
     "user_tz": 480
    },
    "id": "Xqb0yZ79Mz0l",
    "outputId": "23a1fec4-e7c8-49be-827b-ac0ae4f20aa8"
   },
   "outputs": [
    {
     "data": {
      "text/html": [
       "<div>\n",
       "<style scoped>\n",
       "    .dataframe tbody tr th:only-of-type {\n",
       "        vertical-align: middle;\n",
       "    }\n",
       "\n",
       "    .dataframe tbody tr th {\n",
       "        vertical-align: top;\n",
       "    }\n",
       "\n",
       "    .dataframe thead th {\n",
       "        text-align: right;\n",
       "    }\n",
       "</style>\n",
       "<table border=\"1\" class=\"dataframe\">\n",
       "  <thead>\n",
       "    <tr style=\"text-align: right;\">\n",
       "      <th></th>\n",
       "      <th>dice1</th>\n",
       "      <th>dice2</th>\n",
       "      <th>sum</th>\n",
       "      <th>is_double</th>\n",
       "    </tr>\n",
       "  </thead>\n",
       "  <tbody>\n",
       "    <tr>\n",
       "      <th>0</th>\n",
       "      <td>1</td>\n",
       "      <td>1</td>\n",
       "      <td>2</td>\n",
       "      <td>True</td>\n",
       "    </tr>\n",
       "    <tr>\n",
       "      <th>1</th>\n",
       "      <td>1</td>\n",
       "      <td>2</td>\n",
       "      <td>3</td>\n",
       "      <td>False</td>\n",
       "    </tr>\n",
       "    <tr>\n",
       "      <th>2</th>\n",
       "      <td>1</td>\n",
       "      <td>3</td>\n",
       "      <td>4</td>\n",
       "      <td>False</td>\n",
       "    </tr>\n",
       "    <tr>\n",
       "      <th>3</th>\n",
       "      <td>1</td>\n",
       "      <td>4</td>\n",
       "      <td>5</td>\n",
       "      <td>False</td>\n",
       "    </tr>\n",
       "    <tr>\n",
       "      <th>4</th>\n",
       "      <td>1</td>\n",
       "      <td>5</td>\n",
       "      <td>6</td>\n",
       "      <td>False</td>\n",
       "    </tr>\n",
       "    <tr>\n",
       "      <th>5</th>\n",
       "      <td>1</td>\n",
       "      <td>6</td>\n",
       "      <td>7</td>\n",
       "      <td>False</td>\n",
       "    </tr>\n",
       "    <tr>\n",
       "      <th>6</th>\n",
       "      <td>2</td>\n",
       "      <td>1</td>\n",
       "      <td>3</td>\n",
       "      <td>False</td>\n",
       "    </tr>\n",
       "    <tr>\n",
       "      <th>7</th>\n",
       "      <td>2</td>\n",
       "      <td>2</td>\n",
       "      <td>4</td>\n",
       "      <td>True</td>\n",
       "    </tr>\n",
       "    <tr>\n",
       "      <th>8</th>\n",
       "      <td>2</td>\n",
       "      <td>3</td>\n",
       "      <td>5</td>\n",
       "      <td>False</td>\n",
       "    </tr>\n",
       "    <tr>\n",
       "      <th>9</th>\n",
       "      <td>2</td>\n",
       "      <td>4</td>\n",
       "      <td>6</td>\n",
       "      <td>False</td>\n",
       "    </tr>\n",
       "    <tr>\n",
       "      <th>10</th>\n",
       "      <td>2</td>\n",
       "      <td>5</td>\n",
       "      <td>7</td>\n",
       "      <td>False</td>\n",
       "    </tr>\n",
       "    <tr>\n",
       "      <th>11</th>\n",
       "      <td>2</td>\n",
       "      <td>6</td>\n",
       "      <td>8</td>\n",
       "      <td>False</td>\n",
       "    </tr>\n",
       "    <tr>\n",
       "      <th>12</th>\n",
       "      <td>3</td>\n",
       "      <td>1</td>\n",
       "      <td>4</td>\n",
       "      <td>False</td>\n",
       "    </tr>\n",
       "    <tr>\n",
       "      <th>13</th>\n",
       "      <td>3</td>\n",
       "      <td>2</td>\n",
       "      <td>5</td>\n",
       "      <td>False</td>\n",
       "    </tr>\n",
       "    <tr>\n",
       "      <th>14</th>\n",
       "      <td>3</td>\n",
       "      <td>3</td>\n",
       "      <td>6</td>\n",
       "      <td>True</td>\n",
       "    </tr>\n",
       "    <tr>\n",
       "      <th>15</th>\n",
       "      <td>3</td>\n",
       "      <td>4</td>\n",
       "      <td>7</td>\n",
       "      <td>False</td>\n",
       "    </tr>\n",
       "    <tr>\n",
       "      <th>16</th>\n",
       "      <td>3</td>\n",
       "      <td>5</td>\n",
       "      <td>8</td>\n",
       "      <td>False</td>\n",
       "    </tr>\n",
       "    <tr>\n",
       "      <th>17</th>\n",
       "      <td>3</td>\n",
       "      <td>6</td>\n",
       "      <td>9</td>\n",
       "      <td>False</td>\n",
       "    </tr>\n",
       "    <tr>\n",
       "      <th>18</th>\n",
       "      <td>4</td>\n",
       "      <td>1</td>\n",
       "      <td>5</td>\n",
       "      <td>False</td>\n",
       "    </tr>\n",
       "    <tr>\n",
       "      <th>19</th>\n",
       "      <td>4</td>\n",
       "      <td>2</td>\n",
       "      <td>6</td>\n",
       "      <td>False</td>\n",
       "    </tr>\n",
       "    <tr>\n",
       "      <th>20</th>\n",
       "      <td>4</td>\n",
       "      <td>3</td>\n",
       "      <td>7</td>\n",
       "      <td>False</td>\n",
       "    </tr>\n",
       "    <tr>\n",
       "      <th>21</th>\n",
       "      <td>4</td>\n",
       "      <td>4</td>\n",
       "      <td>8</td>\n",
       "      <td>True</td>\n",
       "    </tr>\n",
       "    <tr>\n",
       "      <th>22</th>\n",
       "      <td>4</td>\n",
       "      <td>5</td>\n",
       "      <td>9</td>\n",
       "      <td>False</td>\n",
       "    </tr>\n",
       "    <tr>\n",
       "      <th>23</th>\n",
       "      <td>4</td>\n",
       "      <td>6</td>\n",
       "      <td>10</td>\n",
       "      <td>False</td>\n",
       "    </tr>\n",
       "    <tr>\n",
       "      <th>24</th>\n",
       "      <td>5</td>\n",
       "      <td>1</td>\n",
       "      <td>6</td>\n",
       "      <td>False</td>\n",
       "    </tr>\n",
       "    <tr>\n",
       "      <th>25</th>\n",
       "      <td>5</td>\n",
       "      <td>2</td>\n",
       "      <td>7</td>\n",
       "      <td>False</td>\n",
       "    </tr>\n",
       "    <tr>\n",
       "      <th>26</th>\n",
       "      <td>5</td>\n",
       "      <td>3</td>\n",
       "      <td>8</td>\n",
       "      <td>False</td>\n",
       "    </tr>\n",
       "    <tr>\n",
       "      <th>27</th>\n",
       "      <td>5</td>\n",
       "      <td>4</td>\n",
       "      <td>9</td>\n",
       "      <td>False</td>\n",
       "    </tr>\n",
       "    <tr>\n",
       "      <th>28</th>\n",
       "      <td>5</td>\n",
       "      <td>5</td>\n",
       "      <td>10</td>\n",
       "      <td>True</td>\n",
       "    </tr>\n",
       "    <tr>\n",
       "      <th>29</th>\n",
       "      <td>5</td>\n",
       "      <td>6</td>\n",
       "      <td>11</td>\n",
       "      <td>False</td>\n",
       "    </tr>\n",
       "    <tr>\n",
       "      <th>30</th>\n",
       "      <td>6</td>\n",
       "      <td>1</td>\n",
       "      <td>7</td>\n",
       "      <td>False</td>\n",
       "    </tr>\n",
       "    <tr>\n",
       "      <th>31</th>\n",
       "      <td>6</td>\n",
       "      <td>2</td>\n",
       "      <td>8</td>\n",
       "      <td>False</td>\n",
       "    </tr>\n",
       "    <tr>\n",
       "      <th>32</th>\n",
       "      <td>6</td>\n",
       "      <td>3</td>\n",
       "      <td>9</td>\n",
       "      <td>False</td>\n",
       "    </tr>\n",
       "    <tr>\n",
       "      <th>33</th>\n",
       "      <td>6</td>\n",
       "      <td>4</td>\n",
       "      <td>10</td>\n",
       "      <td>False</td>\n",
       "    </tr>\n",
       "    <tr>\n",
       "      <th>34</th>\n",
       "      <td>6</td>\n",
       "      <td>5</td>\n",
       "      <td>11</td>\n",
       "      <td>False</td>\n",
       "    </tr>\n",
       "    <tr>\n",
       "      <th>35</th>\n",
       "      <td>6</td>\n",
       "      <td>6</td>\n",
       "      <td>12</td>\n",
       "      <td>True</td>\n",
       "    </tr>\n",
       "  </tbody>\n",
       "</table>\n",
       "</div>"
      ],
      "text/plain": [
       "    dice1  dice2  sum  is_double\n",
       "0       1      1    2       True\n",
       "1       1      2    3      False\n",
       "2       1      3    4      False\n",
       "3       1      4    5      False\n",
       "4       1      5    6      False\n",
       "5       1      6    7      False\n",
       "6       2      1    3      False\n",
       "7       2      2    4       True\n",
       "8       2      3    5      False\n",
       "9       2      4    6      False\n",
       "10      2      5    7      False\n",
       "11      2      6    8      False\n",
       "12      3      1    4      False\n",
       "13      3      2    5      False\n",
       "14      3      3    6       True\n",
       "15      3      4    7      False\n",
       "16      3      5    8      False\n",
       "17      3      6    9      False\n",
       "18      4      1    5      False\n",
       "19      4      2    6      False\n",
       "20      4      3    7      False\n",
       "21      4      4    8       True\n",
       "22      4      5    9      False\n",
       "23      4      6   10      False\n",
       "24      5      1    6      False\n",
       "25      5      2    7      False\n",
       "26      5      3    8      False\n",
       "27      5      4    9      False\n",
       "28      5      5   10       True\n",
       "29      5      6   11      False\n",
       "30      6      1    7      False\n",
       "31      6      2    8      False\n",
       "32      6      3    9      False\n",
       "33      6      4   10      False\n",
       "34      6      5   11      False\n",
       "35      6      6   12       True"
      ]
     },
     "execution_count": 4,
     "metadata": {},
     "output_type": "execute_result"
    }
   ],
   "source": [
    "rolls = pandas.DataFrame(two_dice, columns=['dice1', 'dice2'])\n",
    "rolls['sum'] = rolls.dice1 + rolls.dice2\n",
    "rolls['is_double'] = rolls.dice1 == rolls.dice2\n",
    "rolls"
   ]
  },
  {
   "cell_type": "markdown",
   "metadata": {
    "colab_type": "text",
    "id": "DaHeesg502Iy"
   },
   "source": [
    "Next, we need to transform this table enumerating the states to a frequency table with the counts of states. Execute the code in the cell below to do just this."
   ]
  },
  {
   "cell_type": "code",
   "execution_count": 5,
   "metadata": {
    "colab": {
     "autoexec": {
      "startup": false,
      "wait_interval": 0
     },
     "base_uri": "https://localhost:8080/",
     "height": 233,
     "output_extras": [
      {
       "item_id": 1
      }
     ]
    },
    "colab_type": "code",
    "executionInfo": {
     "elapsed": 409,
     "status": "ok",
     "timestamp": 1512612621639,
     "user": {
      "displayName": "Drew Bryant",
      "photoUrl": "//lh4.googleusercontent.com/-bbwiO20N-0M/AAAAAAAAAAI/AAAAAAAAAJg/qqZ1Ilm078o/s50-c-k-no/photo.jpg",
      "userId": "111241008704641611320"
     },
     "user_tz": 480
    },
    "id": "Jqn20Eb3NceG",
    "outputId": "9e4a3650-31be-4a9f-cb75-355e63805e56"
   },
   "outputs": [
    {
     "data": {
      "text/plain": [
       "7     6\n",
       "8     5\n",
       "6     5\n",
       "9     4\n",
       "5     4\n",
       "10    3\n",
       "4     3\n",
       "11    2\n",
       "3     2\n",
       "12    1\n",
       "2     1\n",
       "Name: sum, dtype: int64"
      ]
     },
     "execution_count": 5,
     "metadata": {},
     "output_type": "execute_result"
    }
   ],
   "source": [
    "# Count different sums\n",
    "roll_sum_counts = rolls['sum'].value_counts()\n",
    "roll_sum_counts"
   ]
  },
  {
   "cell_type": "markdown",
   "metadata": {
    "colab_type": "text",
    "id": "2zwxuc8g02I3"
   },
   "source": [
    "Examine this table. Which score is the most likely, and  which scores are least likely?"
   ]
  },
  {
   "cell_type": "markdown",
   "metadata": {
    "colab_type": "text",
    "id": "XvCAwrCq02I3"
   },
   "source": [
    "Finally, we can compute and plot the probabilities of the possible scores from rolling two dice. For the case of discrete states, the probability of each state is just the number of ways that state can occur divided by the total number of possible states. This is done to ensure the sum of all probabilities adds to 1.0. \n",
    "\n",
    "Execute the code in the cells below and examine the result. "
   ]
  },
  {
   "cell_type": "code",
   "execution_count": 6,
   "metadata": {
    "colab": {
     "autoexec": {
      "startup": false,
      "wait_interval": 0
     },
     "base_uri": "https://localhost:8080/",
     "height": 233,
     "output_extras": [
      {
       "item_id": 1
      }
     ]
    },
    "colab_type": "code",
    "executionInfo": {
     "elapsed": 192,
     "status": "ok",
     "timestamp": 1512612715076,
     "user": {
      "displayName": "Drew Bryant",
      "photoUrl": "//lh4.googleusercontent.com/-bbwiO20N-0M/AAAAAAAAAAI/AAAAAAAAAJg/qqZ1Ilm078o/s50-c-k-no/photo.jpg",
      "userId": "111241008704641611320"
     },
     "user_tz": 480
    },
    "id": "GITsJCTYvjJ9",
    "outputId": "7ed1c10b-1f30-4159-e1ce-4c2c3cdd99d1"
   },
   "outputs": [
    {
     "data": {
      "text/plain": [
       "7     0.166667\n",
       "8     0.138889\n",
       "6     0.138889\n",
       "9     0.111111\n",
       "5     0.111111\n",
       "10    0.083333\n",
       "4     0.083333\n",
       "11    0.055556\n",
       "3     0.055556\n",
       "12    0.027778\n",
       "2     0.027778\n",
       "Name: sum, dtype: float64"
      ]
     },
     "execution_count": 6,
     "metadata": {},
     "output_type": "execute_result"
    }
   ],
   "source": [
    "# Normalize the each roll value count by the total number of possible rolls.\n",
    "roll_sum_probas = roll_sum_counts / roll_sum_counts.sum()\n",
    "roll_sum_probas"
   ]
  },
  {
   "cell_type": "code",
   "execution_count": 7,
   "metadata": {
    "colab": {
     "autoexec": {
      "startup": false,
      "wait_interval": 0
     },
     "base_uri": "https://localhost:8080/",
     "height": 297,
     "output_extras": [
      {
       "item_id": 1
      },
      {
       "item_id": 2
      }
     ]
    },
    "colab_type": "code",
    "executionInfo": {
     "elapsed": 629,
     "status": "ok",
     "timestamp": 1512612738498,
     "user": {
      "displayName": "Drew Bryant",
      "photoUrl": "//lh4.googleusercontent.com/-bbwiO20N-0M/AAAAAAAAAAI/AAAAAAAAAJg/qqZ1Ilm078o/s50-c-k-no/photo.jpg",
      "userId": "111241008704641611320"
     },
     "user_tz": 480
    },
    "id": "jb2KEj3pvFKj",
    "outputId": "ab06d7fb-816c-478a-aff5-5de70b119244"
   },
   "outputs": [
    {
     "data": {
      "text/plain": [
       "<matplotlib.axes._subplots.AxesSubplot at 0x1e176232d68>"
      ]
     },
     "execution_count": 7,
     "metadata": {},
     "output_type": "execute_result"
    },
    {
     "data": {
      "image/png": "[encoded data removed]",
      "text/plain": [
       "<Figure size 432x288 with 1 Axes>"
      ]
     },
     "metadata": {
      "needs_background": "light"
     },
     "output_type": "display_data"
    }
   ],
   "source": [
    "(roll_sum_probas).sort_index().plot(kind='bar', color='black')"
   ]
  },
  {
   "cell_type": "markdown",
   "metadata": {
    "colab_type": "text",
    "id": "KjUm_KwP02I7"
   },
   "source": [
    "Examine this result. Notice that the probabilities are proportional to the frequencies, but are scaled to ensure they add to 1.0.\n",
    "\n"
   ]
  },
  {
   "cell_type": "markdown",
   "metadata": {
    "colab_type": "text",
    "id": "CtI-gw3o02I8"
   },
   "source": [
    "***\n",
    "**Your turn:** Create and execute the code in the cell below to compute the probability of rolling a double. You can compute the total number of doubles from the `rolls` data frame and normalize by the number of possible cases."
   ]
  },
  {
   "cell_type": "code",
   "execution_count": 8,
   "metadata": {
    "colab": {
     "autoexec": {
      "startup": false,
      "wait_interval": 0
     },
     "base_uri": "https://localhost:8080/",
     "height": 35,
     "output_extras": [
      {
       "item_id": 1
      }
     ]
    },
    "colab_type": "code",
    "executionInfo": {
     "elapsed": 452,
     "status": "ok",
     "timestamp": 1512613160989,
     "user": {
      "displayName": "Drew Bryant",
      "photoUrl": "//lh4.googleusercontent.com/-bbwiO20N-0M/AAAAAAAAAAI/AAAAAAAAAJg/qqZ1Ilm078o/s50-c-k-no/photo.jpg",
      "userId": "111241008704641611320"
     },
     "user_tz": 480
    },
    "id": "rnS0RiuqwRwX",
    "outputId": "203511bd-ac11-4194-f8ce-7dacb1dbb093"
   },
   "outputs": [
    {
     "data": {
      "text/plain": [
       "0.16666666666666666"
      ]
     },
     "execution_count": 8,
     "metadata": {},
     "output_type": "execute_result"
    }
   ],
   "source": [
    "rolls.is_double.sum() / roll_sum_counts.sum()"
   ]
  },
  {
   "cell_type": "code",
   "execution_count": null,
   "metadata": {
    "colab": {
     "autoexec": {
      "startup": false,
      "wait_interval": 0
     },
     "base_uri": "https://localhost:8080/",
     "height": 35,
     "output_extras": [
      {
       "item_id": 1
      }
     ]
    },
    "colab_type": "code",
    "executionInfo": {
     "elapsed": 454,
     "status": "ok",
     "timestamp": 1512613383030,
     "user": {
      "displayName": "Drew Bryant",
      "photoUrl": "//lh4.googleusercontent.com/-bbwiO20N-0M/AAAAAAAAAAI/AAAAAAAAAJg/qqZ1Ilm078o/s50-c-k-no/photo.jpg",
      "userId": "111241008704641611320"
     },
     "user_tz": 480
    },
    "id": "SqoctZX1yITj",
    "outputId": "e7f28878-c716-4fc1-93ee-b2901f6f52df"
   },
   "outputs": [],
   "source": []
  },
  {
   "cell_type": "markdown",
   "metadata": {
    "colab_type": "text",
    "id": "hmxNZI-q02JA"
   },
   "source": [
    "## Basics of Probability\n",
    "\n",
    "We will now investigate some basics of probability in a bit more detail.  \n",
    "\n",
    "### Discrete probability\n",
    "\n",
    "A **discrete distribution** is a probability distribution describing a process with discrete outcomes. By discrete outcomes, we mean outcomes that have specific states which can be counted. For a discrete distribution the probability of an event, A, is the number of ways A can occur, divided by the number of total possible outcomes in our Sample Space, S.   \n",
    "\n",
    "We have already investigated an example of a discrete process when we examined the outcome of dice throws. Each die lands with a certain side up and the sum of the two numbers is the total score. \n",
    "\n",
    "\n",
    "\n",
    "Let's make this concrete with an example. In the figure below there are 10 events in S, 6 in set A, and 4 in set B.\n",
    "\n",
    "<img src=\"img/Prob1.png\" alt=\"Drawing\" style=\"width:300px; height:200px\"/>\n",
    "\n",
    "The probability of the events in a subset, A, given a set of possible events in the sample space, S, can be computed as follows:\n",
    "\n",
    "$$P(A) = \\frac{N(A)}{N(S)}$$\n",
    "\n",
    "In this case there are 10 events in S, 6 events in subset A and 4 in subset B. We can compute the probabilities of A and B like this:\n",
    "\n",
    "$$P(A) = \\frac{6}{10} = \\frac{3}{5} = 0.6\\\\\n",
    "P(B) = \\frac{4}{10} = \\frac{2}{5} = 0.4$$\n",
    "\n"
   ]
  },
  {
   "cell_type": "markdown",
   "metadata": {},
   "source": [
    "***\n",
    "**Your turn:** in the cell below find the probability that the score from a throw of a pair of dice will be less than or equal to 3. Hints: use filters on the `twoDice` data frame and the `nrow` function to get the counts. The [Fractions](https://docs.python.org/3.1/library/fractions.html) function from the  will make your result easier to interpret.\n",
    "***"
   ]
  },
  {
   "cell_type": "code",
   "execution_count": 9,
   "metadata": {
    "colab": {
     "autoexec": {
      "startup": false,
      "wait_interval": 0
     },
     "base_uri": "https://localhost:8080/",
     "height": 142,
     "output_extras": [
      {
       "item_id": 1
      }
     ]
    },
    "colab_type": "code",
    "executionInfo": {
     "elapsed": 355,
     "status": "ok",
     "timestamp": 1512613353107,
     "user": {
      "displayName": "Drew Bryant",
      "photoUrl": "//lh4.googleusercontent.com/-bbwiO20N-0M/AAAAAAAAAAI/AAAAAAAAAJg/qqZ1Ilm078o/s50-c-k-no/photo.jpg",
      "userId": "111241008704641611320"
     },
     "user_tz": 480
    },
    "id": "Nx5HiWLMxXmH",
    "outputId": "9a194f0f-4e75-47d5-cc87-ab4353c9281b",
    "scrolled": true
   },
   "outputs": [],
   "source": [
    "import fractions"
   ]
  },
  {
   "cell_type": "code",
   "execution_count": 25,
   "metadata": {
    "colab": {
     "autoexec": {
      "startup": false,
      "wait_interval": 0
     },
     "base_uri": "https://localhost:8080/",
     "height": 35,
     "output_extras": [
      {
       "item_id": 1
      }
     ]
    },
    "colab_type": "code",
    "executionInfo": {
     "elapsed": 390,
     "status": "ok",
     "timestamp": 1512613368931,
     "user": {
      "displayName": "Drew Bryant",
      "photoUrl": "//lh4.googleusercontent.com/-bbwiO20N-0M/AAAAAAAAAAI/AAAAAAAAAJg/qqZ1Ilm078o/s50-c-k-no/photo.jpg",
      "userId": "111241008704641611320"
     },
     "user_tz": 480
    },
    "id": "fXSnYmYwx37P",
    "outputId": "5863f7e3-2471-4db6-abca-3321a12b43ac"
   },
   "outputs": [
    {
     "data": {
      "text/plain": [
       "0.08333333333333333"
      ]
     },
     "execution_count": 25,
     "metadata": {},
     "output_type": "execute_result"
    }
   ],
   "source": [
    "float(rolls[rolls['sum'] <= 3.0].shape[0]) / float(rolls.shape[0])"
   ]
  },
  {
   "cell_type": "code",
   "execution_count": null,
   "metadata": {
    "colab": {
     "autoexec": {
      "startup": false,
      "wait_interval": 0
     },
     "base_uri": "https://localhost:8080/",
     "height": 35,
     "output_extras": [
      {
       "item_id": 1
      }
     ]
    },
    "colab_type": "code",
    "executionInfo": {
     "elapsed": 318,
     "status": "ok",
     "timestamp": 1512613374780,
     "user": {
      "displayName": "Drew Bryant",
      "photoUrl": "//lh4.googleusercontent.com/-bbwiO20N-0M/AAAAAAAAAAI/AAAAAAAAAJg/qqZ1Ilm078o/s50-c-k-no/photo.jpg",
      "userId": "111241008704641611320"
     },
     "user_tz": 480
    },
    "id": "2smh8hQoyGP4",
    "outputId": "33ea8419-eb94-4845-9fa9-b314e1e4adae"
   },
   "outputs": [],
   "source": []
  },
  {
   "cell_type": "markdown",
   "metadata": {
    "colab_type": "text",
    "id": "eU5AlFAh02JI"
   },
   "source": [
    "### Axioms of probability\n",
    "\n",
    "All probability distributions must have a certian properties, which we refer to as the **axioms of probability**. These are:\n",
    "\n",
    "- Probability for any set, A, is bounded between 0 and 1:     \n",
    "\n",
    "$$0 \\le P(A) \\le 1 $$\n",
    "\n",
    "- Probability of the Sample Space = 1:   \n",
    "\n",
    "$$P(S) = \\sum_{All\\ i}P(a_i) = 1$$\n",
    "\n",
    "- The probability of finite independent unions is the sum of their probabilities:\n",
    "\n",
    "$$P(A \\cup B) = P(A) + P(B)\\\\ if\\ and\\ only\\ if\\\\ A \\cap B = 0$$\n",
    "\n",
    "***\n",
    "**Your turn:** In the cell below create and execute the R code to show that $P(S) = 1$ for the simple set example we are using.\n",
    "***"
   ]
  },
  {
   "cell_type": "code",
   "execution_count": null,
   "metadata": {
    "colab": {
     "autoexec": {
      "startup": false,
      "wait_interval": 0
     },
     "base_uri": "https://localhost:8080/",
     "height": 35,
     "output_extras": [
      {
       "item_id": 1
      }
     ]
    },
    "colab_type": "code",
    "executionInfo": {
     "elapsed": 342,
     "status": "ok",
     "timestamp": 1512613418788,
     "user": {
      "displayName": "Drew Bryant",
      "photoUrl": "//lh4.googleusercontent.com/-bbwiO20N-0M/AAAAAAAAAAI/AAAAAAAAAJg/qqZ1Ilm078o/s50-c-k-no/photo.jpg",
      "userId": "111241008704641611320"
     },
     "user_tz": 480
    },
    "id": "7_0K-xhV02JM",
    "outputId": "d5367c31-38ca-4b2e-8091-f3ab4fcdf293"
   },
   "outputs": [],
   "source": []
  },
  {
   "cell_type": "markdown",
   "metadata": {
    "colab_type": "text",
    "id": "pxr96mz202JR"
   },
   "source": [
    "### Set operations and probability\n",
    "\n",
    "<img src=\"img/Prob1.png\" alt=\"Drawing\" style=\"width:300px; height:200px\"/>\n",
    "\n",
    "Set operations can be readily applied to probability problems. Continuing with our example, we can apply the following common set operations.\n",
    "\n",
    "- **Intersection:** \n",
    "$$P(A \\cap B)  = \\frac{2}{10} = \\frac{1}{5} = 0.2$$\n",
    "\n",
    "- **Union:** \n",
    "$$P(A \\cup B) = \\frac{8}{10} = \\frac{4}{5} = 0.8$$\n",
    "\n",
    "- **Negation:** \n",
    "$$P(A)' = \\frac{4}{10} = \\frac{2}{5} = 0.4$$\n",
    "\n",
    "You can use this basic operations to create more complex operations. For example:\n",
    "\n",
    "$$P((A \\cup B)') = P(A' \\cap B') = P(C) = \\frac{2}{10} = 0.2$$\n",
    "\n",
    "We can also write an expression like the following:\n",
    "\n",
    "\\begin{align}\n",
    "P(A \\cup B) &= P(A) + P(B) - P(A \\cap B) \\\\ \n",
    "&= \\frac{6}{10} - \\frac{4}{10} - \\frac{2}{10} = \\frac{8}{10} = 0.8\n",
    "\\end{align}\n"
   ]
  },
  {
   "cell_type": "markdown",
   "metadata": {},
   "source": [
    "### Independence vs. mutual exclusivity\n",
    "\n",
    "In probability there are two concepts which are quite different but often confused, mutual exclusivity and independence.\n",
    "\n",
    "Events in B are considered **independent** of events in A, if events in B have no effect on events in A. For independent events, we can write the following:\n",
    "\n",
    "$$P(A \\cap B) = 0\\\\\n",
    "then\\\\\n",
    "P(A \\cup B) = P(A) + P(B)$$\n",
    "\n",
    "If A and B are **mutually exclusive** an event in B means there are can no event in A and vice versa. For mutually exclusive events, we can write:\n",
    "\n",
    "$$P(A \\cap B) = 0 = Empty\\ set\\\\\n",
    "and\\\\\n",
    "P(A \\cup B) = P(A) + P(B)\\\\\n",
    "because\\ either\\\\\n",
    "P(A) = 0\\\\\n",
    "or\\\\\n",
    "P(B) = 0\n",
    "$$\n"
   ]
  },
  {
   "cell_type": "markdown",
   "metadata": {},
   "source": [
    "> Consider our running example. \n",
    "\n",
    "<img src=\"img/Prob1.png\" alt=\"Drawing\" style=\"width:300px; height:200px\"/>\n",
    "\n",
    "> Why is the following statement about these probabilities **false**?\n",
    "\n",
    "$$P(A \\cup B) = P(A) + P(B)$$"
   ]
  },
  {
   "cell_type": "markdown",
   "metadata": {
    "colab_type": "text",
    "id": "ku69cEhT02JS"
   },
   "source": [
    "\n",
    "> **Your turn:** Consider the diagram of event sub-sets in the figure below:\n",
    "\n",
    "\n",
    "<img src=\"img/ME.jpg\" alt=\"Drawing\" style=\"width:300px; height:200px\"/>\n",
    "\n",
    "> Write and execute the Python code to compute the following:\n",
    "$$P(A \\cup B)\\\\\n",
    "P(A \\cap B)\\\\\n",
    "P((A \\cup B)')$$\n",
    "***"
   ]
  },
  {
   "cell_type": "code",
   "execution_count": 29,
   "metadata": {
    "colab": {
     "autoexec": {
      "startup": false,
      "wait_interval": 0
     },
     "base_uri": "https://localhost:8080/",
     "height": 71,
     "output_extras": [
      {
       "item_id": 1
      }
     ]
    },
    "colab_type": "code",
    "executionInfo": {
     "elapsed": 322,
     "status": "ok",
     "timestamp": 1512613452274,
     "user": {
      "displayName": "Drew Bryant",
      "photoUrl": "//lh4.googleusercontent.com/-bbwiO20N-0M/AAAAAAAAAAI/AAAAAAAAAJg/qqZ1Ilm078o/s50-c-k-no/photo.jpg",
      "userId": "111241008704641611320"
     },
     "user_tz": 480
    },
    "id": "ZlwzKOxc02JS",
    "outputId": "fd236e58-f0c2-4ad8-9e84-d9407f434704"
   },
   "outputs": [
    {
     "name": "stdout",
     "output_type": "stream",
     "text": [
      "P(union A, B) =  0.6\n",
      "P(intersection A, B) =  0\n",
      "P(not union A, B) =  0.4\n"
     ]
    }
   ],
   "source": [
    "print('P(union A, B) = ', (4 + 2)/10)\n",
    "print('P(intersection A, B) = ', 0)\n",
    "print('P(not union A, B) = ', (10 - 6)/10)"
   ]
  },
  {
   "cell_type": "markdown",
   "metadata": {
    "colab_type": "text",
    "id": "fLnBjPhb02JV"
   },
   "source": [
    "## Conditional probability\n",
    "\n",
    "**Conditional probability** is the probability that event A occurs given that event B has occurred. We can write conditional probability as follow, which we say is the probability of A given B:\n",
    "\n",
    "$$P(A|B)$$\n",
    "\n",
    "We can work out the conditional probability as follows. Continuing with our running example, let's try to find the relationship between conditional probability and the intersection between the sets, $P(A \\cap B)$. To find this probability notice that it is the product of two probabilities:  \n",
    "1. $P(B)$ since B must be true to be in this intersection. \n",
    "2. $P(A|B)$ since A must also occur when B is occurring.\n",
    "\n",
    "We can now write:\n",
    "\n",
    "$$P(A \\cap B) = P(A|B) P(B)$$\n",
    "\n",
    "Rearranging terms we get the following for our example: \n",
    "\n",
    "\\begin{align}\n",
    "P(A|B) &= \\frac{P(A \\cap B)}{P(B)} \\\\\n",
    "& = \\frac{\\frac{2}{10}}{\\frac{4}{10}} = \\frac{2}{4} = \\frac{1}{2}\n",
    "\\end{align}\n",
    "\n",
    "\n",
    "The above simplifies if event A is **independent** of B:\n",
    "\n",
    "$$P(A|B) = P(A)$$\n",
    "\n",
    "But, just because A is independent of B, does not mean B is independent of A. Or, in terms of our notation:\n",
    "\n",
    "$$P(A|B) = P(A)\\\\ does\\ not\\ imply\\\\ P(B|A) = P(B)$$\n",
    "\n",
    "For example, the probability that your boss will approve your vacation request may be dependent on when she wishes to take vacation. However, it is unlikely that the probability that your boss takes vacation is dependent of when you wish to take vacation. "
   ]
  },
  {
   "cell_type": "markdown",
   "metadata": {
    "colab_type": "text",
    "id": "O4s6Chwg02JX"
   },
   "source": [
    "###  Conditional Probability Example\n",
    "\n",
    "Let's try an example of using conditional probabilities to work out the chance of having a rare disease. The scenario is as follows:\n",
    "\n",
    "1. Sickle Cell Anemia is a serious, but fairy rare disease.\n",
    " - $S \\Rightarrow$ a patient has the disease. \n",
    " - The probability that a given patient has the disease is $P(S) = \\frac{1}{3200} = 0.0003125$.\n",
    " - $S' \\Rightarrow$ a patient does not have the disease.\n",
    " - $\\oplus \\Rightarrow$ patient tests positive.\n",
    " - $- \\Rightarrow$ a patient tests negative.\n",
    "2. A medical company claims that its test is 99% accurate, giving:\n",
    "  - $P(S |\\oplus) = 0.99$\n",
    "  - $P(S'|-) = 0.99$\n",
    "  \n",
    "On the surface, it seems that a 99% reliable test should be rather good. But, let's dig into the conditional probabilities and see how things really work out. \n",
    "\n",
    "The figure below shows a **conditional probability tree** for this problem. \n",
    "\n",
    "<img src=\"img/CondTree.jpg\" alt=\"Drawing\" style=\"width:500px; height:450px\"/>\n",
    "\n",
    "If you follow the tree from the root you can visualize the computation of probabilities for each of the 4 possible outcomes of a test on a patient. Let's summarize the conditional probabilities we need to compute for these outcomes:\n",
    "\n",
    "- $P(\\oplus | S)$ is the conditional probability the test will correctly identify a patient with the disease. \n",
    "- $P(- | S)$; is the conditional probability of a negative test for a patient with the disease. We call this situation a **Type II Error** or **False Negative**.\n",
    "-  $P(\\oplus | S')$ is the conditional probability a patient with no disease will test positive. We call this situation a **Type I Error** or **False Positive**.\n",
    "- $P(- | S')$; is the conditional probability of a negative test for a patient who does not have the disease.\n",
    "\n",
    "Let's start with the easy cases. We know the probability of a patient having the disease and we know the accuracy of the test. In the code cell below, create and execute the R code to compute the conditional probabilities of a positive test given the patient has the disease, and a negative test given the patient does not have the disease. "
   ]
  },
  {
   "cell_type": "code",
   "execution_count": 30,
   "metadata": {
    "colab": {
     "autoexec": {
      "startup": false,
      "wait_interval": 0
     },
     "base_uri": "https://localhost:8080/",
     "height": 35,
     "output_extras": [
      {
       "item_id": 1
      }
     ]
    },
    "colab_type": "code",
    "executionInfo": {
     "elapsed": 693,
     "status": "ok",
     "timestamp": 1512613559610,
     "user": {
      "displayName": "Drew Bryant",
      "photoUrl": "//lh4.googleusercontent.com/-bbwiO20N-0M/AAAAAAAAAAI/AAAAAAAAAJg/qqZ1Ilm078o/s50-c-k-no/photo.jpg",
      "userId": "111241008704641611320"
     },
     "user_tz": 480
    },
    "id": "GzfXzy_702JY",
    "outputId": "5987cbb5-b23a-4d34-a932-882606fa8bb2"
   },
   "outputs": [
    {
     "data": {
      "text/plain": [
       "(0.000309375, 0.9896906249999999)"
      ]
     },
     "execution_count": 30,
     "metadata": {},
     "output_type": "execute_result"
    }
   ],
   "source": [
    "pDisease = 0.0003125\n",
    "pNotDisease = 1 - pDisease\n",
    "pCorrect = 0.99\n",
    "pError = 1 - pCorrect\n",
    "pCorDisease = pDisease * pCorrect\n",
    "pCorNotDisease = pNotDisease * pCorrect\n",
    "(pCorDisease, pCorNotDisease)"
   ]
  },
  {
   "cell_type": "markdown",
   "metadata": {
    "colab_type": "text",
    "id": "YkCUKr7Y02Ja"
   },
   "source": [
    "So far, so good. Next, let's compute the conditional probabilities for the cases where our test is in error. In the code cell below, create and execute the R code to compute the conditional probabilities of a negative test given the patient has the disease, and a positive test given the patient does not have the disease. Compare these results to the conditional probabilities you computed above. "
   ]
  },
  {
   "cell_type": "code",
   "execution_count": 31,
   "metadata": {
    "colab": {
     "autoexec": {
      "startup": false,
      "wait_interval": 0
     },
     "base_uri": "https://localhost:8080/",
     "height": 35,
     "output_extras": [
      {
       "item_id": 1
      }
     ]
    },
    "colab_type": "code",
    "executionInfo": {
     "elapsed": 326,
     "status": "ok",
     "timestamp": 1512613570688,
     "user": {
      "displayName": "Drew Bryant",
      "photoUrl": "//lh4.googleusercontent.com/-bbwiO20N-0M/AAAAAAAAAAI/AAAAAAAAAJg/qqZ1Ilm078o/s50-c-k-no/photo.jpg",
      "userId": "111241008704641611320"
     },
     "user_tz": 480
    },
    "id": "tT3vpTABy1pT",
    "outputId": "e927f1ea-6f6a-4244-8fac-e27282419105"
   },
   "outputs": [
    {
     "data": {
      "text/plain": [
       "(3.1250000000000027e-06, 0.00999687500000001)"
      ]
     },
     "execution_count": 31,
     "metadata": {},
     "output_type": "execute_result"
    }
   ],
   "source": [
    "pErDisease = pError * pDisease\n",
    "pErNotDisease = pError * pNotDisease\n",
    "(pErDisease, pErNotDisease)"
   ]
  },
  {
   "cell_type": "markdown",
   "metadata": {
    "colab_type": "text",
    "id": "AS6_HAbX02Je"
   },
   "source": [
    "Given these results, do you think this test is actually useful? Why?\n",
    "\n",
    "You can visualize the summary of these results in the figure below. \n",
    "\n",
    "<img src=\"img/CondTreeProbs.jpg\" alt=\"Drawing\" style=\"width:600px; height:450px\"/>\n",
    "\n",
    "Let's do one final check. In the cell below, create and execute the code to compute the sum of the probabilities of all the possible outcomes. Does the sum equal to 1.0. "
   ]
  },
  {
   "cell_type": "code",
   "execution_count": 32,
   "metadata": {
    "colab": {
     "autoexec": {
      "startup": false,
      "wait_interval": 0
     },
     "base_uri": "https://localhost:8080/",
     "height": 35,
     "output_extras": [
      {
       "item_id": 1
      }
     ]
    },
    "colab_type": "code",
    "executionInfo": {
     "elapsed": 793,
     "status": "ok",
     "timestamp": 1512613580534,
     "user": {
      "displayName": "Drew Bryant",
      "photoUrl": "//lh4.googleusercontent.com/-bbwiO20N-0M/AAAAAAAAAAI/AAAAAAAAAJg/qqZ1Ilm078o/s50-c-k-no/photo.jpg",
      "userId": "111241008704641611320"
     },
     "user_tz": 480
    },
    "id": "NMxoDbt202Jf",
    "outputId": "617c9b80-a2e3-4fb3-b619-bd9a17e44a94"
   },
   "outputs": [
    {
     "data": {
      "text/plain": [
       "0.9999999999999999"
      ]
     },
     "execution_count": 32,
     "metadata": {},
     "output_type": "execute_result"
    }
   ],
   "source": [
    "pCorDisease + pCorNotDisease + pErDisease + pErNotDisease"
   ]
  },
  {
   "cell_type": "markdown",
   "metadata": {
    "colab_type": "text",
    "id": "-53gnN1702Jh"
   },
   "source": [
    "## Odds\n",
    "\n",
    "**Odds** are the ration of the number of ways an event can occur to the number of ways it cannot occur. Sometimes we say that **odds** are the count of events in favor of an event vs. the count against the event. \n",
    "\n",
    "For example, if you flip a fair coin the odds of getting heads are $1:1$ (1 in 1). Since there are only two possible equally likely outcomes in the coin flip we say the odds of the outcome are even. As another example, if you roll a single fair die your odds of rolling a 6 are $1:5$ (1 in 5), or 0.2. \n",
    "\n",
    "It is natural to ask, what is the relationship between odds and probability of an event? We can work this out for some event with count $A$ in a set of all outcomes with count $S$, and where the count of negative outcomes $B = S - A$, as follows:\n",
    "\n",
    "$$P(A) = \\frac{A}{S} = \\frac{A}{A + (S - A)} = \\frac{A}{A + B} = \\frac{count\\ in\\ favor}{count\\ in\\ favor\\ + count\\ not\\ in\\ favor}\\\\\n",
    "which\\ implies\\\\\n",
    "odds = A:(S-A)$$\n",
    "\n",
    "Let's say that for the fair coin flip, the odds are $1:1$. So we can compute the probability of heads as:\n",
    "\n",
    "$$P(H) = \\frac{1}{1 + 1} = \\frac{1}{2}$$\n",
    "\n",
    "In some cases, the [**odds ratio**](https://en.wikipedia.org/wiki/Odds_ratio) used to evaluate the results of a logistic regression. \n",
    "\n",
    "***\n",
    "**Exercise:** Answer the following questions:\n",
    "1. We have said that the odds of rolling a 6 when throwing a single fair die are 1:5. What is the probability of rolling a 6?\n",
    "2. What are the odds and probability of rolling a total of 7 when throwing two fair dice?\n",
    "***"
   ]
  },
  {
   "cell_type": "markdown",
   "metadata": {
    "colab_type": "text",
    "id": "XKEdJe8902Ji"
   },
   "source": [
    "## Conditional Probability and the Monte Hall Problem\n",
    "\n",
    "The long running television game show, [*Let's Make A Deal*](https://en.wikipedia.org/wiki/Let%27s_Make_a_Deal), created and hosted by *Monte Hall*, had its hay-day in the 1970s. At the finale of the show, Monte would tell the winning contestant that she could pick one of three doors. Behind one door there would be a valuable prize like a car. Worthless items, like a goat, were placed behind the other two doors. The contestant would pick a door. At this point Monte would build suspense by opening one of the other doors. Monte knew which door had the valuable prize, and would always reveal one of the worthless prizes. He would then tell the contestant that they could change their choice of doors. The question is, should the contestant switch or stick with their original choice? The figure below illustrates the situation the contestant faces if they pick Door 1:\n",
    "\n",
    "![](img/Doors.jpg)\n",
    "\n",
    "The [Monte Hall Problem](https://en.wikipedia.org/wiki/Monty_Hall_problem) has a long and convoluted history. In 1975, Steve Selvin published a letter in the *American Statistician* posing the problem of which strategy is optimal. The resulting debate created considerable controversy. This debate was put at full boil when [Marilyn vos Savant](https://en.wikipedia.org/wiki/Marilyn_vos_Savant) wrote in her *Ask Marilyn* column in *Parade* magazine that the contestant should definitely switch. She was then ridiculed by several statisticians. But, was proven to be correct.  "
   ]
  },
  {
   "cell_type": "markdown",
   "metadata": {},
   "source": [
    "What would you do if you were the contestant? Fortunately for you, you know something about conditional probabilities. \n",
    "\n",
    "Your first choice, from the three doors, is purely random, since only Monte knows which door hides the car. You can compute the conditional probabilities of winning the car as follows.\n",
    "\n",
    "-  There is a probability of 2/3 that your initial pick will be one of the two doors with a goat.\n",
    "  * At this point, with probability 1 Monte will open the door with the other goat, since he cannot reveal the location of the car.  \n",
    "  * If you switch door choices at this point you will win the car with probability 2/3, or;\n",
    "  $$P(win\\ car\\ with\\ switch\\ |\\ picked\\ goat\\ initially) = 1.0 * \\frac{2}{3} = \\frac{2}{3}$$\n",
    "  * However, if you do not switch, you will have 0 probability of winning the car, or:\n",
    "  $$P(win\\ car\\ no\\ switch\\ |\\ picked\\ goat\\ initially) = 0.0 * \\frac{2}{3} = 0.0$$\n",
    "-  There is a probability of 1/3 that your initial pick will be the only door with the car. \n",
    "  * At this point, with probability 1/2 Monte can open either of the other doors, as they both contain goats.  \n",
    "  * If you switch door choices at this point you will win the car with probability 0, or;\n",
    "  $$P(win\\ car\\ with\\ switch\\ |\\ picked\\ car\\ initially) = 0.0 * \\frac{1}{3} = 0$$\n",
    "  * However, if you do not switch, you will have probability 1/3 of winning the car, or:\n",
    "  $$P(win\\ car\\ no\\ switch\\ |\\ picked\\ car\\ initially) = 1.0 * \\frac{1}{3} = \\frac{1}{3}$$\n",
    "\n"
   ]
  },
  {
   "cell_type": "markdown",
   "metadata": {},
   "source": [
    "Summing up the probabilities you can see that you should always switch your door choice, since:\n",
    "\n",
    "$$\n",
    "P(win\\ car\\ | switch) = \\frac{2}{3} + 0 = \\frac{2}{3}\\\\\n",
    "whereas\\\\\n",
    "P(win\\ car\\ | no\\ switch)  =  \\frac{1}{3} + 0 = \\frac{1}{3}\\\\\n",
    "$$\n",
    "\n",
    "The diagram below expands the paths you can take in this contest, and shows the conditional probabilities at each step. \n",
    "\n",
    "![](img/Choices.jpg)\n",
    "\n",
    "Thus, it is clear you should always switch doors given the choice. "
   ]
  },
  {
   "cell_type": "markdown",
   "metadata": {
    "colab_type": "text",
    "id": "LSS7R1WS02Jj"
   },
   "source": [
    "## Summary\n",
    "\n",
    "In this notebook you have learned about some basic properties of discrete probabilities. Specifically:\n",
    "\n",
    "- Computing probabilites by summing events in a set A and normalizing the the total possible events in the sample space S.\n",
    "- Understandhe axiums probability.\n",
    "- Use set operations on probabities.\n",
    "- Compute probabilites for independent and mutually exclusive events.\n",
    "- Apply conditional probabilities. "
   ]
  },
  {
   "cell_type": "markdown",
   "metadata": {
    "colab": {
     "autoexec": {
      "startup": false,
      "wait_interval": 0
     }
    },
    "colab_type": "code",
    "id": "kCAkbYZh02Jk"
   },
   "source": [
    "#### Copyright 2019, 2020, Stephen F Elston. All rights reserved. "
   ]
  },
  {
   "cell_type": "code",
   "execution_count": null,
   "metadata": {},
   "outputs": [],
   "source": []
  }
 ],
 "metadata": {
  "anaconda-cloud": {},
  "colab": {
   "collapsed_sections": [],
   "default_view": {},
   "name": "IntroToProbability.ipynb",
   "provenance": [],
   "version": "0.3.2",
   "views": {}
  },
  "kernelspec": {
   "display_name": "Python 3",
   "language": "python",
   "name": "python3"
  },
  "language_info": {
   "codemirror_mode": {
    "name": "ipython",
    "version": 3
   },
   "file_extension": ".py",
   "mimetype": "text/x-python",
   "name": "python",
   "nbconvert_exporter": "python",
   "pygments_lexer": "ipython3",
   "version": "3.7.3"
  }
 },
 "nbformat": 4,
 "nbformat_minor": 1
}
