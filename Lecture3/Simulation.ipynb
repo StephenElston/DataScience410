{
 "cells": [
  {
   "cell_type": "markdown",
   "metadata": {
    "colab_type": "text",
    "id": "QTBNF8ZkPhvs"
   },
   "source": [
    "# Introduction to Simulation with python\n",
    "\n",
    "## Data Science 410\n",
    "\n",
    "This notebook contains a hands-on introduction to simulation methods. The python language is used to illustrate each major point.\n",
    "\n",
    "## Introduction\n",
    "\n",
    "Simulation enables data scientists to study the behavior of stochastic processes with complex probability distributions. Simple processes might be approximated by a known, or 'named' distribution. In these simple cases, it might even be possible to derive analytical results. However, many real-world processes have complex behavior, resulting in complex distributions of output values. In these cases, simulation is a practical approach to understanding these processes. \n",
    "\n",
    "As cheap computational power has become ubiquitous, simulation has become a widely used technique in the data scientist's tool box. Simulations compute a large number of cases, or realizations, of the probability distribution of the process being studied. The final or posterior distribution of the process being simulated is comprised of these realizations. The computing cost of each realization must be low in any practical simulation. \n",
    "\n",
    "Data scientists use simulation for a number of purposes:\n",
    "\n",
    "- Simulation is used to test models. If data simulated from the model do not resemble the original data, something is likely wrong with the model.\n",
    "- Simulation is used to understand processes with complex probability distributions. In these cases, simulation provides a powerful and flexible computational technique to understand behavior.  \n",
    "\n",
    "In this notebook you will create a simulation of a process with a complex distribution. \n",
    "\n",
    "\n",
    "\n",
    "\n",
    "\n"
   ]
  },
  {
   "cell_type": "markdown",
   "metadata": {},
   "source": [
    "## Creating simulations\n",
    "\n",
    "Creating, testing and debugging simulation software can be tricky. Some of the techniques which can make your life easier are the same as you should use when developing any analytics software, or even software in general. But, given the stochastic nature of simulation, testing and debugging can be more difficult than other types of software. Some commonly employed techniques include:\n",
    "\n",
    "- Build your simulation as a series of small, easily tested chunks In practice, this means you will build your simulation by creating and testing a set of small functions that comprise the overall model.\n",
    "- Test each small functional unit individually. These tests should include at least testing some typical cases, as well as boundary or extreme cases. Sensible behavior with extreme or limiting cases is a requirement for a stable simulation. Both tabular and graphical output can be useful for evaluating these tests.\n",
    "- Test your overall simulation each time you add a new functional component. This processes ensures that all the components work together. \n",
    "- Simulations are inherently stochastic. If you want to create identical numerical results, say for automated testing, set a seed before you begin tests. In this notebook no seed is set so you can experience the stochastic nature of the simulation. "
   ]
  },
  {
   "cell_type": "markdown",
   "metadata": {},
   "source": [
    "## The Scenario\n",
    "\n",
    "The notebook implements a simulation of the profitability of a sandwich shop. Not surprisingly, the sandwich shop earns money every time a customer buys a sandwich. However, the inputs to the sandwich cost money. The daily profit is the amount customers pay for the sandwiches minus the costs of the inputs. \n",
    "\n",
    "The cost of bread is an input which is particularly difficult to manage. The shop bakes its own bread before the shop opens, and the bread must be used on the day it is made. The customers can select one of three types of bread, white, wheat, and multigrain. The customers are unusually picky. If the shop does not have bread of the customer's choice on hand, the customer will leave the shop without buying a sandwich. However, any extra bread left at the end of the day is discarded and the cost reduces the profitability of the shop. \n",
    "\n",
    "To keep the simulation simple, several assumptions are made:\n",
    "\n",
    "- The probability that each customer chooses a particular type of bread is stationary and known. These probabilities are 50% for white bread, 25% for wheat and 25% for multigrain. \n",
    "- If a customer's choice of bread is not available the customer leaves the shop without buying a sandwich.\n",
    "- The only perishable input which must be discarded at the end of each day is the bread. \n",
    "- Customers do not stop coming to the sandwich shop as a result of not finding their bread choice. \n",
    "\n",
    "In reality these are questionable assumptions, and a real-world situation would be more complex. The simulation techniques we are about to use can be applied to much more complex situations. \n",
    "\n"
   ]
  },
  {
   "cell_type": "markdown",
   "metadata": {},
   "source": [
    "### Representation as Directed Acyclic Graphical Model\n",
    "\n",
    "When creating a simulation with multiple variables, some conditionally dependent it is most useful to draw a directed graph of the dependencies of the variables. Such a representation is known as an **directed acyclic graphical model or DAG** The graph shows which variables are independent and which are conditionally dependent on others. In such a graph, the probability distributions of the variables are shown as ellipses. **Decision variables** are deterministic and are shown as rectangles. The **utility** node, profit in this case, is shown as a diamond.\n",
    "\n",
    "The directed graph for this simulation is shown in the figure below.  \n",
    "\n",
    "<img src=\"img/Simulation_Directed_Graph.jpg\" alt=\"Drawing\" style=\"width:600px; height:300px\"/>\n",
    "<center>Directed graph of the distributions for profit simulation</center>\n",
    "\n",
    "For this simulation, the arrival rate and bread choices are independent probability distributions. The probability distribution of demand for bread is dependent on arrival rate and bread choice. The profit is computed from the demand for bread and the amount of bread baked.   "
   ]
  },
  {
   "cell_type": "markdown",
   "metadata": {
    "colab_type": "text",
    "id": "HETuwSScPhvu"
   },
   "source": [
    "## Realizations of Distribution\n",
    "\n",
    "The ability to compute large numbers of realizations from probability distributions is fundamental to simulation. Two questions naturally arise. \n",
    "\n",
    "- Which distribution to choose? The answer to this question is typically determined through a combination of domain knowledge and significant data exploration. Usually, several choices are tested and compared.\n",
    "- Are the distributions of the variables conditionally dependent? That is, do we need to know the distribution of some **parent variable** before we can compute the distribution of a **child variable**. \n",
    "- How many realizations are required? The answer will depend on the accuracy you require from your simulation and how patient you are. Typically, some tests will indicate an appropriate number of realizations."
   ]
  },
  {
   "cell_type": "markdown",
   "metadata": {},
   "source": [
    "Execute the code in the cell below to load the required packages. "
   ]
  },
  {
   "cell_type": "code",
   "execution_count": null,
   "metadata": {
    "colab": {
     "autoexec": {
      "startup": false,
      "wait_interval": 0
     }
    },
    "colab_type": "code",
    "id": "zu03lQ1ai3mR"
   },
   "outputs": [],
   "source": [
    "import numpy\n",
    "import pandas\n",
    "import scipy\n",
    "import scipy.stats\n",
    "from matplotlib import pyplot\n",
    "import seaborn\n",
    "\n",
    "# Configure default plot style.\n",
    "seaborn.set_palette('muted')\n",
    "seaborn.set_style('ticks')\n",
    "%matplotlib inline"
   ]
  },
  {
   "cell_type": "markdown",
   "metadata": {},
   "source": [
    "### Poisson Distribution for Arrival Rates\n",
    "\n",
    "For arrival processes, Poisson distributions are typically used. The Poisson distribution has a single parameter, the arrival rate or intensity, $\\lambda$, per time period. Given this parameter, the probability of a given number of arrivals can be computed as:\n",
    "\n",
    "$$P(k\\ arrivals\\ | \\lambda\\ average\\ arrival\\ rate) = \\frac{\\lambda^k\\ e^{-\\lambda}}{k!}$$\n",
    "\n",
    "However, if the arrival rate is fairly high, the difference between a Poisson distribution and an appropriate Normal distribution will be minimal.The code in the cell below displays histograms of a Poisson distribution with arrival rates of {1, 5, 25, 100}. Execute the code and examine the results. "
   ]
  },
  {
   "cell_type": "code",
   "execution_count": null,
   "metadata": {
    "colab": {
     "autoexec": {
      "startup": false,
      "wait_interval": 0
     },
     "base_uri": "https://localhost:8080/",
     "height": 277,
     "output_extras": [
      {
       "item_id": 1
      }
     ]
    },
    "colab_type": "code",
    "executionInfo": {
     "elapsed": 1125,
     "status": "ok",
     "timestamp": 1512708982657,
     "user": {
      "displayName": "Drew Bryant",
      "photoUrl": "//lh4.googleusercontent.com/-bbwiO20N-0M/AAAAAAAAAAI/AAAAAAAAAJg/qqZ1Ilm078o/s50-c-k-no/photo.jpg",
      "userId": "111241008704641611320"
     },
     "user_tz": 480
    },
    "id": "qCZaNf_6i3KR",
    "outputId": "9f214ec1-48c2-4d0a-d83c-03884db533a7",
    "scrolled": true
   },
   "outputs": [],
   "source": [
    "lambdas = [1, 5, 25, 100]\n",
    "poisson_samples = [numpy.random.poisson(l, 1000) for l in lambdas]\n",
    "_ = pyplot.hist(poisson_samples, bins=80, width=4)"
   ]
  },
  {
   "cell_type": "markdown",
   "metadata": {},
   "source": [
    "Notice that as the expected arrival rate increases, the histogram starts to look more like that of a Normal distribution. \n",
    "\n",
    "Let's look at the difference between modeling the customer arrivals as a Poisson distribution versus a Normal distribution. The code in the cell below displays histograms to compare the Possion and Normal distribution for an average arrival rate of 100. Execute the code and compare the histograms.     "
   ]
  },
  {
   "cell_type": "code",
   "execution_count": null,
   "metadata": {
    "colab": {
     "autoexec": {
      "startup": false,
      "wait_interval": 0
     },
     "base_uri": "https://localhost:8080/",
     "height": 277,
     "output_extras": [
      {
       "item_id": 1
      }
     ]
    },
    "colab_type": "code",
    "executionInfo": {
     "elapsed": 650,
     "status": "ok",
     "timestamp": 1512709938043,
     "user": {
      "displayName": "Drew Bryant",
      "photoUrl": "//lh4.googleusercontent.com/-bbwiO20N-0M/AAAAAAAAAAI/AAAAAAAAAJg/qqZ1Ilm078o/s50-c-k-no/photo.jpg",
      "userId": "111241008704641611320"
     },
     "user_tz": 480
    },
    "id": "vTp22hCnnQ3t",
    "outputId": "128adb57-e265-4813-c72e-d6bf38d73a94",
    "scrolled": true
   },
   "outputs": [],
   "source": [
    "mu = 100\n",
    "sigma = 10.0\n",
    "\n",
    "num_samples = 100000\n",
    "norm_samples = numpy.random.normal(loc=mu, scale=sigma, size=num_samples)\n",
    "poisson_samples = numpy.random.poisson(lam=mu, size=num_samples)\n",
    "pyplot.hist(poisson_samples, bins=30, label='poisson')\n",
    "pyplot.hist(norm_samples, bins=30, label='normal')\n",
    "_ = pyplot.legend()"
   ]
  },
  {
   "cell_type": "markdown",
   "metadata": {
    "colab_type": "text",
    "id": "IwS1SNBPPhv0"
   },
   "source": [
    "**Your turn:** In the cells below, compute and display histograms comparing 10000 realizations of Normal and Poisson distributions with expected arrival rate of 10, 25 ad 50. You will need to find values of the standard deviation for the Normal distribution by experimenting a bit. "
   ]
  },
  {
   "cell_type": "code",
   "execution_count": null,
   "metadata": {
    "colab": {
     "autoexec": {
      "startup": false,
      "wait_interval": 0
     },
     "base_uri": "https://localhost:8080/",
     "height": 495,
     "output_extras": [
      {
       "item_id": 1
      }
     ]
    },
    "colab_type": "code",
    "executionInfo": {
     "elapsed": 1384,
     "status": "ok",
     "timestamp": 1512710762467,
     "user": {
      "displayName": "Drew Bryant",
      "photoUrl": "//lh4.googleusercontent.com/-bbwiO20N-0M/AAAAAAAAAAI/AAAAAAAAAJg/qqZ1Ilm078o/s50-c-k-no/photo.jpg",
      "userId": "111241008704641611320"
     },
     "user_tz": 480
    },
    "id": "VoW74X0IPhv1",
    "outputId": "a0dd9e11-26d3-4fde-edaf-83e9514b45c8"
   },
   "outputs": [],
   "source": []
  },
  {
   "cell_type": "markdown",
   "metadata": {
    "colab_type": "text",
    "id": "ExlvWNF9Phv6"
   },
   "source": [
    "## Simulate Demand\n",
    "\n",
    "In order to develop an overall profitability model, demand must be simulated. To simulate demand you must first simulate the number of arrivals and then the demand for each type of bread given the arrivals. \n",
    "\n",
    "The demand for bread on a given day is simulated with the code in the cell below. Given the number of arrivals `n`, the `sim.bread` function computes the numbers of each type of bread required. The last line of code in the the cell tests the function for a single realization of 100 arrivals. Run this code and examine the result."
   ]
  },
  {
   "cell_type": "code",
   "execution_count": null,
   "metadata": {
    "colab": {
     "autoexec": {
      "startup": false,
      "wait_interval": 0
     },
     "base_uri": "https://localhost:8080/",
     "height": 35,
     "output_extras": [
      {
       "item_id": 1
      }
     ]
    },
    "colab_type": "code",
    "executionInfo": {
     "elapsed": 569,
     "status": "ok",
     "timestamp": 1512711403023,
     "user": {
      "displayName": "Drew Bryant",
      "photoUrl": "//lh4.googleusercontent.com/-bbwiO20N-0M/AAAAAAAAAAI/AAAAAAAAAJg/qqZ1Ilm078o/s50-c-k-no/photo.jpg",
      "userId": "111241008704641611320"
     },
     "user_tz": 480
    },
    "id": "KDggDshgluXp",
    "outputId": "c00914cb-67a3-4418-81ff-0133593366dd"
   },
   "outputs": [],
   "source": [
    "bread_probas = [\n",
    "      .50,  # white\n",
    "      .25,  # wheat\n",
    "      .25,  # multigrain\n",
    "  ]\n",
    "def sim_bread(num_samples, bread_probas):\n",
    "  return list(zip(\n",
    "      ['white', 'wheat', 'multigrain'], \n",
    "      numpy.random.multinomial(num_samples, bread_probas)))\n",
    "  \n",
    "sim_bread(100, bread_probas)"
   ]
  },
  {
   "cell_type": "markdown",
   "metadata": {
    "colab_type": "text",
    "id": "O-DsOJPVPhv-"
   },
   "source": [
    "Examine the table of demand by type of bread. Notice that the proportions of white, wheat and muligrain are approximately 2, 1, 1, respectively. You can now compute the bread demand for one realization of arrivals.  "
   ]
  },
  {
   "cell_type": "markdown",
   "metadata": {
    "colab_type": "text",
    "id": "wUV_TONfPhv_"
   },
   "source": [
    "Next, you must simulate realizations of the arrivals of people at the sandwich shop. \n",
    "\n",
    "The demand for bread is **conditionally dependent** on the number of arrivals, and the probability that customers choose each type of bread. In other words, what you need to compute is the conditional probability distribution of bread demand given arrivals, or $P(bread\\ type\\ |\\ arrivals, probability\\ of\\ bread\\ choice)$.\n",
    "\n",
    "The code in the cell below performs the following operations:\n",
    "\n",
    "- The distribution of the arrivals is computed from realizations of a Poisson distribution.\n",
    "- A array is created to hold  the demand for each bread type for each realization of the arrivals.\n",
    "- Loop over the realizations of the arrivals, compute the demand for each bread type, and save the results in a row of the matrix.\n",
    "\n",
    "Execute this code and  examine the results."
   ]
  },
  {
   "cell_type": "code",
   "execution_count": null,
   "metadata": {
    "colab": {
     "autoexec": {
      "startup": false,
      "wait_interval": 0
     },
     "base_uri": "https://localhost:8080/",
     "height": 359,
     "output_extras": [
      {
       "item_id": 1
      }
     ]
    },
    "colab_type": "code",
    "executionInfo": {
     "elapsed": 374,
     "status": "ok",
     "timestamp": 1512712870570,
     "user": {
      "displayName": "Drew Bryant",
      "photoUrl": "//lh4.googleusercontent.com/-bbwiO20N-0M/AAAAAAAAAAI/AAAAAAAAAJg/qqZ1Ilm078o/s50-c-k-no/photo.jpg",
      "userId": "111241008704641611320"
     },
     "user_tz": 480
    },
    "id": "x2-FHVVgnb9s",
    "outputId": "e12c0e3c-8022-4fd7-8c8a-87bf33f0170d"
   },
   "outputs": [],
   "source": [
    "def sim_demand(lam, num_samples, bread_probas):\n",
    "  # Compute realizations of arrivals\n",
    "  arrivals = numpy.random.poisson(lam=lam, size=num_samples)\n",
    "  # Initalize a matrix\n",
    "  demand_matrix = numpy.zeros((num_samples, 3), dtype=int)\n",
    "  \n",
    "  for i, a in enumerate(arrivals):\n",
    "    breads, counts = zip(*sim_bread(a, bread_probas))\n",
    "    # Add one realization to matrix\n",
    "    demand_matrix[i] = counts\n",
    "  demand = pandas.DataFrame(demand_matrix, columns=breads)\n",
    "  \n",
    "  return demand\n",
    "\n",
    "sim_demand(100, 10, bread_probas)"
   ]
  },
  {
   "cell_type": "markdown",
   "metadata": {
    "colab_type": "text",
    "id": "lCD4GAWsPhwD"
   },
   "source": [
    "**Your Turn:** Plot the distribution of at least one bread type based on 10000 realizations."
   ]
  },
  {
   "cell_type": "code",
   "execution_count": null,
   "metadata": {},
   "outputs": [],
   "source": []
  },
  {
   "cell_type": "markdown",
   "metadata": {
    "colab_type": "text",
    "id": "yvXJTIMbPhwH"
   },
   "source": [
    "## Simulate Bread Baked\n",
    "\n",
    "The number of each type of bread baked in the sandwich shop is deterministic. Presumably the shop manager has a plan for the day, and the bread is baked in advance of the customer arrivals. The code in the cell below computes a data frame containing the number of loaves of each type of bead baked. Run this code to test the function."
   ]
  },
  {
   "cell_type": "code",
   "execution_count": null,
   "metadata": {
    "colab": {
     "autoexec": {
      "startup": false,
      "wait_interval": 0
     },
     "base_uri": "https://localhost:8080/",
     "height": 80,
     "output_extras": [
      {
       "item_id": 1
      }
     ]
    },
    "colab_type": "code",
    "executionInfo": {
     "elapsed": 204,
     "status": "ok",
     "timestamp": 1512714478791,
     "user": {
      "displayName": "Drew Bryant",
      "photoUrl": "//lh4.googleusercontent.com/-bbwiO20N-0M/AAAAAAAAAAI/AAAAAAAAAJg/qqZ1Ilm078o/s50-c-k-no/photo.jpg",
      "userId": "111241008704641611320"
     },
     "user_tz": 480
    },
    "id": "JuBUxS5WpCQC",
    "outputId": "e779b25b-7781-4f1b-a2ff-a7713f5cfa5b"
   },
   "outputs": [],
   "source": [
    "def baked_bread(n):\n",
    "  baked = (['white'] * (n//2)) + (['wheat'] * (n//4)) + (['multigrain'] * (n//4))\n",
    "  bread_available = dict(pandas.Series(baked).value_counts())\n",
    "  return pandas.DataFrame({k:[v] for k,v in bread_available.items()})\n",
    "\n",
    "baked_bread(100)"
   ]
  },
  {
   "cell_type": "markdown",
   "metadata": {
    "colab_type": "text",
    "id": "RroqRgZRPhwP"
   },
   "source": [
    "## Simulate and plot profit\n",
    "\n",
    "You now have almost all the pieces in place to create the complete simulation of the distribution of profitability of the sandwich shop. The only missing piece is to compute the total profit based on the number of sandwiches sold and the cost of the bread baked. \n",
    "\n",
    "The calculation of the profit is done by bread type. If the demand for a bread type is less that the available bread, the cost of the bread is subtracted by the profit at that demand. If the demand is greater than the available bread, the profit is limited by the amount of bread available. \n",
    "\n",
    "The code in cell below performs the following operations:\n",
    "\n",
    "- Compute the amount of bread baked.\n",
    "- Compute the realizations of demand by bread type.\n",
    "- For each realization of each bread type, compute the profit based on the available bread.\n",
    "\n",
    "Run this code and examine the results."
   ]
  },
  {
   "cell_type": "code",
   "execution_count": null,
   "metadata": {
    "colab": {
     "autoexec": {
      "startup": false,
      "wait_interval": 0
     },
     "base_uri": "https://localhost:8080/",
     "height": 204,
     "output_extras": [
      {
       "item_id": 1
      }
     ]
    },
    "colab_type": "code",
    "executionInfo": {
     "elapsed": 465,
     "status": "ok",
     "timestamp": 1512714534534,
     "user": {
      "displayName": "Drew Bryant",
      "photoUrl": "//lh4.googleusercontent.com/-bbwiO20N-0M/AAAAAAAAAAI/AAAAAAAAAJg/qqZ1Ilm078o/s50-c-k-no/photo.jpg",
      "userId": "111241008704641611320"
     },
     "user_tz": 480
    },
    "id": "dD5k_uxFuC40",
    "outputId": "ac8c4a6b-75a1-4fc7-ab84-d7ddecbba0fc"
   },
   "outputs": [],
   "source": [
    "baked = 100\n",
    "n = 10\n",
    "lamb = 100\n",
    "earned = 1.0\n",
    "cost = .25\n",
    "\n",
    "def baked_bread_samples(n_samples, n_bread):\n",
    "    \"\"\"Sample breads baked each day.\"\"\"\n",
    "    return pandas.concat([\n",
    "            baked_bread(n_bread) for i in range(n_samples)]\n",
    "                        ).reset_index(drop=True)\n",
    "\n",
    "bread_samples = baked_bread_samples(n, baked)\n",
    "demand_samples = sim_demand(lamb, n, bread_probas)\n",
    "\n",
    "demand_samples"
   ]
  },
  {
   "cell_type": "code",
   "execution_count": null,
   "metadata": {},
   "outputs": [],
   "source": [
    "def sim_profit(n_baked, n, lam, earned, cost, bread_probas):\n",
    "    # Draw samples for bread baking supply each day.\n",
    "    bread_samples = baked_bread_samples(n, n_baked)\n",
    "    # Draw samples for demand each day., bread_probas\n",
    "    demand_samples = sim_demand(lam, n, bread_probas)    \n",
    "    # Combine the supply and demand into a single dataframe.\n",
    "    supply_demand = pandas.merge(\n",
    "        bread_samples, \n",
    "        demand_samples, \n",
    "        left_index=True, \n",
    "        right_index=True,\n",
    "        how='inner',\n",
    "        suffixes=('_supply', '_demand'))\n",
    "    \n",
    "    # Define how we'll get profit for a single day\n",
    "    def get_profit(day):\n",
    "        profit = 0\n",
    "        breads = 'multigrain', 'wheat', 'white'\n",
    "        for b in breads:\n",
    "            supply = day['%s_supply' % b]\n",
    "            demand = day['%s_demand' % b]\n",
    "            # Determine how much of our bread supply was sold vs wasted.\n",
    "            leftover = supply - demand\n",
    "            if leftover >= 0: # If yes, compute profit\n",
    "                profit += earned * demand - cost * supply\n",
    "            else: # If no, limited by available bread\n",
    "                profit += (earned - cost) * supply\n",
    "        return profit\n",
    "    \n",
    "    #  Compute the profit for each data and store result in a new column.\n",
    "    supply_demand['profit'] = supply_demand.apply(get_profit, axis=1)\n",
    "    \n",
    "    return supply_demand\n",
    "    \n",
    "profits = sim_profit(100, 10, 100, 1.00, .25, bread_probas)\n",
    "profits"
   ]
  },
  {
   "cell_type": "markdown",
   "metadata": {
    "colab_type": "text",
    "id": "X-GyRR_SPhwV"
   },
   "source": [
    "For a large number of realizations, it is easier to study the resulting distribution using summary statistics and plots. Run the code in the cell below to simulate a large number of trials that we'll plot further below"
   ]
  },
  {
   "cell_type": "code",
   "execution_count": null,
   "metadata": {},
   "outputs": [],
   "source": [
    "profits = sim_profit(100, 10000, 100, 1.00, .25, bread_probas)"
   ]
  },
  {
   "cell_type": "markdown",
   "metadata": {},
   "source": [
    "Let's compute the total demand across all bread types for each day as well"
   ]
  },
  {
   "cell_type": "code",
   "execution_count": null,
   "metadata": {},
   "outputs": [],
   "source": [
    "def total_demand(day):\n",
    "    return sum(day[c] for c in day.keys() if 'demand' in c)\n",
    "\n",
    "profits['total_demand'] = profits.apply(total_demand, axis=1)\n",
    "profits.head()"
   ]
  },
  {
   "cell_type": "markdown",
   "metadata": {},
   "source": [
    "We can now see the distribution of demand over the days of our simulation"
   ]
  },
  {
   "cell_type": "code",
   "execution_count": null,
   "metadata": {},
   "outputs": [],
   "source": [
    "profits.total_demand.hist(bins=30)"
   ]
  },
  {
   "cell_type": "markdown",
   "metadata": {},
   "source": [
    "and also the distribution of daily profits during the course of the simulation"
   ]
  },
  {
   "cell_type": "code",
   "execution_count": null,
   "metadata": {},
   "outputs": [],
   "source": [
    "profits.profit.hist(bins=30)"
   ]
  },
  {
   "cell_type": "markdown",
   "metadata": {},
   "source": [
    "Let's wrap up our plotting code in a function so that we can reuse it for different scenarios we'd like to simulate."
   ]
  },
  {
   "cell_type": "code",
   "execution_count": null,
   "metadata": {},
   "outputs": [],
   "source": [
    "def plot_scenario(profits):\n",
    "    profits['total_demand'] = profits.apply(total_demand, axis=1)\n",
    "    \n",
    "    pyplot.subplot(2, 1, 1)\n",
    "    profits.total_demand.hist(bins=30)\n",
    "    pyplot.xlabel('total demand')\n",
    "    pyplot.ylabel('count')\n",
    "\n",
    "    pyplot.subplot(2, 1, 2)\n",
    "    profits.profit.hist(bins=30)\n",
    "    pyplot.xlabel('profit')\n",
    "    pyplot.ylabel('count')\n",
    "\n",
    "plot_scenario(profits)"
   ]
  },
  {
   "cell_type": "markdown",
   "metadata": {
    "colab_type": "text",
    "id": "Sjg9vyFRPhwZ"
   },
   "source": [
    "**Your turn:** In the cell below, create and execute the code to examine the chart of profit for  the cases where 120, 140, and 160 loaves of bread have been baked. "
   ]
  },
  {
   "cell_type": "code",
   "execution_count": null,
   "metadata": {},
   "outputs": [],
   "source": []
  },
  {
   "cell_type": "markdown",
   "metadata": {
    "colab_type": "text",
    "id": "I2a08mG_Phwd"
   },
   "source": [
    "## Profit vs. Bread Baked\n",
    "\n",
    "Of several possible questions, a manager of the sandwich shop might be most interested in the relationship between profitability and the number of loaves of bread baked. Understanding this relationship will help the manager optimize the profit of the shop. \n",
    "\n",
    "Since there is only one variable in this case, it is a simple matter to step over some likely values and find the one which optimizes the profit of the shop. The code in the cell does just this and plots a graph of the result. Run the code and examine the result. "
   ]
  },
  {
   "cell_type": "code",
   "execution_count": null,
   "metadata": {},
   "outputs": [],
   "source": [
    "bread_counts = (60, 80, 100, 120, 140, 160)\n",
    "mean_profits = [sim_profit(n_bread, 10000, 100, 1.00, .25, bread_probas).profit.mean()\n",
    "    for n_bread in bread_counts]\n",
    "\n",
    "scenarios = pandas.DataFrame({'baked': bread_counts, 'profits': mean_profits})\n",
    "scenarios"
   ]
  },
  {
   "cell_type": "code",
   "execution_count": null,
   "metadata": {},
   "outputs": [],
   "source": [
    "scenarios.plot(x='baked', y='profits')\n",
    "pyplot.title('Sandwich shop profit vs. bread baked')"
   ]
  },
  {
   "cell_type": "markdown",
   "metadata": {
    "colab_type": "text",
    "id": "uogl6RsjPhwh"
   },
   "source": [
    "## Stochastic Nature of Simulation\n",
    "\n",
    "There is still the issue of how much the results of this simulation vary from run to run. Running a simulation multiple times yields the the **posterior distribution** of the variables being simulated. In this case we are interested in the posterior distribution of the profitability vs. the number of breads baked.    \n",
    "\n",
    "With a bit more code, the results of a number of number of simulation runs, the mean value, and the standard deviation of the profit across simulation runs can be computed and displayed. Run this code and examine the printed and plotted results. "
   ]
  },
  {
   "cell_type": "code",
   "execution_count": null,
   "metadata": {},
   "outputs": [],
   "source": [
    "def sim_profit_replicas(n_replicas, bread_counts, n_days, lam, earned, cost, bread_probas):\n",
    "    all_scenarios = []\n",
    "    for replica_i in range(n_replicas):\n",
    "        mean_profits = [sim_profit(n_bread, n_days, lam, earned, cost, bread_probas).profit.mean()\n",
    "            for n_bread in bread_counts]\n",
    "        scenarios = pandas.DataFrame({'baked': bread_counts, 'profits': mean_profits})\n",
    "        scenarios['replica_i'] = replica_i\n",
    "        all_scenarios.append(scenarios)\n",
    "        \n",
    "    return pandas.concat(all_scenarios)\n",
    "\n",
    "replicas = sim_profit_replicas(\n",
    "    n_replicas=100, \n",
    "    bread_counts=(60, 80, 100, 120, 140, 160), \n",
    "    n_days=100, \n",
    "    lam=100, \n",
    "    earned=1.00, \n",
    "    cost=.25, \n",
    "    bread_probas = bread_probas)"
   ]
  },
  {
   "cell_type": "code",
   "execution_count": null,
   "metadata": {},
   "outputs": [],
   "source": [
    "replicas.head()"
   ]
  },
  {
   "cell_type": "markdown",
   "metadata": {},
   "source": [
    "We can easily compute the standard deviation of the mean daily profit across our simulation replicas like so"
   ]
  },
  {
   "cell_type": "code",
   "execution_count": null,
   "metadata": {},
   "outputs": [],
   "source": [
    "replicas.groupby('baked').profits.std()"
   ]
  },
  {
   "cell_type": "markdown",
   "metadata": {},
   "source": [
    "And now we can plot each of the simulation replicas to get a sense of the profit variance for each amount of bread we might bake daily."
   ]
  },
  {
   "cell_type": "code",
   "execution_count": null,
   "metadata": {},
   "outputs": [],
   "source": [
    "replicas.columns"
   ]
  },
  {
   "cell_type": "code",
   "execution_count": null,
   "metadata": {},
   "outputs": [],
   "source": [
    "pyplot.figure(figsize=(12, 10))\n",
    "seaborn.lineplot(x='baked', y='profits', hue='replica_i', data=replicas)"
   ]
  },
  {
   "cell_type": "code",
   "execution_count": null,
   "metadata": {},
   "outputs": [],
   "source": [
    "pyplot.figure(figsize=(8, 6))\n",
    "seaborn.barplot(x='baked', y='profits', ci=95, data=replicas, color='LightBlue')"
   ]
  },
  {
   "cell_type": "markdown",
   "metadata": {
    "colab_type": "text",
    "id": "uVnwnxhRPhwk"
   },
   "source": [
    "For most part the difference in profits between 100 and 120 loaves of bread prepared is minimal. This is particularly the case if you look at the standard deviation of these means. "
   ]
  },
  {
   "cell_type": "markdown",
   "metadata": {
    "colab_type": "text",
    "id": "1dFDMBnePhwl"
   },
   "source": [
    "**Your turn:** In the cell below, create and exectue the code to simulate the profitabity of the sandwich show vs. bread baked for the case the bread costs 0.1, using 100 runs. How is the behavior of the result different from before."
   ]
  },
  {
   "cell_type": "code",
   "execution_count": null,
   "metadata": {},
   "outputs": [],
   "source": []
  },
  {
   "cell_type": "markdown",
   "metadata": {},
   "source": [
    "#### Copyright 2019, 2020, Stephen F Elston. All rights reserved. "
   ]
  },
  {
   "cell_type": "code",
   "execution_count": null,
   "metadata": {},
   "outputs": [],
   "source": []
  }
 ],
 "metadata": {
  "colab": {
   "default_view": {},
   "name": "Simulation.ipynb",
   "provenance": [],
   "version": "0.3.2",
   "views": {}
  },
  "kernelspec": {
   "display_name": "Python 3",
   "language": "python",
   "name": "python3"
  },
  "language_info": {
   "codemirror_mode": {
    "name": "ipython",
    "version": 3
   },
   "file_extension": ".py",
   "mimetype": "text/x-python",
   "name": "python",
   "nbconvert_exporter": "python",
   "pygments_lexer": "ipython3",
   "version": "3.7.3"
  }
 },
 "nbformat": 4,
 "nbformat_minor": 1
}
