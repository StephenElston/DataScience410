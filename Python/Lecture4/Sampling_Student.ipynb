{
 "cells": [
  {
   "cell_type": "markdown",
   "metadata": {},
   "source": [
    "# Sampling and Law of Large Numbers\n",
    "### Stephen Elston\n",
    "### Data Science 410\n",
    "\n",
    "## Introduction\n",
    "\n",
    "Sampling is a fundamental process in the collection of data. Sampling is important because we can almost never look at the whole population. Some key points to keep in mind about sampling are:\n",
    "- An understanding of sampling is essentail to ensure that analysis performed are representative of the entire population. \n",
    "- You will use inferences on the sample to say something about the population.\n",
    "- You will need estimates of variances on the sample calculations to say something about the population.\n",
    "\n",
    "Let's look at some examples of sampling.\n",
    "\n",
    "| Use Case | Sample | Population |\n",
    "|---|---|---|\n",
    "| A/B Testing | The users we show either web sites A or B | All possible users, past present and future|\n",
    "|World Cup Socer | 32 teams which qualify in one season | All national teams in past, present and future years|\n",
    "|Average height of data science students | Students in UW Data Science Program | All students taking data science classes world wide|\n",
    "\n",
    "Notice, that in several cases it is not only impractical, but impossible to collect data from the entire population. Hence, we must work with correctly collected samples. \n",
    "\n",
    "## Sampling Strategies\n",
    "\n",
    "At the conclusion of this lesson, you should be able to apply a number of commonly used sampling strategies: \n",
    "\n",
    "- Bernoulli Sampling\n",
    "- Stratified Sampling\n",
    "- Cluster Sampling\n",
    "- Systematic Sampling\n",
    "\n",
    "\n",
    "### Bernoulli Sampling\n",
    "\n",
    "Bernoulli sampling has the following properties:\n",
    "\n",
    "- Every point subjected to a probability of being selected. Simple Random Sample (most common)\n",
    "- Fixed size Bernoulli sampling.\n",
    "- Example randomly sample weight of product to ensure quality\n",
    "\n",
    "Let's look at an example. The code in the cell below creates a data frame with 200 random samples of a Normal distribution, divided into 4 groups. Run this code and examine the summary of the sample. "
   ]
  },
  {
   "cell_type": "code",
   "execution_count": 1,
   "metadata": {
    "collapsed": false
   },
   "outputs": [
    {
     "data": {
      "text/html": [
       "<div>\n",
       "<table border=\"1\" class=\"dataframe\">\n",
       "  <thead>\n",
       "    <tr style=\"text-align: right;\">\n",
       "      <th></th>\n",
       "      <th>group</th>\n",
       "      <th>var</th>\n",
       "    </tr>\n",
       "  </thead>\n",
       "  <tbody>\n",
       "    <tr>\n",
       "      <th>0</th>\n",
       "      <td>1</td>\n",
       "      <td>1.469248</td>\n",
       "    </tr>\n",
       "    <tr>\n",
       "      <th>1</th>\n",
       "      <td>1</td>\n",
       "      <td>-1.150144</td>\n",
       "    </tr>\n",
       "    <tr>\n",
       "      <th>2</th>\n",
       "      <td>0</td>\n",
       "      <td>2.519226</td>\n",
       "    </tr>\n",
       "    <tr>\n",
       "      <th>3</th>\n",
       "      <td>1</td>\n",
       "      <td>-0.082478</td>\n",
       "    </tr>\n",
       "    <tr>\n",
       "      <th>4</th>\n",
       "      <td>1</td>\n",
       "      <td>-0.033601</td>\n",
       "    </tr>\n",
       "    <tr>\n",
       "      <th>5</th>\n",
       "      <td>2</td>\n",
       "      <td>-1.636656</td>\n",
       "    </tr>\n",
       "    <tr>\n",
       "      <th>6</th>\n",
       "      <td>3</td>\n",
       "      <td>-0.412092</td>\n",
       "    </tr>\n",
       "    <tr>\n",
       "      <th>7</th>\n",
       "      <td>1</td>\n",
       "      <td>1.784949</td>\n",
       "    </tr>\n",
       "    <tr>\n",
       "      <th>8</th>\n",
       "      <td>2</td>\n",
       "      <td>0.042383</td>\n",
       "    </tr>\n",
       "    <tr>\n",
       "      <th>9</th>\n",
       "      <td>1</td>\n",
       "      <td>-0.619732</td>\n",
       "    </tr>\n",
       "  </tbody>\n",
       "</table>\n",
       "</div>"
      ],
      "text/plain": [
       "   group       var\n",
       "0      1  1.469248\n",
       "1      1 -1.150144\n",
       "2      0  2.519226\n",
       "3      1 -0.082478\n",
       "4      1 -0.033601\n",
       "5      2 -1.636656\n",
       "6      3 -0.412092\n",
       "7      1  1.784949\n",
       "8      2  0.042383\n",
       "9      1 -0.619732"
      ]
     },
     "execution_count": 1,
     "metadata": {},
     "output_type": "execute_result"
    }
   ],
   "source": [
    "import numpy.random as nr\n",
    "import pandas as pd\n",
    "nr.seed(345)\n",
    "data = pd.DataFrame({\"var\":nr.normal(size = 200), \n",
    "                     \"group\":nr.choice(range(4), size= 200, p = [0.1,0.3,0.4,0.2])})\n",
    "data.head(10)"
   ]
  },
  {
   "cell_type": "code",
   "execution_count": 2,
   "metadata": {
    "collapsed": false,
    "scrolled": false
   },
   "outputs": [
    {
     "data": {
      "text/html": [
       "<div>\n",
       "<table border=\"1\" class=\"dataframe\">\n",
       "  <thead>\n",
       "    <tr style=\"text-align: right;\">\n",
       "      <th></th>\n",
       "      <th>count</th>\n",
       "      <th>mean</th>\n",
       "    </tr>\n",
       "    <tr>\n",
       "      <th>group</th>\n",
       "      <th></th>\n",
       "      <th></th>\n",
       "    </tr>\n",
       "  </thead>\n",
       "  <tbody>\n",
       "    <tr>\n",
       "      <th>0</th>\n",
       "      <td>24</td>\n",
       "      <td>-0.016270</td>\n",
       "    </tr>\n",
       "    <tr>\n",
       "      <th>1</th>\n",
       "      <td>62</td>\n",
       "      <td>0.033306</td>\n",
       "    </tr>\n",
       "    <tr>\n",
       "      <th>2</th>\n",
       "      <td>68</td>\n",
       "      <td>0.051564</td>\n",
       "    </tr>\n",
       "    <tr>\n",
       "      <th>3</th>\n",
       "      <td>46</td>\n",
       "      <td>-0.170043</td>\n",
       "    </tr>\n",
       "  </tbody>\n",
       "</table>\n",
       "</div>"
      ],
      "text/plain": [
       "       count      mean\n",
       "group                 \n",
       "0         24 -0.016270\n",
       "1         62  0.033306\n",
       "2         68  0.051564\n",
       "3         46 -0.170043"
      ]
     },
     "execution_count": 2,
     "metadata": {},
     "output_type": "execute_result"
    }
   ],
   "source": [
    "def count_mean(dat):\n",
    "    import numpy as np\n",
    "    import pandas as pd\n",
    "    groups = dat.groupby('group') # Create the groups\n",
    "    ## Create a data frame with the counts and the means of the groups\n",
    "    return pd.DataFrame({'count': groups.size(), \n",
    "                        'mean': groups.aggregate(np.mean).loc[:, 'var']})\n",
    "count_mean(data)"
   ]
  },
  {
   "cell_type": "markdown",
   "metadata": {},
   "source": [
    "Next, Bernoulli sample these data by runing the code in the cell below.  "
   ]
  },
  {
   "cell_type": "code",
   "execution_count": 3,
   "metadata": {
    "collapsed": false,
    "scrolled": true
   },
   "outputs": [
    {
     "data": {
      "text/html": [
       "<div>\n",
       "<table border=\"1\" class=\"dataframe\">\n",
       "  <thead>\n",
       "    <tr style=\"text-align: right;\">\n",
       "      <th></th>\n",
       "      <th>count</th>\n",
       "      <th>mean</th>\n",
       "    </tr>\n",
       "    <tr>\n",
       "      <th>group</th>\n",
       "      <th></th>\n",
       "      <th></th>\n",
       "    </tr>\n",
       "  </thead>\n",
       "  <tbody>\n",
       "    <tr>\n",
       "      <th>0</th>\n",
       "      <td>1</td>\n",
       "      <td>0.136467</td>\n",
       "    </tr>\n",
       "    <tr>\n",
       "      <th>1</th>\n",
       "      <td>5</td>\n",
       "      <td>-0.699793</td>\n",
       "    </tr>\n",
       "    <tr>\n",
       "      <th>2</th>\n",
       "      <td>11</td>\n",
       "      <td>0.318959</td>\n",
       "    </tr>\n",
       "    <tr>\n",
       "      <th>3</th>\n",
       "      <td>3</td>\n",
       "      <td>-0.153375</td>\n",
       "    </tr>\n",
       "  </tbody>\n",
       "</table>\n",
       "</div>"
      ],
      "text/plain": [
       "       count      mean\n",
       "group                 \n",
       "0          1  0.136467\n",
       "1          5 -0.699793\n",
       "2         11  0.318959\n",
       "3          3 -0.153375"
      ]
     },
     "execution_count": 3,
     "metadata": {},
     "output_type": "execute_result"
    }
   ],
   "source": [
    "p = 0.1\n",
    "bernoulli = data.iloc[nr.choice(range(200), size = int(p * 200)), :]\n",
    "count_mean(bernoulli)"
   ]
  },
  {
   "cell_type": "markdown",
   "metadata": {},
   "source": [
    "You can see that the total number of samples is approximately 10%. Further, you can see that some of the mean estimates are further from zero.   \n",
    "\n",
    "**Your Turn:** You can also use the numpy.random `choice` method to Bernoulli sample a data frame. Create the code to Bernoulli sample 20 cases from the population and print the summary statistcs of number and mean by group. "
   ]
  },
  {
   "cell_type": "code",
   "execution_count": null,
   "metadata": {
    "collapsed": false
   },
   "outputs": [],
   "source": []
  },
  {
   "cell_type": "markdown",
   "metadata": {},
   "source": [
    "Examine these results. Do the numbers of samples appear representative of the population. "
   ]
  },
  {
   "cell_type": "markdown",
   "metadata": {},
   "source": [
    "Notice in both cases you have tried, that for both samples the number of cases for some groups can be rather small. Compare the means by groups of the two samples and the population, and notice how much variation there is. Clearly, Bernoulli sampling is far from idea if the data have a group structure.  "
   ]
  },
  {
   "cell_type": "markdown",
   "metadata": {},
   "source": [
    "### Stratified Sampling\n",
    "\n",
    "Stratified sampling strategies are used when data are organized in groups or **Strata**. The idea is simple, sample each group in such a way that the sample includes a representative number of cases from each group. The simplist version of stratified sampling creates a sample with the same number of cases from each group.\n",
    "\n",
    "Some examples of stratified sampling include:\n",
    "\n",
    "- Sample equal numbers of men and women.\n",
    "- Sample equal numbers of people in different income categories.\n",
    "- Sample the same number of people from towns of different sizes.\n",
    "\n",
    "Execute the code in the cell below to sample our population uniformly, and verify the result. The comments can help you understand the code. "
   ]
  },
  {
   "cell_type": "code",
   "execution_count": 5,
   "metadata": {
    "collapsed": false,
    "scrolled": false
   },
   "outputs": [
    {
     "data": {
      "text/html": [
       "<div>\n",
       "<table border=\"1\" class=\"dataframe\">\n",
       "  <thead>\n",
       "    <tr style=\"text-align: right;\">\n",
       "      <th></th>\n",
       "      <th>count</th>\n",
       "      <th>mean</th>\n",
       "    </tr>\n",
       "    <tr>\n",
       "      <th>group</th>\n",
       "      <th></th>\n",
       "      <th></th>\n",
       "    </tr>\n",
       "  </thead>\n",
       "  <tbody>\n",
       "    <tr>\n",
       "      <th>0</th>\n",
       "      <td>10</td>\n",
       "      <td>-0.150650</td>\n",
       "    </tr>\n",
       "    <tr>\n",
       "      <th>1</th>\n",
       "      <td>10</td>\n",
       "      <td>-0.552513</td>\n",
       "    </tr>\n",
       "    <tr>\n",
       "      <th>2</th>\n",
       "      <td>10</td>\n",
       "      <td>-0.368422</td>\n",
       "    </tr>\n",
       "    <tr>\n",
       "      <th>3</th>\n",
       "      <td>10</td>\n",
       "      <td>-0.581648</td>\n",
       "    </tr>\n",
       "  </tbody>\n",
       "</table>\n",
       "</div>"
      ],
      "text/plain": [
       "       count      mean\n",
       "group                 \n",
       "0         10 -0.150650\n",
       "1         10 -0.552513\n",
       "2         10 -0.368422\n",
       "3         10 -0.581648"
      ]
     },
     "execution_count": 5,
     "metadata": {},
     "output_type": "execute_result"
    }
   ],
   "source": [
    "p = 0.05\n",
    "def stratify(dat, p):\n",
    "    groups = dat.groupby('group') # Create the groups\n",
    "    nums = min(groups.size()) # Find the size of the smallest group\n",
    "    num = int(p * dat.shape[0]) # Compute the desired number of samples per group\n",
    "    if num <= nums: # If sufficient group size, sample each group and return. \n",
    "        return groups.apply(lambda x: x.sample(n=num))\n",
    "    else: # Oops. p is to large\n",
    "        pmax = nums / dat.shape[0]\n",
    "        print('The maximum value of p = ' + str(pmax))\n",
    "stratified = stratify(data, p)\n",
    "count_mean(stratified)"
   ]
  },
  {
   "cell_type": "markdown",
   "metadata": {},
   "source": [
    "We now have 5 samples from each strata. Notice that the mean estimates of each group are closer those for the population. Stratified sampling ensures the samples for each group are more  representative of the groups. "
   ]
  },
  {
   "cell_type": "markdown",
   "metadata": {},
   "source": [
    "### Cluster Sampling\n",
    "\n",
    "When sampling is expensive a strategy is required to reduce the cost, yet still keep randomized sampling. Some examples of data which is expensive to collect includues:\n",
    "\n",
    "- Surveys of customers at a chain of stores.\n",
    "- Door to door survey of homeowners.\n",
    "\n",
    "In these cases, the popuation can be divided into clusters and a random selection of clusters sampled. The proceess of cluster sampling follows these steps:\n",
    "\n",
    "- Define the clusters and divide the data.\n",
    "- Randomly select some clusters.\n",
    "- Sample from the selected clusters.\n",
    "- Optionally, stratify the sample from the clusters.\n",
    "\n",
    "As an example, you can select a few store locations and Bernoulli sample customers at these locations.\n",
    "\n",
    "The code in the cell bellow divides a population into clusters, randomly selects 3 clusters and computes and prints some summary statistics. Run this code and examine the results."
   ]
  },
  {
   "cell_type": "code",
   "execution_count": 6,
   "metadata": {
    "collapsed": false,
    "scrolled": true
   },
   "outputs": [
    {
     "data": {
      "text/html": [
       "<div>\n",
       "<table border=\"1\" class=\"dataframe\">\n",
       "  <thead>\n",
       "    <tr style=\"text-align: right;\">\n",
       "      <th></th>\n",
       "      <th>group</th>\n",
       "      <th>var</th>\n",
       "    </tr>\n",
       "  </thead>\n",
       "  <tbody>\n",
       "    <tr>\n",
       "      <th>0</th>\n",
       "      <td>0</td>\n",
       "      <td>0.296147</td>\n",
       "    </tr>\n",
       "    <tr>\n",
       "      <th>8</th>\n",
       "      <td>8</td>\n",
       "      <td>0.481308</td>\n",
       "    </tr>\n",
       "    <tr>\n",
       "      <th>7</th>\n",
       "      <td>7</td>\n",
       "      <td>-0.319496</td>\n",
       "    </tr>\n",
       "    <tr>\n",
       "      <th>4</th>\n",
       "      <td>4</td>\n",
       "      <td>-0.887483</td>\n",
       "    </tr>\n",
       "    <tr>\n",
       "      <th>0</th>\n",
       "      <td>0</td>\n",
       "      <td>-1.462401</td>\n",
       "    </tr>\n",
       "    <tr>\n",
       "      <th>0</th>\n",
       "      <td>0</td>\n",
       "      <td>1.069765</td>\n",
       "    </tr>\n",
       "    <tr>\n",
       "      <th>1</th>\n",
       "      <td>1</td>\n",
       "      <td>-0.133934</td>\n",
       "    </tr>\n",
       "    <tr>\n",
       "      <th>9</th>\n",
       "      <td>9</td>\n",
       "      <td>-0.299280</td>\n",
       "    </tr>\n",
       "    <tr>\n",
       "      <th>7</th>\n",
       "      <td>7</td>\n",
       "      <td>-0.447257</td>\n",
       "    </tr>\n",
       "    <tr>\n",
       "      <th>0</th>\n",
       "      <td>0</td>\n",
       "      <td>0.287385</td>\n",
       "    </tr>\n",
       "  </tbody>\n",
       "</table>\n",
       "</div>"
      ],
      "text/plain": [
       "   group       var\n",
       "0      0  0.296147\n",
       "8      8  0.481308\n",
       "7      7 -0.319496\n",
       "4      4 -0.887483\n",
       "0      0 -1.462401\n",
       "0      0  1.069765\n",
       "1      1 -0.133934\n",
       "9      9 -0.299280\n",
       "7      7 -0.447257\n",
       "0      0  0.287385"
      ]
     },
     "execution_count": 6,
     "metadata": {},
     "output_type": "execute_result"
    }
   ],
   "source": [
    "## First compute the clusters\n",
    "num_clusters = 10\n",
    "num_vals = 200\n",
    "## Create a data frame with randomly sampled cluster numbers\n",
    "clusters = pd.DataFrame({'group': range(num_clusters)}).sample(n = num_vals, replace = True)\n",
    "## Add a column to the data frame with Normally distributed values\n",
    "clusters.loc[:, 'var'] = nr.normal(size = num_vals)\n",
    "clusters.head(10) # Print the head to get a feel for these data"
   ]
  },
  {
   "cell_type": "markdown",
   "metadata": {},
   "source": [
    "So that we have a basis of compairison, we will compute the count and mean of each group in our population. "
   ]
  },
  {
   "cell_type": "code",
   "execution_count": 7,
   "metadata": {
    "collapsed": false,
    "scrolled": true
   },
   "outputs": [
    {
     "data": {
      "text/html": [
       "<div>\n",
       "<table border=\"1\" class=\"dataframe\">\n",
       "  <thead>\n",
       "    <tr style=\"text-align: right;\">\n",
       "      <th></th>\n",
       "      <th>count</th>\n",
       "      <th>mean</th>\n",
       "    </tr>\n",
       "    <tr>\n",
       "      <th>group</th>\n",
       "      <th></th>\n",
       "      <th></th>\n",
       "    </tr>\n",
       "  </thead>\n",
       "  <tbody>\n",
       "    <tr>\n",
       "      <th>0</th>\n",
       "      <td>22</td>\n",
       "      <td>-0.159776</td>\n",
       "    </tr>\n",
       "    <tr>\n",
       "      <th>1</th>\n",
       "      <td>25</td>\n",
       "      <td>-0.258403</td>\n",
       "    </tr>\n",
       "    <tr>\n",
       "      <th>2</th>\n",
       "      <td>16</td>\n",
       "      <td>-0.206853</td>\n",
       "    </tr>\n",
       "    <tr>\n",
       "      <th>3</th>\n",
       "      <td>21</td>\n",
       "      <td>0.099767</td>\n",
       "    </tr>\n",
       "    <tr>\n",
       "      <th>4</th>\n",
       "      <td>21</td>\n",
       "      <td>-0.154588</td>\n",
       "    </tr>\n",
       "    <tr>\n",
       "      <th>5</th>\n",
       "      <td>21</td>\n",
       "      <td>0.017417</td>\n",
       "    </tr>\n",
       "    <tr>\n",
       "      <th>6</th>\n",
       "      <td>14</td>\n",
       "      <td>0.136575</td>\n",
       "    </tr>\n",
       "    <tr>\n",
       "      <th>7</th>\n",
       "      <td>23</td>\n",
       "      <td>-0.263826</td>\n",
       "    </tr>\n",
       "    <tr>\n",
       "      <th>8</th>\n",
       "      <td>19</td>\n",
       "      <td>0.015978</td>\n",
       "    </tr>\n",
       "    <tr>\n",
       "      <th>9</th>\n",
       "      <td>18</td>\n",
       "      <td>-0.202622</td>\n",
       "    </tr>\n",
       "  </tbody>\n",
       "</table>\n",
       "</div>"
      ],
      "text/plain": [
       "       count      mean\n",
       "group                 \n",
       "0         22 -0.159776\n",
       "1         25 -0.258403\n",
       "2         16 -0.206853\n",
       "3         21  0.099767\n",
       "4         21 -0.154588\n",
       "5         21  0.017417\n",
       "6         14  0.136575\n",
       "7         23 -0.263826\n",
       "8         19  0.015978\n",
       "9         18 -0.202622"
      ]
     },
     "execution_count": 7,
     "metadata": {},
     "output_type": "execute_result"
    }
   ],
   "source": [
    "count_mean(clusters)"
   ]
  },
  {
   "cell_type": "markdown",
   "metadata": {},
   "source": [
    "Examine these results. Notice that the number of samples in each group, and that the means are close to, but never exactly, zero. \n",
    "\n",
    "Next we randomly sample 3 of the clusters. "
   ]
  },
  {
   "cell_type": "code",
   "execution_count": 8,
   "metadata": {
    "collapsed": false,
    "scrolled": true
   },
   "outputs": [
    {
     "name": "stdout",
     "output_type": "stream",
     "text": [
      "cluster sampled are: \n",
      "5\n",
      "6\n",
      "0\n"
     ]
    },
    {
     "data": {
      "text/html": [
       "<div>\n",
       "<table border=\"1\" class=\"dataframe\">\n",
       "  <thead>\n",
       "    <tr style=\"text-align: right;\">\n",
       "      <th></th>\n",
       "      <th>group</th>\n",
       "      <th>var</th>\n",
       "    </tr>\n",
       "  </thead>\n",
       "  <tbody>\n",
       "    <tr>\n",
       "      <th>0</th>\n",
       "      <td>0</td>\n",
       "      <td>0.296147</td>\n",
       "    </tr>\n",
       "    <tr>\n",
       "      <th>0</th>\n",
       "      <td>0</td>\n",
       "      <td>-1.462401</td>\n",
       "    </tr>\n",
       "    <tr>\n",
       "      <th>0</th>\n",
       "      <td>0</td>\n",
       "      <td>1.069765</td>\n",
       "    </tr>\n",
       "    <tr>\n",
       "      <th>0</th>\n",
       "      <td>0</td>\n",
       "      <td>0.287385</td>\n",
       "    </tr>\n",
       "    <tr>\n",
       "      <th>5</th>\n",
       "      <td>5</td>\n",
       "      <td>-1.176811</td>\n",
       "    </tr>\n",
       "    <tr>\n",
       "      <th>5</th>\n",
       "      <td>5</td>\n",
       "      <td>-0.615659</td>\n",
       "    </tr>\n",
       "    <tr>\n",
       "      <th>6</th>\n",
       "      <td>6</td>\n",
       "      <td>-1.476939</td>\n",
       "    </tr>\n",
       "    <tr>\n",
       "      <th>6</th>\n",
       "      <td>6</td>\n",
       "      <td>-1.124490</td>\n",
       "    </tr>\n",
       "    <tr>\n",
       "      <th>6</th>\n",
       "      <td>6</td>\n",
       "      <td>1.801720</td>\n",
       "    </tr>\n",
       "    <tr>\n",
       "      <th>5</th>\n",
       "      <td>5</td>\n",
       "      <td>-0.388214</td>\n",
       "    </tr>\n",
       "  </tbody>\n",
       "</table>\n",
       "</div>"
      ],
      "text/plain": [
       "   group       var\n",
       "0      0  0.296147\n",
       "0      0 -1.462401\n",
       "0      0  1.069765\n",
       "0      0  0.287385\n",
       "5      5 -1.176811\n",
       "5      5 -0.615659\n",
       "6      6 -1.476939\n",
       "6      6 -1.124490\n",
       "6      6  1.801720\n",
       "5      5 -0.388214"
      ]
     },
     "execution_count": 8,
     "metadata": {},
     "output_type": "execute_result"
    }
   ],
   "source": [
    "## Randomly sample the group numbers, making sure we sample from \n",
    "## unique values of the group numbers. \n",
    "clusters_samples = nr.choice(clusters.loc[:, 'group'].unique(), \n",
    "                             size = 3, replace = False)\n",
    "## Now sample all rows with the selected cluster numbers\n",
    "clus_samples = clusters.loc[clusters.loc[:, 'group'].isin(clusters_samples), :]\n",
    "print('cluster sampled are: ')\n",
    "[print(x) for x in clusters_samples] \n",
    "clus_samples.head(10)"
   ]
  },
  {
   "cell_type": "markdown",
   "metadata": {},
   "source": [
    "You can see the  3 clsuters of 20 cases each which have been selected.\n",
    "\n",
    "Recalling that the population contians groups the sample from the clusters can be summarized by group by runing the code in the cell below. "
   ]
  },
  {
   "cell_type": "code",
   "execution_count": 9,
   "metadata": {
    "collapsed": false
   },
   "outputs": [
    {
     "data": {
      "text/html": [
       "<div>\n",
       "<table border=\"1\" class=\"dataframe\">\n",
       "  <thead>\n",
       "    <tr style=\"text-align: right;\">\n",
       "      <th></th>\n",
       "      <th>count</th>\n",
       "      <th>mean</th>\n",
       "    </tr>\n",
       "    <tr>\n",
       "      <th>group</th>\n",
       "      <th></th>\n",
       "      <th></th>\n",
       "    </tr>\n",
       "  </thead>\n",
       "  <tbody>\n",
       "    <tr>\n",
       "      <th>0</th>\n",
       "      <td>22</td>\n",
       "      <td>-0.159776</td>\n",
       "    </tr>\n",
       "    <tr>\n",
       "      <th>5</th>\n",
       "      <td>21</td>\n",
       "      <td>0.017417</td>\n",
       "    </tr>\n",
       "    <tr>\n",
       "      <th>6</th>\n",
       "      <td>14</td>\n",
       "      <td>0.136575</td>\n",
       "    </tr>\n",
       "  </tbody>\n",
       "</table>\n",
       "</div>"
      ],
      "text/plain": [
       "       count      mean\n",
       "group                 \n",
       "0         22 -0.159776\n",
       "5         21  0.017417\n",
       "6         14  0.136575"
      ]
     },
     "execution_count": 9,
     "metadata": {},
     "output_type": "execute_result"
    }
   ],
   "source": [
    "count_mean(clus_samples)"
   ]
  },
  {
   "cell_type": "markdown",
   "metadata": {},
   "source": [
    "**Your Turn:** In many cases, cluster sampling is often combined with random sampling to reduce the size of the sub-samples. Reducing the sample sizes can be important if the clusters are large or if the collection of data is expensive. \n",
    "\n",
    "Create a stratified sample of the three clusters with `p = 0.1` can then compute and display the count of the samples and the mean using the `count_mean` function. "
   ]
  },
  {
   "cell_type": "code",
   "execution_count": null,
   "metadata": {
    "collapsed": false
   },
   "outputs": [],
   "source": []
  },
  {
   "cell_type": "markdown",
   "metadata": {},
   "source": [
    "Examine the results. Are these samples reasonably representative of the full cluster samples and why. "
   ]
  },
  {
   "cell_type": "markdown",
   "metadata": {},
   "source": [
    "### Systematic Sampling\n",
    "\n",
    "**WARNING: systmatic sampling is a form of convienience sampling. Convienience sampling almost always leads to problems!**\n",
    "\n",
    "In systematic sampling every k th case of the population is selected. As you can imagine, this approach is not a random sampling method, but rather a case of convinience sampling. \n",
    "\n",
    "The code in the cell bellow systematically samples the population by simply taking every 5th value as a sample. Run this code and examine the results. "
   ]
  },
  {
   "cell_type": "code",
   "execution_count": 11,
   "metadata": {
    "collapsed": false
   },
   "outputs": [
    {
     "data": {
      "text/html": [
       "<div>\n",
       "<table border=\"1\" class=\"dataframe\">\n",
       "  <thead>\n",
       "    <tr style=\"text-align: right;\">\n",
       "      <th></th>\n",
       "      <th>group</th>\n",
       "      <th>var</th>\n",
       "    </tr>\n",
       "  </thead>\n",
       "  <tbody>\n",
       "    <tr>\n",
       "      <th>0</th>\n",
       "      <td>1</td>\n",
       "      <td>1.469248</td>\n",
       "    </tr>\n",
       "    <tr>\n",
       "      <th>5</th>\n",
       "      <td>2</td>\n",
       "      <td>-1.636656</td>\n",
       "    </tr>\n",
       "    <tr>\n",
       "      <th>10</th>\n",
       "      <td>2</td>\n",
       "      <td>-0.991691</td>\n",
       "    </tr>\n",
       "    <tr>\n",
       "      <th>15</th>\n",
       "      <td>1</td>\n",
       "      <td>0.379893</td>\n",
       "    </tr>\n",
       "    <tr>\n",
       "      <th>20</th>\n",
       "      <td>2</td>\n",
       "      <td>0.259025</td>\n",
       "    </tr>\n",
       "    <tr>\n",
       "      <th>25</th>\n",
       "      <td>2</td>\n",
       "      <td>-0.456396</td>\n",
       "    </tr>\n",
       "    <tr>\n",
       "      <th>30</th>\n",
       "      <td>0</td>\n",
       "      <td>-0.538969</td>\n",
       "    </tr>\n",
       "    <tr>\n",
       "      <th>35</th>\n",
       "      <td>2</td>\n",
       "      <td>0.175477</td>\n",
       "    </tr>\n",
       "    <tr>\n",
       "      <th>40</th>\n",
       "      <td>2</td>\n",
       "      <td>0.364391</td>\n",
       "    </tr>\n",
       "    <tr>\n",
       "      <th>45</th>\n",
       "      <td>3</td>\n",
       "      <td>-0.561430</td>\n",
       "    </tr>\n",
       "  </tbody>\n",
       "</table>\n",
       "</div>"
      ],
      "text/plain": [
       "    group       var\n",
       "0       1  1.469248\n",
       "5       2 -1.636656\n",
       "10      2 -0.991691\n",
       "15      1  0.379893\n",
       "20      2  0.259025\n",
       "25      2 -0.456396\n",
       "30      0 -0.538969\n",
       "35      2  0.175477\n",
       "40      2  0.364391\n",
       "45      3 -0.561430"
      ]
     },
     "execution_count": 11,
     "metadata": {},
     "output_type": "execute_result"
    }
   ],
   "source": [
    "## Systematic sampling every kth item.\n",
    "k = 5\n",
    "sys_sample = data.iloc[range(0, data.shape[0], k), :]\n",
    "sys_sample.head(10)"
   ]
  },
  {
   "cell_type": "markdown",
   "metadata": {},
   "source": [
    "Next, compute the number of samples and the means of each group based on these samples. Execute the code in the cell below and examine the results."
   ]
  },
  {
   "cell_type": "code",
   "execution_count": 12,
   "metadata": {
    "collapsed": false
   },
   "outputs": [
    {
     "data": {
      "text/html": [
       "<div>\n",
       "<table border=\"1\" class=\"dataframe\">\n",
       "  <thead>\n",
       "    <tr style=\"text-align: right;\">\n",
       "      <th></th>\n",
       "      <th>count</th>\n",
       "      <th>mean</th>\n",
       "    </tr>\n",
       "    <tr>\n",
       "      <th>group</th>\n",
       "      <th></th>\n",
       "      <th></th>\n",
       "    </tr>\n",
       "  </thead>\n",
       "  <tbody>\n",
       "    <tr>\n",
       "      <th>0</th>\n",
       "      <td>4</td>\n",
       "      <td>-0.068625</td>\n",
       "    </tr>\n",
       "    <tr>\n",
       "      <th>1</th>\n",
       "      <td>12</td>\n",
       "      <td>0.003224</td>\n",
       "    </tr>\n",
       "    <tr>\n",
       "      <th>2</th>\n",
       "      <td>17</td>\n",
       "      <td>-0.103669</td>\n",
       "    </tr>\n",
       "    <tr>\n",
       "      <th>3</th>\n",
       "      <td>7</td>\n",
       "      <td>0.364524</td>\n",
       "    </tr>\n",
       "  </tbody>\n",
       "</table>\n",
       "</div>"
      ],
      "text/plain": [
       "       count      mean\n",
       "group                 \n",
       "0          4 -0.068625\n",
       "1         12  0.003224\n",
       "2         17 -0.103669\n",
       "3          7  0.364524"
      ]
     },
     "execution_count": 12,
     "metadata": {},
     "output_type": "execute_result"
    }
   ],
   "source": [
    "count_mean(sys_sample)"
   ]
  },
  {
   "cell_type": "markdown",
   "metadata": {
    "collapsed": false
   },
   "source": [
    "Notice the differing sizes of the sample in each group and the bias in the mean estimates. This illustrates the hazards of convienience sampling. \n",
    "\n",
    "### A few more thoughts on sampling\n",
    "\n",
    "- Whenever you are planing to sample data, make sure you have a clear sampling plan. \n",
    "- Know number of clusters, strata, samples in advance.\n",
    "- Don’t stop sampling when desired result is achieved: e.g. error measure! \n",
    "- Note that random sampling, if done properly, controls for database effects, like indexing. \n"
   ]
  },
  {
   "cell_type": "markdown",
   "metadata": {},
   "source": [
    "## Sampling and the law of large numbers\n",
    "\n",
    "The **law of large numbers** is a theorem that states that statistics of independent samples converge to the population values as more unbiased experiments are performed. We can write this mathematically for the **expected value** of the mean as:\n",
    "\n",
    "$$Let\\ \\bar{X} = \\frac{1}{n}\\sum_{i=1}^{n} X_i\\\\\n",
    "then\\ by\\ the\\ law\\ of\\ Large\\ Numbers\\\\\n",
    "\\bar{X} \\rightarrow E(X) = \\mu\\\\\n",
    "as\\\\\n",
    "n \\rightarrow \\infty$$\n",
    "\n",
    "The law of large numbers is foundational to statistics. We rely on the law of large numbers whenever we work with samples of data. We can rest assured that larger samples will be more representatives of the population we are sampling. This theorem is the foundation of not only sampling theory, but modern compuation methods including, simulation, bootstrap resampling, and Monte Carlo methods. If the real world did not follow this theorem much of statistics, to say nothing of science and technology would fail badly. \n",
    "\n",
    "Given this great importance, it should not be surprising that the law of large numbers has a long history. Jacob Bernoulli postumously published the first proof for the Binomial distribution in 1713. In fact the law of large numbers is sometimes referred to as **Bernoulli's theorm**. A more general proof was published by Poisson in 1837.\n",
    "\n",
    "Let's think about a simple example. The mean of 50 coin flips (0,1)=(T,H) is usually farther away from the true mean of 0.5 than 5,000 coin flips. The code in the cell below computes and then samples a population of 1,000,000 Bernoulli trials with $p=0.5$. Run this code and  examine the results. Does the expected value, or mean converge to 0.5 as `n` increases?"
   ]
  },
  {
   "cell_type": "code",
   "execution_count": 13,
   "metadata": {
    "collapsed": false
   },
   "outputs": [
    {
     "name": "stdout",
     "output_type": "stream",
     "text": [
      "0.60\n",
      "0.42\n",
      "0.50\n",
      "0.50\n"
     ]
    }
   ],
   "source": [
    "nr.seed(3457)\n",
    "n = 1\n",
    "p = 0.5\n",
    "size = 1000000\n",
    "# Create a large binomial distributed populatiion. \n",
    "pop = pd.DataFrame({'var':nr.binomial(n, p, size)}) \n",
    "# Sample the population for different sizes and compute the mean\n",
    "out = [pop.sample(n = x).mean(axis = 0) for x in [5, 50, 500, 5000]] \n",
    "for x in out: print(\"%.2f\" % x)"
   ]
  },
  {
   "cell_type": "markdown",
   "metadata": {},
   "source": [
    "### Convergance of Bernolli trials \n",
    "\n",
    "Next, let's use the series of Bernuoulli trie to examine the convergance of the estimated probability, $p$, for a number of flips of a fair coin. This series should converge to $p = 0.5$ as the number of samples increses. The code in the cell below computes the running mean of the realization of Bernoulli trials as the sample size increases. Run this code and examine the results. "
   ]
  },
  {
   "cell_type": "code",
   "execution_count": 14,
   "metadata": {
    "collapsed": false
   },
   "outputs": [],
   "source": [
    "# Calculate and plot a running average of N-trials of flipping a fair coin\n",
    "import numpy as np\n",
    "num_samps = 5000\n",
    "running_average = pd.DataFrame({'num_samples': range(1, num_samps), \n",
    "                                'mean':np.concatenate([np.mean(pop.sample(n = x)) for x in range(1, num_samps)]).ravel().tolist()}) "
   ]
  },
  {
   "cell_type": "markdown",
   "metadata": {},
   "source": [
    "Now, run the code in the cell below to plot $p$ for the different sample sizes. Do the results appear to be converging to $p$ as $n \\rightarrow \\infty$."
   ]
  },
  {
   "cell_type": "code",
   "execution_count": 15,
   "metadata": {
    "collapsed": false,
    "scrolled": true
   },
   "outputs": [
    {
     "data": {
      "image/png": "[encoded data removed]",
      "text/plain": [
       "<matplotlib.figure.Figure at 0x23e8cb6f0b8>"
      ]
     },
     "metadata": {},
     "output_type": "display_data"
    },
    {
     "data": {
      "image/png": "[encoded data removed]",
      "text/plain": [
       "<matplotlib.figure.Figure at 0x23e8c89cf60>"
      ]
     },
     "metadata": {},
     "output_type": "display_data"
    }
   ],
   "source": [
    "%matplotlib inline\n",
    "def plot_samples(df, num_plot):\n",
    "    import matplotlib.pyplot as plt\n",
    "    running_average.iloc[:num_plot, :].plot(x = 'num_samples', y = 'mean')\n",
    "    plt.ylabel('Mean estimate')\n",
    "    plt.xlabel('Number of samples')\n",
    "    plt.title('Mean estimate vs. number of samples')\n",
    "plot_samples(running_average, 500)\n",
    "plot_samples(running_average, 5000)"
   ]
  },
  {
   "cell_type": "markdown",
   "metadata": {},
   "source": [
    "### Convergance for a Normal Distribution\n",
    "\n",
    "As we sample from a Normal distribution, the mean of the sample will converge to the population mean and the sample standard deviation will converge to the population statndard deviation. The standard error of the sample mean should converge as:\n",
    "\n",
    "$$se = \\frac{sd}{\\sqrt(n)}$$\n",
    "\n",
    "The code in the cell below computes the mean and standard error of the mean estimate for 10 to 10,000 samples of a Normal distribution. Execute this code."
   ]
  },
  {
   "cell_type": "code",
   "execution_count": 16,
   "metadata": {
    "collapsed": false
   },
   "outputs": [],
   "source": [
    "## Plot means and SE for 10000 Normal distributions\n",
    "import math\n",
    "start = 10\n",
    "end = 10000\n",
    "step = 10\n",
    "norms = pd.DataFrame({'num_samples':range(start, end, step),\n",
    "                      'mean': [np.mean(nr.normal(size = x)) for x in range(start, end, step)],\n",
    "                       'se_up':[1/math.sqrt(n) for n in range(start, end, step)],\n",
    "                       'se_dn':[-1/math.sqrt(n) for n in range(start, end, step)]})"
   ]
  },
  {
   "cell_type": "markdown",
   "metadata": {},
   "source": [
    "Run the code in the cell below to plot the convergance of the sample mean as the number of samples increases."
   ]
  },
  {
   "cell_type": "code",
   "execution_count": 17,
   "metadata": {
    "collapsed": false,
    "scrolled": true
   },
   "outputs": [
    {
     "data": {
      "image/png": "[encoded data removed]",
      "text/plain": [
       "<matplotlib.figure.Figure at 0x23e8f0715f8>"
      ]
     },
     "metadata": {},
     "output_type": "display_data"
    }
   ],
   "source": [
    "def plot_se(df):\n",
    "    import matplotlib.pyplot as plt\n",
    "    ax = plt.figure(figsize=(6, 6)).gca() # define axis\n",
    "    norms.plot.scatter(x = 'num_samples', y = 'mean', alpha = 0.2, style=\"o\", ax = ax)\n",
    "    norms.plot(x = 'num_samples', y = 'se_up', c = 'red', ax = ax) \n",
    "    norms.plot(x = 'num_samples', y = 'se_dn', c = 'red', ax = ax) \n",
    "    ax.set_ylabel('Mean estimate')\n",
    "    ax.set_xlabel('Number of samples')\n",
    "    ax.set_title('Mean estimate vs. number of samples')\n",
    "plot_se(norms)    "
   ]
  },
  {
   "cell_type": "markdown",
   "metadata": {},
   "source": [
    "**Your Turn:** In the cell below create and exectue code to plot the convergance of the sample standard deviation. Include lines showing the expected bounds on the standard error. "
   ]
  },
  {
   "cell_type": "code",
   "execution_count": null,
   "metadata": {
    "collapsed": false
   },
   "outputs": [],
   "source": []
  },
  {
   "cell_type": "markdown",
   "metadata": {
    "collapsed": true
   },
   "source": [
    "Examine this result. Does the estiamte of the standard deviation appear to converge as expected as the number of samples increase? "
   ]
  },
  {
   "cell_type": "markdown",
   "metadata": {},
   "source": [
    "## Summary\n",
    "\n",
    "In the lesson you have explored the concepts of sampling and how sampling relates to the law of large numbers. Nearly all data we work with as data scientists is sampled from larger populations. It is therefore important to have an understanding of sampling methods and the convergance of statistical estimates. \n",
    "\n",
    "Specifically in this lesson you have done the following:\n",
    "- Used Bernoulli sampling to generate randomized samples of a population.\n",
    "- Applied stratified sampling to populations with unequal numbers of members. \n",
    "- Used cluster sampling to reduce the number of samples required for cases where data collection is expensive.\n",
    "- Investigated the confergence of sample estimated statistics as the sample size grows. This convergence is referred to as *The Law of Large Numbers*. "
   ]
  },
  {
   "cell_type": "code",
   "execution_count": null,
   "metadata": {
    "collapsed": true
   },
   "outputs": [],
   "source": []
  }
 ],
 "metadata": {
  "anaconda-cloud": {},
  "kernelspec": {
   "display_name": "Python [default]",
   "language": "python",
   "name": "python3"
  },
  "language_info": {
   "codemirror_mode": {
    "name": "ipython",
    "version": 3
   },
   "file_extension": ".py",
   "mimetype": "text/x-python",
   "name": "python",
   "nbconvert_exporter": "python",
   "pygments_lexer": "ipython3",
   "version": "3.5.2"
  }
 },
 "nbformat": 4,
 "nbformat_minor": 1
}
